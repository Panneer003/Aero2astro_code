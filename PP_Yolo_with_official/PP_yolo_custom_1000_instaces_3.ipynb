{
  "nbformat": 4,
  "nbformat_minor": 0,
  "metadata": {
    "colab": {
      "name": "PP-yolo_cus.ipynb",
      "provenance": []
    },
    "kernelspec": {
      "name": "python3",
      "display_name": "Python 3"
    },
    "language_info": {
      "name": "python"
    },
    "accelerator": "GPU"
  },
  "cells": [
    {
      "cell_type": "code",
      "metadata": {
        "colab": {
          "base_uri": "https://localhost:8080/"
        },
        "id": "WS2aPWvJLiDN",
        "outputId": "259a28a8-0402-47a3-8768-fd83f846e6ab"
      },
      "source": [
        "# Mount Drive\n",
        "from google.colab import drive \n",
        "drive.mount('/content/gdrive/') "
      ],
      "execution_count": 1,
      "outputs": [
        {
          "output_type": "stream",
          "text": [
            "Mounted at /content/gdrive/\n"
          ],
          "name": "stdout"
        }
      ]
    },
    {
      "cell_type": "code",
      "metadata": {
        "colab": {
          "base_uri": "https://localhost:8080/"
        },
        "id": "6cj_yUA6Lqzk",
        "outputId": "da20ec85-c8b5-423e-e57c-4c6cba6f5a5a"
      },
      "source": [
        "!nvidia-smi"
      ],
      "execution_count": null,
      "outputs": [
        {
          "output_type": "stream",
          "text": [
            "Fri Jul 16 06:51:40 2021       \n",
            "+-----------------------------------------------------------------------------+\n",
            "| NVIDIA-SMI 470.42.01    Driver Version: 460.32.03    CUDA Version: 11.2     |\n",
            "|-------------------------------+----------------------+----------------------+\n",
            "| GPU  Name        Persistence-M| Bus-Id        Disp.A | Volatile Uncorr. ECC |\n",
            "| Fan  Temp  Perf  Pwr:Usage/Cap|         Memory-Usage | GPU-Util  Compute M. |\n",
            "|                               |                      |               MIG M. |\n",
            "|===============================+======================+======================|\n",
            "|   0  Tesla T4            Off  | 00000000:00:04.0 Off |                    0 |\n",
            "| N/A   67C    P8    12W /  70W |      0MiB / 15109MiB |      0%      Default |\n",
            "|                               |                      |                  N/A |\n",
            "+-------------------------------+----------------------+----------------------+\n",
            "                                                                               \n",
            "+-----------------------------------------------------------------------------+\n",
            "| Processes:                                                                  |\n",
            "|  GPU   GI   CI        PID   Type   Process name                  GPU Memory |\n",
            "|        ID   ID                                                   Usage      |\n",
            "|=============================================================================|\n",
            "|  No running processes found                                                 |\n",
            "+-----------------------------------------------------------------------------+\n"
          ],
          "name": "stdout"
        }
      ]
    },
    {
      "cell_type": "code",
      "metadata": {
        "colab": {
          "base_uri": "https://localhost:8080/"
        },
        "id": "f8aX-5ltL0oi",
        "outputId": "529be2b0-8bf5-4652-bd2d-0c0d695844a4"
      },
      "source": [
        "# Package for download files from drive\n",
        "!pip install gdown"
      ],
      "execution_count": null,
      "outputs": [
        {
          "output_type": "stream",
          "text": [
            "Requirement already satisfied: gdown in /usr/local/lib/python3.7/dist-packages (3.6.4)\n",
            "Requirement already satisfied: six in /usr/local/lib/python3.7/dist-packages (from gdown) (1.15.0)\n",
            "Requirement already satisfied: tqdm in /usr/local/lib/python3.7/dist-packages (from gdown) (4.41.1)\n",
            "Requirement already satisfied: requests in /usr/local/lib/python3.7/dist-packages (from gdown) (2.23.0)\n",
            "Requirement already satisfied: certifi>=2017.4.17 in /usr/local/lib/python3.7/dist-packages (from requests->gdown) (2021.5.30)\n",
            "Requirement already satisfied: idna<3,>=2.5 in /usr/local/lib/python3.7/dist-packages (from requests->gdown) (2.10)\n",
            "Requirement already satisfied: chardet<4,>=3.0.2 in /usr/local/lib/python3.7/dist-packages (from requests->gdown) (3.0.4)\n",
            "Requirement already satisfied: urllib3!=1.25.0,!=1.25.1,<1.26,>=1.21.1 in /usr/local/lib/python3.7/dist-packages (from requests->gdown) (1.24.3)\n"
          ],
          "name": "stdout"
        }
      ]
    },
    {
      "cell_type": "code",
      "metadata": {
        "colab": {
          "base_uri": "https://localhost:8080/"
        },
        "id": "PwBM1l0zM_GR",
        "outputId": "5bd0c21e-5ee3-4276-b510-5393b0a7f4c0"
      },
      "source": [
        "%cd /content/gdrive/MyDrive/PP-Yolo/PaddleDetection"
      ],
      "execution_count": 2,
      "outputs": [
        {
          "output_type": "stream",
          "text": [
            "[Errno 2] No such file or directory: '/content/gdrive/MyDrive/PP-Yolo/PaddleDetection'\n",
            "/content\n"
          ],
          "name": "stdout"
        }
      ]
    },
    {
      "cell_type": "code",
      "metadata": {
        "colab": {
          "base_uri": "https://localhost:8080/"
        },
        "id": "X0qltJ23NFnI",
        "outputId": "b825f321-37d6-4fe9-c303-3adaefa022c9"
      },
      "source": [
        "#instal paddle paddle\n",
        "!python -m pip install paddlepaddle-gpu==2.1.0.post101 -f https://paddlepaddle.org.cn/whl/mkl/stable.html # For GPU mode\n",
        "#!python -m pip install paddlepaddle -i https://mirror.baidu.com/pypi/simple   # For cpu mode"
      ],
      "execution_count": 3,
      "outputs": [
        {
          "output_type": "stream",
          "text": [
            "Looking in links: https://paddlepaddle.org.cn/whl/mkl/stable.html\n",
            "Collecting paddlepaddle-gpu==2.1.0.post101\n",
            "\u001b[?25l  Downloading https://paddle-wheel.bj.bcebos.com/2.1.0-gpu-cuda10.1-cudnn7-mkl-gcc5.4/paddlepaddle_gpu-2.1.0.post101-cp37-cp37m-linux_x86_64.whl (344.9MB)\n",
            "\u001b[K     |████████████████████████████████| 344.9MB 42kB/s \n",
            "\u001b[?25hRequirement already satisfied: Pillow in /usr/local/lib/python3.7/dist-packages (from paddlepaddle-gpu==2.1.0.post101) (7.1.2)\n",
            "Requirement already satisfied: protobuf>=3.1.0 in /usr/local/lib/python3.7/dist-packages (from paddlepaddle-gpu==2.1.0.post101) (3.17.3)\n",
            "Requirement already satisfied: six in /usr/local/lib/python3.7/dist-packages (from paddlepaddle-gpu==2.1.0.post101) (1.15.0)\n",
            "Requirement already satisfied: requests>=2.20.0 in /usr/local/lib/python3.7/dist-packages (from paddlepaddle-gpu==2.1.0.post101) (2.23.0)\n",
            "Requirement already satisfied: numpy>=1.13; python_version >= \"3.5\" and platform_system != \"Windows\" in /usr/local/lib/python3.7/dist-packages (from paddlepaddle-gpu==2.1.0.post101) (1.19.5)\n",
            "Requirement already satisfied: astor in /usr/local/lib/python3.7/dist-packages (from paddlepaddle-gpu==2.1.0.post101) (0.8.1)\n",
            "Requirement already satisfied: gast>=0.3.3; platform_system != \"Windows\" in /usr/local/lib/python3.7/dist-packages (from paddlepaddle-gpu==2.1.0.post101) (0.4.0)\n",
            "Requirement already satisfied: decorator==4.4.2 in /usr/local/lib/python3.7/dist-packages (from paddlepaddle-gpu==2.1.0.post101) (4.4.2)\n",
            "Requirement already satisfied: urllib3!=1.25.0,!=1.25.1,<1.26,>=1.21.1 in /usr/local/lib/python3.7/dist-packages (from requests>=2.20.0->paddlepaddle-gpu==2.1.0.post101) (1.24.3)\n",
            "Requirement already satisfied: certifi>=2017.4.17 in /usr/local/lib/python3.7/dist-packages (from requests>=2.20.0->paddlepaddle-gpu==2.1.0.post101) (2021.5.30)\n",
            "Requirement already satisfied: chardet<4,>=3.0.2 in /usr/local/lib/python3.7/dist-packages (from requests>=2.20.0->paddlepaddle-gpu==2.1.0.post101) (3.0.4)\n",
            "Requirement already satisfied: idna<3,>=2.5 in /usr/local/lib/python3.7/dist-packages (from requests>=2.20.0->paddlepaddle-gpu==2.1.0.post101) (2.10)\n",
            "Installing collected packages: paddlepaddle-gpu\n",
            "Successfully installed paddlepaddle-gpu-2.1.0.post101\n"
          ],
          "name": "stdout"
        }
      ]
    },
    {
      "cell_type": "code",
      "metadata": {
        "colab": {
          "base_uri": "https://localhost:8080/"
        },
        "id": "_GlJfnXTNJTm",
        "outputId": "9cefd42f-b938-48a5-f01b-45a4061b8e5a"
      },
      "source": [
        "# Install paddle paddle detection\n",
        "!pip install paddledet==2.1.0 -i https://mirror.baidu.com/pypi/simple"
      ],
      "execution_count": 4,
      "outputs": [
        {
          "output_type": "stream",
          "text": [
            "Looking in indexes: https://mirror.baidu.com/pypi/simple\n",
            "Collecting paddledet==2.1.0\n",
            "\u001b[?25l  Downloading https://mirror.baidu.com/pypi/packages/c4/bb/00c70533735da3ed5741f0d5823f6560148cff4cd6c01b9bef23f2ea8956/paddledet-2.1.0-py3-none-any.whl (416kB)\n",
            "\u001b[K     |████████████████████████████████| 419kB 202kB/s \n",
            "\u001b[?25hRequirement already satisfied: opencv-python in /usr/local/lib/python3.7/dist-packages (from paddledet==2.1.0) (4.1.2.30)\n",
            "Collecting visualdl>=2.1.0; python_version <= \"3.7\"\n",
            "\u001b[?25l  Downloading https://mirror.baidu.com/pypi/packages/31/99/f5f50d035006b0d9304700facd9e1c843af8e02569474996d1b6a79529f6/visualdl-2.2.0-py3-none-any.whl (2.7MB)\n",
            "\u001b[K     |████████████████████████████████| 2.7MB 2.3MB/s \n",
            "\u001b[?25hRequirement already satisfied: sklearn in /usr/local/lib/python3.7/dist-packages (from paddledet==2.1.0) (0.0)\n",
            "Requirement already satisfied: Cython in /usr/local/lib/python3.7/dist-packages (from paddledet==2.1.0) (0.29.23)\n",
            "Requirement already satisfied: setuptools>=42.0.0 in /usr/local/lib/python3.7/dist-packages (from paddledet==2.1.0) (57.0.0)\n",
            "Requirement already satisfied: shapely in /usr/local/lib/python3.7/dist-packages (from paddledet==2.1.0) (1.7.1)\n",
            "Requirement already satisfied: PyYAML in /usr/local/lib/python3.7/dist-packages (from paddledet==2.1.0) (3.13)\n",
            "Collecting lap\n",
            "\u001b[?25l  Downloading https://mirror.baidu.com/pypi/packages/bf/64/d9fb6a75b15e783952b2fec6970f033462e67db32dc43dfbb404c14e91c2/lap-0.4.0.tar.gz (1.5MB)\n",
            "\u001b[K     |████████████████████████████████| 1.5MB 12.2MB/s \n",
            "\u001b[?25hCollecting motmetrics\n",
            "\u001b[?25l  Downloading https://mirror.baidu.com/pypi/packages/9c/28/9c3bc8e2a87f4c9e7b04ab72856ec7f9895a66681a65973ffaf9562ef879/motmetrics-1.2.0-py3-none-any.whl (151kB)\n",
            "\u001b[K     |████████████████████████████████| 153kB 17.6MB/s \n",
            "\u001b[?25hRequirement already satisfied: scipy in /usr/local/lib/python3.7/dist-packages (from paddledet==2.1.0) (1.4.1)\n",
            "Requirement already satisfied: typeguard; python_version >= \"3.4\" in /usr/local/lib/python3.7/dist-packages (from paddledet==2.1.0) (2.7.1)\n",
            "Requirement already satisfied: pycocotools in /usr/local/lib/python3.7/dist-packages (from paddledet==2.1.0) (2.0.2)\n",
            "Requirement already satisfied: openpyxl in /usr/local/lib/python3.7/dist-packages (from paddledet==2.1.0) (2.5.9)\n",
            "Requirement already satisfied: tqdm in /usr/local/lib/python3.7/dist-packages (from paddledet==2.1.0) (4.41.1)\n",
            "Collecting terminaltables\n",
            "  Downloading https://mirror.baidu.com/pypi/packages/9b/c4/4a21174f32f8a7e1104798c445dacdc1d4df86f2f26722767034e4de4bff/terminaltables-3.1.0.tar.gz\n",
            "Requirement already satisfied: numpy>=1.14.5 in /usr/local/lib/python3.7/dist-packages (from opencv-python->paddledet==2.1.0) (1.19.5)\n",
            "Collecting Flask-Babel>=1.0.0\n",
            "  Downloading https://mirror.baidu.com/pypi/packages/ab/3e/02331179ffab8b79e0383606a028b6a60fb1b4419b84935edd43223406a0/Flask_Babel-2.0.0-py3-none-any.whl\n",
            "Requirement already satisfied: matplotlib in /usr/local/lib/python3.7/dist-packages (from visualdl>=2.1.0; python_version <= \"3.7\"->paddledet==2.1.0) (3.2.2)\n",
            "Requirement already satisfied: Pillow>=7.0.0 in /usr/local/lib/python3.7/dist-packages (from visualdl>=2.1.0; python_version <= \"3.7\"->paddledet==2.1.0) (7.1.2)\n",
            "Requirement already satisfied: flask>=1.1.1 in /usr/local/lib/python3.7/dist-packages (from visualdl>=2.1.0; python_version <= \"3.7\"->paddledet==2.1.0) (1.1.4)\n",
            "Collecting shellcheck-py\n",
            "\u001b[?25l  Downloading https://mirror.baidu.com/pypi/packages/77/c9/6f84db444de69e1bdbfd168ae6f3d5af72107c16cd9db3c0a1f8e41204d1/shellcheck_py-0.7.2.1-py2.py3-none-manylinux1_x86_64.whl (2.0MB)\n",
            "\u001b[K     |████████████████████████████████| 2.0MB 668kB/s \n",
            "\u001b[?25hRequirement already satisfied: requests in /usr/local/lib/python3.7/dist-packages (from visualdl>=2.1.0; python_version <= \"3.7\"->paddledet==2.1.0) (2.23.0)\n",
            "Requirement already satisfied: pandas in /usr/local/lib/python3.7/dist-packages (from visualdl>=2.1.0; python_version <= \"3.7\"->paddledet==2.1.0) (1.1.5)\n",
            "Collecting pre-commit\n",
            "\u001b[?25l  Downloading https://mirror.baidu.com/pypi/packages/b2/38/3e5475cbd6921cd8208a06c113384a88bb19ce0cda1155f33d4f19183de1/pre_commit-2.13.0-py2.py3-none-any.whl (190kB)\n",
            "\u001b[K     |████████████████████████████████| 194kB 1.0MB/s \n",
            "\u001b[?25hRequirement already satisfied: six>=1.14.0 in /usr/local/lib/python3.7/dist-packages (from visualdl>=2.1.0; python_version <= \"3.7\"->paddledet==2.1.0) (1.15.0)\n",
            "Requirement already satisfied: protobuf>=3.11.0 in /usr/local/lib/python3.7/dist-packages (from visualdl>=2.1.0; python_version <= \"3.7\"->paddledet==2.1.0) (3.17.3)\n",
            "Collecting bce-python-sdk\n",
            "\u001b[?25l  Downloading https://mirror.baidu.com/pypi/packages/28/75/8bf48f52fd50a3b6f54c32e0c1c2791e80eb7bc54a712210a69e4236aaac/bce_python_sdk-0.8.61-py3-none-any.whl (197kB)\n",
            "\u001b[K     |████████████████████████████████| 204kB 1.0MB/s \n",
            "\u001b[?25hCollecting flake8>=3.7.9\n",
            "\u001b[?25l  Downloading https://mirror.baidu.com/pypi/packages/fc/80/35a0716e5d5101e643404dabd20f07f5528a21f3ef4032d31a49c913237b/flake8-3.9.2-py2.py3-none-any.whl (73kB)\n",
            "\u001b[K     |████████████████████████████████| 81kB 1.2MB/s \n",
            "\u001b[?25hRequirement already satisfied: scikit-learn in /usr/local/lib/python3.7/dist-packages (from sklearn->paddledet==2.1.0) (0.22.2.post1)\n",
            "Collecting xmltodict>=0.12.0\n",
            "  Downloading https://mirror.baidu.com/pypi/packages/28/fd/30d5c1d3ac29ce229f6bdc40bbc20b28f716e8b363140c26eff19122d8a5/xmltodict-0.12.0-py2.py3-none-any.whl\n",
            "Collecting pytest-benchmark\n",
            "\u001b[?25l  Downloading https://mirror.baidu.com/pypi/packages/2c/60/423a63fb190a0483d049786a121bd3dfd7d93bb5ff1bb5b5cd13e5df99a7/pytest_benchmark-3.4.1-py2.py3-none-any.whl (50kB)\n",
            "\u001b[K     |████████████████████████████████| 51kB 1.2MB/s \n",
            "\u001b[?25hCollecting flake8-import-order\n",
            "  Downloading https://mirror.baidu.com/pypi/packages/ab/52/cf2d6e2c505644ca06de2f6f3546f1e4f2b7be34246c9e0757c6048868f9/flake8_import_order-0.18.1-py2.py3-none-any.whl\n",
            "Requirement already satisfied: pytest in /usr/local/lib/python3.7/dist-packages (from motmetrics->paddledet==2.1.0) (3.6.4)\n",
            "Requirement already satisfied: et-xmlfile in /usr/local/lib/python3.7/dist-packages (from openpyxl->paddledet==2.1.0) (1.1.0)\n",
            "Requirement already satisfied: jdcal in /usr/local/lib/python3.7/dist-packages (from openpyxl->paddledet==2.1.0) (1.4.1)\n",
            "Requirement already satisfied: Babel>=2.3 in /usr/local/lib/python3.7/dist-packages (from Flask-Babel>=1.0.0->visualdl>=2.1.0; python_version <= \"3.7\"->paddledet==2.1.0) (2.9.1)\n",
            "Requirement already satisfied: pytz in /usr/local/lib/python3.7/dist-packages (from Flask-Babel>=1.0.0->visualdl>=2.1.0; python_version <= \"3.7\"->paddledet==2.1.0) (2018.9)\n",
            "Requirement already satisfied: Jinja2>=2.5 in /usr/local/lib/python3.7/dist-packages (from Flask-Babel>=1.0.0->visualdl>=2.1.0; python_version <= \"3.7\"->paddledet==2.1.0) (2.11.3)\n",
            "Requirement already satisfied: python-dateutil>=2.1 in /usr/local/lib/python3.7/dist-packages (from matplotlib->visualdl>=2.1.0; python_version <= \"3.7\"->paddledet==2.1.0) (2.8.1)\n",
            "Requirement already satisfied: cycler>=0.10 in /usr/local/lib/python3.7/dist-packages (from matplotlib->visualdl>=2.1.0; python_version <= \"3.7\"->paddledet==2.1.0) (0.10.0)\n",
            "Requirement already satisfied: pyparsing!=2.0.4,!=2.1.2,!=2.1.6,>=2.0.1 in /usr/local/lib/python3.7/dist-packages (from matplotlib->visualdl>=2.1.0; python_version <= \"3.7\"->paddledet==2.1.0) (2.4.7)\n",
            "Requirement already satisfied: kiwisolver>=1.0.1 in /usr/local/lib/python3.7/dist-packages (from matplotlib->visualdl>=2.1.0; python_version <= \"3.7\"->paddledet==2.1.0) (1.3.1)\n",
            "Requirement already satisfied: click<8.0,>=5.1 in /usr/local/lib/python3.7/dist-packages (from flask>=1.1.1->visualdl>=2.1.0; python_version <= \"3.7\"->paddledet==2.1.0) (7.1.2)\n",
            "Requirement already satisfied: itsdangerous<2.0,>=0.24 in /usr/local/lib/python3.7/dist-packages (from flask>=1.1.1->visualdl>=2.1.0; python_version <= \"3.7\"->paddledet==2.1.0) (1.1.0)\n",
            "Requirement already satisfied: Werkzeug<2.0,>=0.15 in /usr/local/lib/python3.7/dist-packages (from flask>=1.1.1->visualdl>=2.1.0; python_version <= \"3.7\"->paddledet==2.1.0) (1.0.1)\n",
            "Requirement already satisfied: chardet<4,>=3.0.2 in /usr/local/lib/python3.7/dist-packages (from requests->visualdl>=2.1.0; python_version <= \"3.7\"->paddledet==2.1.0) (3.0.4)\n",
            "Requirement already satisfied: urllib3!=1.25.0,!=1.25.1,<1.26,>=1.21.1 in /usr/local/lib/python3.7/dist-packages (from requests->visualdl>=2.1.0; python_version <= \"3.7\"->paddledet==2.1.0) (1.24.3)\n",
            "Requirement already satisfied: certifi>=2017.4.17 in /usr/local/lib/python3.7/dist-packages (from requests->visualdl>=2.1.0; python_version <= \"3.7\"->paddledet==2.1.0) (2021.5.30)\n",
            "Requirement already satisfied: idna<3,>=2.5 in /usr/local/lib/python3.7/dist-packages (from requests->visualdl>=2.1.0; python_version <= \"3.7\"->paddledet==2.1.0) (2.10)\n",
            "Collecting identify>=1.0.0\n",
            "\u001b[?25l  Downloading https://mirror.baidu.com/pypi/packages/c7/b7/0f4009c9e23f7017be400e06dc0251671d64ba4fddaab82c98210d649a15/identify-2.2.11-py2.py3-none-any.whl (98kB)\n",
            "\u001b[K     |████████████████████████████████| 102kB 1.1MB/s \n",
            "\u001b[?25hRequirement already satisfied: importlib-metadata; python_version < \"3.8\" in /usr/local/lib/python3.7/dist-packages (from pre-commit->visualdl>=2.1.0; python_version <= \"3.7\"->paddledet==2.1.0) (4.6.1)\n",
            "Collecting virtualenv>=20.0.8\n",
            "\u001b[?25l  Downloading https://mirror.baidu.com/pypi/packages/bc/c1/03d8fe7a20b4b2546037c36e5e0f6080522d36421fbbf4d91211fadac150/virtualenv-20.6.0-py2.py3-none-any.whl (5.3MB)\n",
            "\u001b[K     |████████████████████████████████| 5.3MB 2.5MB/s \n",
            "\u001b[?25hCollecting cfgv>=2.0.0\n",
            "  Downloading https://mirror.baidu.com/pypi/packages/49/54/83bf9b6ba673bf7d5ebe3846a5f6d3a53925cfd331aa29ec6b5b9c42a850/cfgv-3.3.0-py2.py3-none-any.whl\n",
            "Collecting nodeenv>=0.11.1\n",
            "  Downloading https://mirror.baidu.com/pypi/packages/54/73/56c89b343befb9c63e8117294d265458f0ff726fa2abcdc6bb5ec5e66a1a/nodeenv-1.6.0-py2.py3-none-any.whl\n",
            "Requirement already satisfied: toml in /usr/local/lib/python3.7/dist-packages (from pre-commit->visualdl>=2.1.0; python_version <= \"3.7\"->paddledet==2.1.0) (0.10.2)\n",
            "Requirement already satisfied: future>=0.6.0 in /usr/local/lib/python3.7/dist-packages (from bce-python-sdk->visualdl>=2.1.0; python_version <= \"3.7\"->paddledet==2.1.0) (0.16.0)\n",
            "Collecting pycryptodome>=3.8.0\n",
            "\u001b[?25l  Downloading https://mirror.baidu.com/pypi/packages/ad/16/9627ab0493894a11c68e46000dbcc82f578c8ff06bc2980dcd016aea9bd3/pycryptodome-3.10.1-cp35-abi3-manylinux2010_x86_64.whl (1.9MB)\n",
            "\u001b[K     |████████████████████████████████| 1.9MB 3.5MB/s \n",
            "\u001b[?25hCollecting pyflakes<2.4.0,>=2.3.0\n",
            "\u001b[?25l  Downloading https://mirror.baidu.com/pypi/packages/6c/11/2a745612f1d3cbbd9c69ba14b1b43a35a2f5c3c81cd0124508c52c64307f/pyflakes-2.3.1-py2.py3-none-any.whl (68kB)\n",
            "\u001b[K     |████████████████████████████████| 71kB 4.1MB/s \n",
            "\u001b[?25hCollecting mccabe<0.7.0,>=0.6.0\n",
            "  Downloading https://mirror.baidu.com/pypi/packages/87/89/479dc97e18549e21354893e4ee4ef36db1d237534982482c3681ee6e7b57/mccabe-0.6.1-py2.py3-none-any.whl\n",
            "Collecting pycodestyle<2.8.0,>=2.7.0\n",
            "\u001b[?25l  Downloading https://mirror.baidu.com/pypi/packages/de/cc/227251b1471f129bc35e966bb0fceb005969023926d744139642d847b7ae/pycodestyle-2.7.0-py2.py3-none-any.whl (41kB)\n",
            "\u001b[K     |████████████████████████████████| 51kB 4.0MB/s \n",
            "\u001b[?25hRequirement already satisfied: joblib>=0.11 in /usr/local/lib/python3.7/dist-packages (from scikit-learn->sklearn->paddledet==2.1.0) (1.0.1)\n",
            "Collecting py-cpuinfo\n",
            "\u001b[?25l  Downloading https://mirror.baidu.com/pypi/packages/e6/ba/77120e44cbe9719152415b97d5bfb29f4053ee987d6cb63f55ce7d50fadc/py-cpuinfo-8.0.0.tar.gz (99kB)\n",
            "\u001b[K     |████████████████████████████████| 102kB 3.9MB/s \n",
            "\u001b[?25hRequirement already satisfied: py>=1.5.0 in /usr/local/lib/python3.7/dist-packages (from pytest->motmetrics->paddledet==2.1.0) (1.10.0)\n",
            "Requirement already satisfied: attrs>=17.4.0 in /usr/local/lib/python3.7/dist-packages (from pytest->motmetrics->paddledet==2.1.0) (21.2.0)\n",
            "Requirement already satisfied: atomicwrites>=1.0 in /usr/local/lib/python3.7/dist-packages (from pytest->motmetrics->paddledet==2.1.0) (1.4.0)\n",
            "Requirement already satisfied: more-itertools>=4.0.0 in /usr/local/lib/python3.7/dist-packages (from pytest->motmetrics->paddledet==2.1.0) (8.8.0)\n",
            "Requirement already satisfied: pluggy<0.8,>=0.5 in /usr/local/lib/python3.7/dist-packages (from pytest->motmetrics->paddledet==2.1.0) (0.7.1)\n",
            "Requirement already satisfied: MarkupSafe>=0.23 in /usr/local/lib/python3.7/dist-packages (from Jinja2>=2.5->Flask-Babel>=1.0.0->visualdl>=2.1.0; python_version <= \"3.7\"->paddledet==2.1.0) (2.0.1)\n",
            "Requirement already satisfied: zipp>=0.5 in /usr/local/lib/python3.7/dist-packages (from importlib-metadata; python_version < \"3.8\"->pre-commit->visualdl>=2.1.0; python_version <= \"3.7\"->paddledet==2.1.0) (3.5.0)\n",
            "Requirement already satisfied: typing-extensions>=3.6.4; python_version < \"3.8\" in /usr/local/lib/python3.7/dist-packages (from importlib-metadata; python_version < \"3.8\"->pre-commit->visualdl>=2.1.0; python_version <= \"3.7\"->paddledet==2.1.0) (3.7.4.3)\n",
            "Collecting distlib<1,>=0.3.1\n",
            "\u001b[?25l  Downloading https://mirror.baidu.com/pypi/packages/87/26/f6a23dd3e578132cf924e0dd5d4e055af0cd4ab43e2a9f10b7568bfb39d9/distlib-0.3.2-py2.py3-none-any.whl (338kB)\n",
            "\u001b[K     |████████████████████████████████| 348kB 4.3MB/s \n",
            "\u001b[?25hRequirement already satisfied: filelock<4,>=3.0.0 in /usr/local/lib/python3.7/dist-packages (from virtualenv>=20.0.8->pre-commit->visualdl>=2.1.0; python_version <= \"3.7\"->paddledet==2.1.0) (3.0.12)\n",
            "Collecting backports.entry-points-selectable>=1.0.4\n",
            "  Downloading https://mirror.baidu.com/pypi/packages/0c/cd/1e156227cad9f599524eb10af62a2362f872910a49402dbd2bea2dedc91c/backports.entry_points_selectable-1.1.0-py2.py3-none-any.whl\n",
            "Collecting platformdirs<3,>=2\n",
            "  Downloading https://mirror.baidu.com/pypi/packages/12/57/f4e6d433fba8bde239baa65f626a31fc6d0556a2065fcc81aaa0f4f1507b/platformdirs-2.0.2-py2.py3-none-any.whl\n",
            "Building wheels for collected packages: lap, terminaltables, py-cpuinfo\n",
            "  Building wheel for lap (setup.py) ... \u001b[?25l\u001b[?25hdone\n",
            "  Created wheel for lap: filename=lap-0.4.0-cp37-cp37m-linux_x86_64.whl size=1590157 sha256=6766a7bda5f0b183688753a4dafe95b6a3697f698b16b1d2ccabf7962a7c7ca8\n",
            "  Stored in directory: /root/.cache/pip/wheels/83/50/a9/e3660736bfb1fb50598b822551bb8c7ff04f1a4ecf69c42277\n",
            "  Building wheel for terminaltables (setup.py) ... \u001b[?25l\u001b[?25hdone\n",
            "  Created wheel for terminaltables: filename=terminaltables-3.1.0-cp37-none-any.whl size=15356 sha256=4dac919261ecefd76de5ab268bf85f3ac737e8621577684b415be401feb43068\n",
            "  Stored in directory: /root/.cache/pip/wheels/38/ce/e7/382f63c6888f05daac9bffbdea230dc620ceda20bedb449dce\n",
            "  Building wheel for py-cpuinfo (setup.py) ... \u001b[?25l\u001b[?25hdone\n",
            "  Created wheel for py-cpuinfo: filename=py_cpuinfo-8.0.0-cp37-none-any.whl size=22258 sha256=cc9d540595e6a0c274a0966486e8891783823b74ef7b3f2e4ec1e89404cc2303\n",
            "  Stored in directory: /root/.cache/pip/wheels/a5/77/fe/bd2fe25844956ae1e2353d7b2ffc9a90ab8c3c1b4b0862e1e9\n",
            "Successfully built lap terminaltables py-cpuinfo\n",
            "\u001b[31mERROR: pre-commit 2.13.0 has requirement pyyaml>=5.1, but you'll have pyyaml 3.13 which is incompatible.\u001b[0m\n",
            "\u001b[31mERROR: pytest-benchmark 3.4.1 has requirement pytest>=3.8, but you'll have pytest 3.6.4 which is incompatible.\u001b[0m\n",
            "Installing collected packages: Flask-Babel, shellcheck-py, identify, distlib, backports.entry-points-selectable, platformdirs, virtualenv, cfgv, nodeenv, pre-commit, pycryptodome, bce-python-sdk, pyflakes, mccabe, pycodestyle, flake8, visualdl, lap, xmltodict, py-cpuinfo, pytest-benchmark, flake8-import-order, motmetrics, terminaltables, paddledet\n",
            "Successfully installed Flask-Babel-2.0.0 backports.entry-points-selectable-1.1.0 bce-python-sdk-0.8.61 cfgv-3.3.0 distlib-0.3.2 flake8-3.9.2 flake8-import-order-0.18.1 identify-2.2.11 lap-0.4.0 mccabe-0.6.1 motmetrics-1.2.0 nodeenv-1.6.0 paddledet-2.1.0 platformdirs-2.0.2 pre-commit-2.13.0 py-cpuinfo-8.0.0 pycodestyle-2.7.0 pycryptodome-3.10.1 pyflakes-2.3.1 pytest-benchmark-3.4.1 shellcheck-py-0.7.2.1 terminaltables-3.1.0 virtualenv-20.6.0 visualdl-2.2.0 xmltodict-0.12.0\n"
          ],
          "name": "stdout"
        }
      ]
    },
    {
      "cell_type": "code",
      "metadata": {
        "id": "dw7ob9EEVztn",
        "colab": {
          "base_uri": "https://localhost:8080/"
        },
        "outputId": "4a670fd4-6164-4bd9-a4fe-a605adbf3ccc"
      },
      "source": [
        "%cd /content/gdrive/MyDrive/PP-Yolo_custom/PaddleDetection"
      ],
      "execution_count": 5,
      "outputs": [
        {
          "output_type": "stream",
          "text": [
            "/content/gdrive/MyDrive/PP-Yolo_custom/PaddleDetection\n"
          ],
          "name": "stdout"
        }
      ]
    },
    {
      "cell_type": "code",
      "metadata": {
        "colab": {
          "base_uri": "https://localhost:8080/"
        },
        "id": "NA5sakABNgte",
        "outputId": "d0f9c7b8-aea7-4015-d534-03c66317675d"
      },
      "source": [
        "# training\n",
        "!export CUDA_VISIBLE_DEVICES=0\n",
        "!python tools/train.py -c configs/ppyolo/ppyolo_r50vd_dcn_1x_coco.yml -r /content/gdrive/MyDrive/PP-Yolo_custom/PaddleDetection/output/ppyolo_r50vd_dcn_1x_coco/303"
      ],
      "execution_count": null,
      "outputs": [
        {
          "output_type": "stream",
          "text": [
            "/usr/local/lib/python3.7/dist-packages/IPython/utils/module_paths.py:29: DeprecationWarning: the imp module is deprecated in favour of importlib; see the module's documentation for alternative uses\n",
            "  import imp\n",
            "/usr/local/lib/python3.7/dist-packages/yaml/constructor.py:126: DeprecationWarning: Using or importing the ABCs from 'collections' instead of from 'collections.abc' is deprecated since Python 3.3,and in 3.9 it will stop working\n",
            "  if not isinstance(key, collections.Hashable):\n",
            "loading annotations into memory...\n",
            "Done (t=1.79s)\n",
            "creating index...\n",
            "index created!\n",
            "[07/16 14:30:11] ppdet.data.source.coco WARNING: Illegal image file: dataset/coco/images/Dataset/000000006818.jpg, and it will be ignored\n",
            "[07/16 14:30:11] ppdet.data.source.coco WARNING: Illegal image file: dataset/coco/images/Dataset/000000016228.jpg, and it will be ignored\n",
            "[07/16 14:30:11] ppdet.data.source.coco WARNING: Illegal image file: dataset/coco/images/Dataset/000000017627.jpg, and it will be ignored\n",
            "[07/16 14:30:11] ppdet.data.source.coco WARNING: Illegal image file: dataset/coco/images/Dataset/000000023899.jpg, and it will be ignored\n",
            "[07/16 14:30:11] ppdet.data.source.coco WARNING: Illegal image file: dataset/coco/images/Dataset/000000025560.jpg, and it will be ignored\n",
            "[07/16 14:30:11] ppdet.data.source.coco WARNING: Illegal image file: dataset/coco/images/Dataset/000000033638.jpg, and it will be ignored\n",
            "[07/16 14:30:11] ppdet.data.source.coco WARNING: Illegal image file: dataset/coco/images/Dataset/000000035197.jpg, and it will be ignored\n",
            "[07/16 14:30:11] ppdet.data.source.coco WARNING: Illegal image file: dataset/coco/images/Dataset/000000058636.jpg, and it will be ignored\n",
            "[07/16 14:30:11] ppdet.data.source.coco WARNING: Illegal image file: dataset/coco/images/Dataset/000000063154.jpg, and it will be ignored\n",
            "[07/16 14:30:11] ppdet.data.source.coco WARNING: Illegal image file: dataset/coco/images/Dataset/000000066523.jpg, and it will be ignored\n",
            "[07/16 14:30:11] ppdet.data.source.coco WARNING: Illegal image file: dataset/coco/images/Dataset/000000078915.jpg, and it will be ignored\n",
            "[07/16 14:30:11] ppdet.data.source.coco WARNING: Illegal image file: dataset/coco/images/Dataset/000000080671.jpg, and it will be ignored\n",
            "[07/16 14:30:11] ppdet.data.source.coco WARNING: Illegal image file: dataset/coco/images/Dataset/000000085329.jpg, and it will be ignored\n",
            "[07/16 14:30:11] ppdet.data.source.coco WARNING: Illegal image file: dataset/coco/images/Dataset/000000087038.jpg, and it will be ignored\n",
            "[07/16 14:30:11] ppdet.data.source.coco WARNING: Illegal image file: dataset/coco/images/Dataset/000000095786.jpg, and it will be ignored\n",
            "[07/16 14:30:11] ppdet.data.source.coco WARNING: Illegal image file: dataset/coco/images/Dataset/000000096493.jpg, and it will be ignored\n",
            "[07/16 14:30:11] ppdet.data.source.coco WARNING: Illegal image file: dataset/coco/images/Dataset/000000104612.jpg, and it will be ignored\n",
            "[07/16 14:30:11] ppdet.data.source.coco WARNING: Illegal image file: dataset/coco/images/Dataset/000000109798.jpg, and it will be ignored\n",
            "[07/16 14:30:11] ppdet.data.source.coco WARNING: Illegal image file: dataset/coco/images/Dataset/000000122745.jpg, and it will be ignored\n",
            "[07/16 14:30:11] ppdet.data.source.coco WARNING: Illegal image file: dataset/coco/images/Dataset/000000125211.jpg, and it will be ignored\n",
            "[07/16 14:30:11] ppdet.data.source.coco WARNING: Illegal image file: dataset/coco/images/Dataset/000000142092.jpg, and it will be ignored\n",
            "[07/16 14:30:11] ppdet.data.source.coco WARNING: Illegal image file: dataset/coco/images/Dataset/000000143931.jpg, and it will be ignored\n",
            "[07/16 14:30:11] ppdet.data.source.coco WARNING: Illegal image file: dataset/coco/images/Dataset/000000153299.jpg, and it will be ignored\n",
            "[07/16 14:30:11] ppdet.data.source.coco WARNING: Illegal image file: dataset/coco/images/Dataset/000000153343.jpg, and it will be ignored\n",
            "[07/16 14:30:11] ppdet.data.source.coco WARNING: Illegal image file: dataset/coco/images/Dataset/000000173383.jpg, and it will be ignored\n",
            "[07/16 14:30:11] ppdet.data.source.coco WARNING: Illegal image file: dataset/coco/images/Dataset/000000180135.jpg, and it will be ignored\n",
            "[07/16 14:30:11] ppdet.data.source.coco WARNING: Illegal image file: dataset/coco/images/Dataset/000000181666.jpg, and it will be ignored\n",
            "[07/16 14:30:11] ppdet.data.source.coco WARNING: Illegal image file: dataset/coco/images/Dataset/000000184321.jpg, and it will be ignored\n",
            "[07/16 14:30:11] ppdet.data.source.coco WARNING: Illegal image file: dataset/coco/images/Dataset/000000184791.jpg, and it will be ignored\n",
            "[07/16 14:30:11] ppdet.data.source.coco WARNING: Illegal image file: dataset/coco/images/Dataset/000000185250.jpg, and it will be ignored\n",
            "[07/16 14:30:11] ppdet.data.source.coco WARNING: Illegal image file: dataset/coco/images/Dataset/000000199551.jpg, and it will be ignored\n",
            "[07/16 14:30:11] ppdet.data.source.coco WARNING: Illegal image file: dataset/coco/images/Dataset/000000219578.jpg, and it will be ignored\n",
            "[07/16 14:30:11] ppdet.data.source.coco WARNING: Illegal image file: dataset/coco/images/Dataset/000000226111.jpg, and it will be ignored\n",
            "[07/16 14:30:11] ppdet.data.source.coco WARNING: Illegal image file: dataset/coco/images/Dataset/000000231339.jpg, and it will be ignored\n",
            "[07/16 14:30:11] ppdet.data.source.coco WARNING: Illegal image file: dataset/coco/images/Dataset/000000233771.jpg, and it will be ignored\n",
            "[07/16 14:30:11] ppdet.data.source.coco WARNING: Illegal image file: dataset/coco/images/Dataset/000000236412.jpg, and it will be ignored\n",
            "[07/16 14:30:11] ppdet.data.source.coco WARNING: Illegal image file: dataset/coco/images/Dataset/000000238866.jpg, and it will be ignored\n",
            "[07/16 14:30:11] ppdet.data.source.coco WARNING: Illegal image file: dataset/coco/images/Dataset/000000239274.jpg, and it will be ignored\n",
            "[07/16 14:30:11] ppdet.data.source.coco WARNING: Illegal image file: dataset/coco/images/Dataset/000000239347.jpg, and it will be ignored\n",
            "[07/16 14:30:11] ppdet.data.source.coco WARNING: Illegal image file: dataset/coco/images/Dataset/000000252219.jpg, and it will be ignored\n",
            "[07/16 14:30:11] ppdet.data.source.coco WARNING: Illegal image file: dataset/coco/images/Dataset/000000261061.jpg, and it will be ignored\n",
            "[07/16 14:30:11] ppdet.data.source.coco WARNING: Illegal image file: dataset/coco/images/Dataset/000000266409.jpg, and it will be ignored\n",
            "[07/16 14:30:11] ppdet.data.source.coco WARNING: Illegal image file: dataset/coco/images/Dataset/000000270244.jpg, and it will be ignored\n",
            "[07/16 14:30:11] ppdet.data.source.coco WARNING: Illegal image file: dataset/coco/images/Dataset/000000286994.jpg, and it will be ignored\n",
            "[07/16 14:30:11] ppdet.data.source.coco WARNING: Illegal image file: dataset/coco/images/Dataset/000000297343.jpg, and it will be ignored\n",
            "[07/16 14:30:11] ppdet.data.source.coco WARNING: Illegal image file: dataset/coco/images/Dataset/000000301867.jpg, and it will be ignored\n",
            "[07/16 14:30:11] ppdet.data.source.coco WARNING: Illegal image file: dataset/coco/images/Dataset/000000308394.jpg, and it will be ignored\n",
            "[07/16 14:30:11] ppdet.data.source.coco WARNING: Illegal image file: dataset/coco/images/Dataset/000000312421.jpg, and it will be ignored\n",
            "[07/16 14:30:11] ppdet.data.source.coco WARNING: Illegal image file: dataset/coco/images/Dataset/000000314294.jpg, and it will be ignored\n",
            "[07/16 14:30:11] ppdet.data.source.coco WARNING: Illegal image file: dataset/coco/images/Dataset/000000321214.jpg, and it will be ignored\n",
            "[07/16 14:30:11] ppdet.data.source.coco WARNING: Illegal image file: dataset/coco/images/Dataset/000000322864.jpg, and it will be ignored\n",
            "[07/16 14:30:11] ppdet.data.source.coco WARNING: Illegal image file: dataset/coco/images/Dataset/000000329219.jpg, and it will be ignored\n",
            "[07/16 14:30:11] ppdet.data.source.coco WARNING: Illegal image file: dataset/coco/images/Dataset/000000329323.jpg, and it will be ignored\n",
            "[07/16 14:30:11] ppdet.data.source.coco WARNING: Illegal image file: dataset/coco/images/Dataset/000000331352.jpg, and it will be ignored\n",
            "[07/16 14:30:11] ppdet.data.source.coco WARNING: Illegal image file: dataset/coco/images/Dataset/000000336587.jpg, and it will be ignored\n",
            "[07/16 14:30:11] ppdet.data.source.coco WARNING: Illegal image file: dataset/coco/images/Dataset/000000342006.jpg, and it will be ignored\n",
            "[07/16 14:30:11] ppdet.data.source.coco WARNING: Illegal image file: dataset/coco/images/Dataset/000000347693.jpg, and it will be ignored\n",
            "[07/16 14:30:11] ppdet.data.source.coco WARNING: Illegal image file: dataset/coco/images/Dataset/000000348881.jpg, and it will be ignored\n",
            "[07/16 14:30:11] ppdet.data.source.coco WARNING: Illegal image file: dataset/coco/images/Dataset/000000349860.jpg, and it will be ignored\n",
            "[07/16 14:30:11] ppdet.data.source.coco WARNING: Illegal image file: dataset/coco/images/Dataset/000000356427.jpg, and it will be ignored\n",
            "[07/16 14:30:11] ppdet.data.source.coco WARNING: Illegal image file: dataset/coco/images/Dataset/000000366141.jpg, and it will be ignored\n",
            "[07/16 14:30:11] ppdet.data.source.coco WARNING: Illegal image file: dataset/coco/images/Dataset/000000368294.jpg, and it will be ignored\n",
            "[07/16 14:30:11] ppdet.data.source.coco WARNING: Illegal image file: dataset/coco/images/Dataset/000000369370.jpg, and it will be ignored\n",
            "[07/16 14:30:11] ppdet.data.source.coco WARNING: Illegal image file: dataset/coco/images/Dataset/000000370677.jpg, and it will be ignored\n",
            "[07/16 14:30:11] ppdet.data.source.coco WARNING: Illegal image file: dataset/coco/images/Dataset/000000382088.jpg, and it will be ignored\n",
            "[07/16 14:30:11] ppdet.data.source.coco WARNING: Illegal image file: dataset/coco/images/Dataset/000000383384.jpg, and it will be ignored\n",
            "[07/16 14:30:11] ppdet.data.source.coco WARNING: Illegal image file: dataset/coco/images/Dataset/000000399462.jpg, and it will be ignored\n",
            "[07/16 14:30:11] ppdet.data.source.coco WARNING: Illegal image file: dataset/coco/images/Dataset/000000400573.jpg, and it will be ignored\n",
            "[07/16 14:30:11] ppdet.data.source.coco WARNING: Illegal image file: dataset/coco/images/Dataset/000000403385.jpg, and it will be ignored\n",
            "[07/16 14:30:11] ppdet.data.source.coco WARNING: Illegal image file: dataset/coco/images/Dataset/000000403817.jpg, and it will be ignored\n",
            "[07/16 14:30:11] ppdet.data.source.coco WARNING: Illegal image file: dataset/coco/images/Dataset/000000418281.jpg, and it will be ignored\n",
            "[07/16 14:30:11] ppdet.data.source.coco WARNING: Illegal image file: dataset/coco/images/Dataset/000000430961.jpg, and it will be ignored\n",
            "[07/16 14:30:11] ppdet.data.source.coco WARNING: Illegal image file: dataset/coco/images/Dataset/000000438862.jpg, and it will be ignored\n",
            "[07/16 14:30:12] ppdet.data.source.coco WARNING: Illegal image file: dataset/coco/images/Dataset/000000448365.jpg, and it will be ignored\n",
            "[07/16 14:30:12] ppdet.data.source.coco WARNING: Illegal image file: dataset/coco/images/Dataset/000000458054.jpg, and it will be ignored\n",
            "[07/16 14:30:12] ppdet.data.source.coco WARNING: Illegal image file: dataset/coco/images/Dataset/000000460347.jpg, and it will be ignored\n",
            "[07/16 14:30:12] ppdet.data.source.coco WARNING: Illegal image file: dataset/coco/images/Dataset/000000474028.jpg, and it will be ignored\n",
            "[07/16 14:30:12] ppdet.data.source.coco WARNING: Illegal image file: dataset/coco/images/Dataset/000000475779.jpg, and it will be ignored\n",
            "[07/16 14:30:12] ppdet.data.source.coco WARNING: Illegal image file: dataset/coco/images/Dataset/000000476258.jpg, and it will be ignored\n",
            "[07/16 14:30:12] ppdet.data.source.coco WARNING: Illegal image file: dataset/coco/images/Dataset/000000480985.jpg, and it will be ignored\n",
            "[07/16 14:30:12] ppdet.data.source.coco WARNING: Illegal image file: dataset/coco/images/Dataset/000000486438.jpg, and it will be ignored\n",
            "[07/16 14:30:12] ppdet.data.source.coco WARNING: Illegal image file: dataset/coco/images/Dataset/000000491497.jpg, and it will be ignored\n",
            "[07/16 14:30:12] ppdet.data.source.coco WARNING: Illegal image file: dataset/coco/images/Dataset/000000500663.jpg, and it will be ignored\n",
            "[07/16 14:30:12] ppdet.data.source.coco WARNING: Illegal image file: dataset/coco/images/Dataset/000000502136.jpg, and it will be ignored\n",
            "[07/16 14:30:12] ppdet.data.source.coco WARNING: Illegal image file: dataset/coco/images/Dataset/000000502737.jpg, and it will be ignored\n",
            "[07/16 14:30:12] ppdet.data.source.coco WARNING: Illegal image file: dataset/coco/images/Dataset/000000511321.jpg, and it will be ignored\n",
            "[07/16 14:30:12] ppdet.data.source.coco WARNING: Illegal image file: dataset/coco/images/Dataset/000000514508.jpg, and it will be ignored\n",
            "[07/16 14:30:12] ppdet.data.source.coco WARNING: Illegal image file: dataset/coco/images/Dataset/000000515445.jpg, and it will be ignored\n",
            "[07/16 14:30:12] ppdet.data.source.coco WARNING: Illegal image file: dataset/coco/images/Dataset/000000515579.jpg, and it will be ignored\n",
            "[07/16 14:30:12] ppdet.data.source.coco WARNING: Illegal image file: dataset/coco/images/Dataset/000000522713.jpg, and it will be ignored\n",
            "[07/16 14:30:12] ppdet.data.source.coco WARNING: Illegal image file: dataset/coco/images/Dataset/000000544519.jpg, and it will be ignored\n",
            "[07/16 14:30:12] ppdet.data.source.coco WARNING: Illegal image file: dataset/coco/images/Dataset/000000550426.jpg, and it will be ignored\n",
            "[07/16 14:30:12] ppdet.data.source.coco WARNING: Illegal image file: dataset/coco/images/Dataset/000000551215.jpg, and it will be ignored\n",
            "[07/16 14:30:12] ppdet.data.source.coco WARNING: Illegal image file: dataset/coco/images/Dataset/000000555705.jpg, and it will be ignored\n",
            "[07/16 14:30:12] ppdet.data.source.coco WARNING: Illegal image file: dataset/coco/images/Dataset/000000562121.jpg, and it will be ignored\n",
            "[07/16 14:30:12] ppdet.data.source.coco WARNING: Illegal image file: dataset/coco/images/Dataset/000000577539.jpg, and it will be ignored\n",
            "[07/16 14:30:12] ppdet.data.source.coco WARNING: Illegal image file: dataset/coco/images/Dataset/000000580294.jpg, and it will be ignored\n",
            "W0716 14:30:12.159878   398 device_context.cc:404] Please NOTE: device: 0, GPU Compute Capability: 7.5, Driver API Version: 11.2, Runtime API Version: 10.1\n",
            "W0716 14:30:12.604400   398 device_context.cc:422] device: 0, cuDNN Version: 7.6.\n",
            "[07/16 14:30:29] ppdet.utils.checkpoint INFO: Finish resuming model weights: /content/gdrive/MyDrive/PP-Yolo_custom/PaddleDetection/output/ppyolo_r50vd_dcn_1x_coco/303.pdparams\n",
            "[07/16 14:30:37] ppdet.engine INFO: Epoch: [304] [  0/273] learning_rate: 0.000200 loss_xy: 0.753591 loss_wh: 0.593412 loss_iou: 2.165746 loss_iou_aware: 0.525986 loss_obj: 6.397387 loss_cls: 2.130966 loss: 12.567089 eta: 18:04:32 batch_cost: 0.3425 data_cost: 0.0003 ips: 11.6798 images/s\n",
            "[07/16 14:31:07] ppdet.engine INFO: Epoch: [304] [ 20/273] learning_rate: 0.000200 loss_xy: 1.757606 loss_wh: 2.096862 loss_iou: 7.706660 loss_iou_aware: 1.490693 loss_obj: 13.100777 loss_cls: 3.123873 loss: 28.579788 eta: 3 days, 1:45:03 batch_cost: 1.4502 data_cost: 0.9914 ips: 2.7582 images/s\n",
            "[07/16 14:31:39] ppdet.engine INFO: Epoch: [304] [ 40/273] learning_rate: 0.000200 loss_xy: 2.691722 loss_wh: 3.415750 loss_iou: 10.985239 loss_iou_aware: 1.789515 loss_obj: 15.893680 loss_cls: 4.366545 loss: 42.302254 eta: 3 days, 5:40:52 batch_cost: 1.5505 data_cost: 1.1338 ips: 2.5799 images/s\n",
            "[07/16 14:32:04] ppdet.engine INFO: Epoch: [304] [ 60/273] learning_rate: 0.000200 loss_xy: 2.492834 loss_wh: 2.852844 loss_iou: 9.202210 loss_iou_aware: 1.828253 loss_obj: 15.502116 loss_cls: 4.471353 loss: 37.944267 eta: 3 days, 1:19:49 batch_cost: 1.2211 data_cost: 0.7791 ips: 3.2758 images/s\n",
            "[07/16 14:32:29] ppdet.engine INFO: Epoch: [304] [ 80/273] learning_rate: 0.000200 loss_xy: 2.265541 loss_wh: 2.637837 loss_iou: 8.092764 loss_iou_aware: 1.561440 loss_obj: 15.663680 loss_cls: 3.679186 loss: 34.195023 eta: 2 days, 22:51:46 batch_cost: 1.2010 data_cost: 0.8183 ips: 3.3306 images/s\n",
            "[07/16 14:32:53] ppdet.engine INFO: Epoch: [304] [100/273] learning_rate: 0.000200 loss_xy: 1.978377 loss_wh: 2.005025 loss_iou: 7.551115 loss_iou_aware: 1.518361 loss_obj: 14.992901 loss_cls: 4.143798 loss: 31.839363 eta: 2 days, 20:38:42 batch_cost: 1.1316 data_cost: 0.7353 ips: 3.5349 images/s\n",
            "[07/16 14:33:15] ppdet.engine INFO: Epoch: [304] [120/273] learning_rate: 0.000200 loss_xy: 2.918378 loss_wh: 3.935546 loss_iou: 11.654840 loss_iou_aware: 2.338548 loss_obj: 19.468098 loss_cls: 4.377685 loss: 43.998104 eta: 2 days, 18:18:07 batch_cost: 1.0334 data_cost: 0.6237 ips: 3.8708 images/s\n",
            "[07/16 14:33:33] ppdet.engine INFO: Epoch: [304] [140/273] learning_rate: 0.000200 loss_xy: 2.377159 loss_wh: 3.249693 loss_iou: 9.960815 loss_iou_aware: 1.934932 loss_obj: 15.817067 loss_cls: 4.302054 loss: 39.370213 eta: 2 days, 15:13:00 batch_cost: 0.8455 data_cost: 0.4436 ips: 4.7310 images/s\n",
            "[07/16 14:33:50] ppdet.engine INFO: Epoch: [304] [160/273] learning_rate: 0.000200 loss_xy: 2.219364 loss_wh: 2.964186 loss_iou: 8.701225 loss_iou_aware: 1.935201 loss_obj: 16.775242 loss_cls: 4.510350 loss: 37.743484 eta: 2 days, 12:32:41 batch_cost: 0.7918 data_cost: 0.3068 ips: 5.0518 images/s\n",
            "[07/16 14:34:08] ppdet.engine INFO: Epoch: [304] [180/273] learning_rate: 0.000200 loss_xy: 2.312011 loss_wh: 3.223591 loss_iou: 10.781494 loss_iou_aware: 1.792001 loss_obj: 16.109436 loss_cls: 3.941387 loss: 38.643883 eta: 2 days, 10:30:41 batch_cost: 0.8002 data_cost: 0.3875 ips: 4.9988 images/s\n",
            "[07/16 14:34:22] ppdet.engine INFO: Epoch: [304] [200/273] learning_rate: 0.000200 loss_xy: 1.976718 loss_wh: 3.355182 loss_iou: 8.574418 loss_iou_aware: 1.454657 loss_obj: 14.908989 loss_cls: 5.020146 loss: 35.617058 eta: 2 days, 8:10:24 batch_cost: 0.6652 data_cost: 0.3207 ips: 6.0136 images/s\n",
            "[07/16 14:34:35] ppdet.engine INFO: Epoch: [304] [220/273] learning_rate: 0.000200 loss_xy: 2.304973 loss_wh: 2.844608 loss_iou: 8.932057 loss_iou_aware: 1.600986 loss_obj: 14.343071 loss_cls: 4.308607 loss: 35.194031 eta: 2 days, 5:50:19 batch_cost: 0.5773 data_cost: 0.1405 ips: 6.9292 images/s\n",
            "[07/16 14:34:47] ppdet.engine INFO: Epoch: [304] [240/273] learning_rate: 0.000200 loss_xy: 2.598453 loss_wh: 2.777497 loss_iou: 9.054354 loss_iou_aware: 2.018263 loss_obj: 18.412827 loss_cls: 4.573087 loss: 38.462395 eta: 2 days, 3:33:28 batch_cost: 0.5012 data_cost: 0.0599 ips: 7.9814 images/s\n",
            "[07/16 14:34:59] ppdet.engine INFO: Epoch: [304] [260/273] learning_rate: 0.000200 loss_xy: 2.336352 loss_wh: 3.095582 loss_iou: 9.888739 loss_iou_aware: 1.943300 loss_obj: 17.185537 loss_cls: 4.045611 loss: 39.495049 eta: 2 days, 1:48:00 batch_cost: 0.5442 data_cost: 0.1172 ips: 7.3498 images/s\n",
            "[07/16 14:35:08] ppdet.engine INFO: Epoch: [305] [  0/273] learning_rate: 0.000200 loss_xy: 2.201767 loss_wh: 2.518808 loss_iou: 8.504029 loss_iou_aware: 1.825051 loss_obj: 14.983498 loss_cls: 3.620344 loss: 32.541889 eta: 2 days, 0:53:07 batch_cost: 0.5264 data_cost: 0.0727 ips: 7.5986 images/s\n",
            "[07/16 14:35:19] ppdet.engine INFO: Epoch: [305] [ 20/273] learning_rate: 0.000200 loss_xy: 2.352954 loss_wh: 2.830224 loss_iou: 8.800917 loss_iou_aware: 1.657570 loss_obj: 18.171940 loss_cls: 4.500622 loss: 37.781380 eta: 1 day, 23:07:17 batch_cost: 0.4370 data_cost: 0.0016 ips: 9.1532 images/s\n",
            "[07/16 14:35:28] ppdet.engine INFO: Epoch: [305] [ 40/273] learning_rate: 0.000200 loss_xy: 1.546606 loss_wh: 1.749994 loss_iou: 5.957552 loss_iou_aware: 1.337230 loss_obj: 11.971277 loss_cls: 3.261352 loss: 26.012974 eta: 1 day, 21:31:12 batch_cost: 0.4185 data_cost: 0.0008 ips: 9.5590 images/s\n",
            "[07/16 14:35:38] ppdet.engine INFO: Epoch: [305] [ 60/273] learning_rate: 0.000200 loss_xy: 2.816485 loss_wh: 3.675492 loss_iou: 10.662399 loss_iou_aware: 2.058628 loss_obj: 18.876789 loss_cls: 4.904880 loss: 46.613991 eta: 1 day, 20:06:18 batch_cost: 0.4169 data_cost: 0.0020 ips: 9.5944 images/s\n",
            "[07/16 14:35:48] ppdet.engine INFO: Epoch: [305] [ 80/273] learning_rate: 0.000200 loss_xy: 2.151523 loss_wh: 2.619374 loss_iou: 8.034023 loss_iou_aware: 1.646299 loss_obj: 16.202602 loss_cls: 4.896428 loss: 36.243729 eta: 1 day, 18:53:48 batch_cost: 0.4327 data_cost: 0.0015 ips: 9.2432 images/s\n",
            "[07/16 14:35:58] ppdet.engine INFO: Epoch: [305] [100/273] learning_rate: 0.000200 loss_xy: 2.670756 loss_wh: 3.958677 loss_iou: 11.036031 loss_iou_aware: 2.333550 loss_obj: 18.954994 loss_cls: 6.532445 loss: 45.954929 eta: 1 day, 17:45:48 batch_cost: 0.4135 data_cost: 0.0006 ips: 9.6734 images/s\n",
            "[07/16 14:36:08] ppdet.engine INFO: Epoch: [305] [120/273] learning_rate: 0.000200 loss_xy: 2.788206 loss_wh: 3.572323 loss_iou: 10.996786 loss_iou_aware: 2.320744 loss_obj: 20.516153 loss_cls: 4.725497 loss: 47.096004 eta: 1 day, 16:53:51 batch_cost: 0.4707 data_cost: 0.0008 ips: 8.4986 images/s\n",
            "[07/16 14:36:19] ppdet.engine INFO: Epoch: [305] [140/273] learning_rate: 0.000200 loss_xy: 2.604912 loss_wh: 3.101188 loss_iou: 10.053597 loss_iou_aware: 2.169978 loss_obj: 19.296406 loss_cls: 4.674240 loss: 41.999546 eta: 1 day, 16:05:50 batch_cost: 0.4636 data_cost: 0.0018 ips: 8.6280 images/s\n",
            "[07/16 14:36:29] ppdet.engine INFO: Epoch: [305] [160/273] learning_rate: 0.000200 loss_xy: 2.229542 loss_wh: 2.750441 loss_iou: 8.198860 loss_iou_aware: 1.575169 loss_obj: 14.174488 loss_cls: 3.560581 loss: 33.703274 eta: 1 day, 15:22:24 batch_cost: 0.4648 data_cost: 0.0024 ips: 8.6064 images/s\n"
          ],
          "name": "stdout"
        }
      ]
    },
    {
      "cell_type": "code",
      "metadata": {
        "colab": {
          "base_uri": "https://localhost:8080/"
        },
        "id": "0mgJdp5lRMMO",
        "outputId": "b882270c-3039-4f55-d194-86ed9d488f0e"
      },
      "source": [
        "# Prediction\n",
        "!python tools/infer.py -c configs/ppyolo/ppyolo_r50vd_dcn_1x_coco.yml --infer_img=/content/gdrive/MyDrive/PP-Yolo_custom/PaddleDetection/dataset/coco/images_2/train_images/COCO_train2014_000000229472.jpg -o weights=output/ppyolo_r50vd_dcn_1x_coco/431.pdparams --draw_threshold=0.1\n"
      ],
      "execution_count": null,
      "outputs": [
        {
          "output_type": "stream",
          "text": [
            "/usr/local/lib/python3.7/dist-packages/IPython/utils/module_paths.py:29: DeprecationWarning: the imp module is deprecated in favour of importlib; see the module's documentation for alternative uses\n",
            "  import imp\n",
            "/usr/local/lib/python3.7/dist-packages/yaml/constructor.py:126: DeprecationWarning: Using or importing the ABCs from 'collections' instead of from 'collections.abc' is deprecated since Python 3.3,and in 3.9 it will stop working\n",
            "  if not isinstance(key, collections.Hashable):\n",
            "W0709 15:12:22.452867   463 device_context.cc:404] Please NOTE: device: 0, GPU Compute Capability: 7.5, Driver API Version: 11.2, Runtime API Version: 10.1\n",
            "W0709 15:12:22.455932   463 device_context.cc:422] device: 0, cuDNN Version: 7.6.\n",
            "[07/09 15:12:26] ppdet.utils.checkpoint INFO: Finish loading model weights: output/ppyolo_r50vd_dcn_1x_coco/431.pdparams\n",
            "[07/09 15:12:26] ppdet.engine INFO: Detection bbox results save in output/COCO_train2014_000000229472.jpg\n"
          ],
          "name": "stdout"
        }
      ]
    },
    {
      "cell_type": "code",
      "metadata": {
        "id": "0v6UlP67NupH"
      },
      "source": [
        ""
      ],
      "execution_count": null,
      "outputs": []
    }
  ]
}