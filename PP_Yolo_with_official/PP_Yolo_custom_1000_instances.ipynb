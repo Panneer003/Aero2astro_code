{
  "nbformat": 4,
  "nbformat_minor": 0,
  "metadata": {
    "colab": {
      "name": "PP-Yolo_custom.ipynb",
      "provenance": [],
      "collapsed_sections": []
    },
    "kernelspec": {
      "name": "python3",
      "display_name": "Python 3"
    },
    "language_info": {
      "name": "python"
    },
    "accelerator": "GPU"
  },
  "cells": [
    {
      "cell_type": "code",
      "metadata": {
        "colab": {
          "base_uri": "https://localhost:8080/"
        },
        "id": "OIcte3rqn_oD",
        "outputId": "29b65c03-42d3-4101-b1c5-15033a86317e"
      },
      "source": [
        "# Mount Drive\n",
        "from google.colab import drive \n",
        "drive.mount('/content/gdrive/') "
      ],
      "execution_count": 2,
      "outputs": [
        {
          "output_type": "stream",
          "text": [
            "Mounted at /content/gdrive/\n"
          ],
          "name": "stdout"
        }
      ]
    },
    {
      "cell_type": "code",
      "metadata": {
        "colab": {
          "base_uri": "https://localhost:8080/"
        },
        "id": "LTDXQJ7CoU0s",
        "outputId": "4c84bbbf-7f20-440a-b316-c1f36f44ac8f"
      },
      "source": [
        "#instal paddle paddle\n",
        "!python -m pip install paddlepaddle-gpu==2.1.0.post101 -f https://paddlepaddle.org.cn/whl/mkl/stable.html # For GPU mode\n",
        "#!python -m pip install paddlepaddle -i https://mirror.baidu.com/pypi/simple   # For cpu mode"
      ],
      "execution_count": 3,
      "outputs": [
        {
          "output_type": "stream",
          "text": [
            "Looking in links: https://paddlepaddle.org.cn/whl/mkl/stable.html\n",
            "Collecting paddlepaddle-gpu==2.1.0.post101\n",
            "\u001b[?25l  Downloading https://paddle-wheel.bj.bcebos.com/2.1.0-gpu-cuda10.1-cudnn7-mkl-gcc5.4/paddlepaddle_gpu-2.1.0.post101-cp37-cp37m-linux_x86_64.whl (344.9MB)\n",
            "\u001b[K     |████████████████████████████████| 344.9MB 46kB/s \n",
            "\u001b[?25hRequirement already satisfied: numpy>=1.13; python_version >= \"3.5\" and platform_system != \"Windows\" in /usr/local/lib/python3.7/dist-packages (from paddlepaddle-gpu==2.1.0.post101) (1.19.5)\n",
            "Requirement already satisfied: requests>=2.20.0 in /usr/local/lib/python3.7/dist-packages (from paddlepaddle-gpu==2.1.0.post101) (2.23.0)\n",
            "Requirement already satisfied: decorator==4.4.2 in /usr/local/lib/python3.7/dist-packages (from paddlepaddle-gpu==2.1.0.post101) (4.4.2)\n",
            "Requirement already satisfied: gast>=0.3.3; platform_system != \"Windows\" in /usr/local/lib/python3.7/dist-packages (from paddlepaddle-gpu==2.1.0.post101) (0.4.0)\n",
            "Requirement already satisfied: six in /usr/local/lib/python3.7/dist-packages (from paddlepaddle-gpu==2.1.0.post101) (1.15.0)\n",
            "Requirement already satisfied: protobuf>=3.1.0 in /usr/local/lib/python3.7/dist-packages (from paddlepaddle-gpu==2.1.0.post101) (3.17.3)\n",
            "Requirement already satisfied: astor in /usr/local/lib/python3.7/dist-packages (from paddlepaddle-gpu==2.1.0.post101) (0.8.1)\n",
            "Requirement already satisfied: Pillow in /usr/local/lib/python3.7/dist-packages (from paddlepaddle-gpu==2.1.0.post101) (7.1.2)\n",
            "Requirement already satisfied: certifi>=2017.4.17 in /usr/local/lib/python3.7/dist-packages (from requests>=2.20.0->paddlepaddle-gpu==2.1.0.post101) (2021.5.30)\n",
            "Requirement already satisfied: urllib3!=1.25.0,!=1.25.1,<1.26,>=1.21.1 in /usr/local/lib/python3.7/dist-packages (from requests>=2.20.0->paddlepaddle-gpu==2.1.0.post101) (1.24.3)\n",
            "Requirement already satisfied: chardet<4,>=3.0.2 in /usr/local/lib/python3.7/dist-packages (from requests>=2.20.0->paddlepaddle-gpu==2.1.0.post101) (3.0.4)\n",
            "Requirement already satisfied: idna<3,>=2.5 in /usr/local/lib/python3.7/dist-packages (from requests>=2.20.0->paddlepaddle-gpu==2.1.0.post101) (2.10)\n",
            "Installing collected packages: paddlepaddle-gpu\n",
            "Successfully installed paddlepaddle-gpu-2.1.0.post101\n"
          ],
          "name": "stdout"
        }
      ]
    },
    {
      "cell_type": "code",
      "metadata": {
        "colab": {
          "base_uri": "https://localhost:8080/"
        },
        "id": "d3jkpj2hognT",
        "outputId": "b7ab2f5f-24ed-4bf7-a33f-38f313c2e6ac"
      },
      "source": [
        "# Check paddel paddle version \n",
        "!python -c \"import paddle; print(paddle.__version__)\""
      ],
      "execution_count": 4,
      "outputs": [
        {
          "output_type": "stream",
          "text": [
            "2.1.0\n"
          ],
          "name": "stdout"
        }
      ]
    },
    {
      "cell_type": "code",
      "metadata": {
        "colab": {
          "base_uri": "https://localhost:8080/"
        },
        "id": "O4RiiVZnqslD",
        "outputId": "1f351f43-b69f-4ac7-a699-11acfd5e6d2c"
      },
      "source": [
        "# Install paddle paddle detection\n",
        "!pip install paddledet==2.1.0 -i https://mirror.baidu.com/pypi/simple"
      ],
      "execution_count": 5,
      "outputs": [
        {
          "output_type": "stream",
          "text": [
            "Looking in indexes: https://mirror.baidu.com/pypi/simple\n",
            "Collecting paddledet==2.1.0\n",
            "\u001b[?25l  Downloading https://mirror.baidu.com/pypi/packages/c4/bb/00c70533735da3ed5741f0d5823f6560148cff4cd6c01b9bef23f2ea8956/paddledet-2.1.0-py3-none-any.whl (416kB)\n",
            "\u001b[K     |████████████████████████████████| 419kB 217kB/s \n",
            "\u001b[?25hRequirement already satisfied: shapely in /usr/local/lib/python3.7/dist-packages (from paddledet==2.1.0) (1.7.1)\n",
            "Requirement already satisfied: pycocotools in /usr/local/lib/python3.7/dist-packages (from paddledet==2.1.0) (2.0.2)\n",
            "Collecting motmetrics\n",
            "\u001b[?25l  Downloading https://mirror.baidu.com/pypi/packages/9c/28/9c3bc8e2a87f4c9e7b04ab72856ec7f9895a66681a65973ffaf9562ef879/motmetrics-1.2.0-py3-none-any.whl (151kB)\n",
            "\u001b[K     |████████████████████████████████| 153kB 2.4MB/s \n",
            "\u001b[?25hRequirement already satisfied: scipy in /usr/local/lib/python3.7/dist-packages (from paddledet==2.1.0) (1.4.1)\n",
            "Requirement already satisfied: openpyxl in /usr/local/lib/python3.7/dist-packages (from paddledet==2.1.0) (2.5.9)\n",
            "Requirement already satisfied: typeguard; python_version >= \"3.4\" in /usr/local/lib/python3.7/dist-packages (from paddledet==2.1.0) (2.7.1)\n",
            "Requirement already satisfied: tqdm in /usr/local/lib/python3.7/dist-packages (from paddledet==2.1.0) (4.41.1)\n",
            "Collecting terminaltables\n",
            "  Downloading https://mirror.baidu.com/pypi/packages/9b/c4/4a21174f32f8a7e1104798c445dacdc1d4df86f2f26722767034e4de4bff/terminaltables-3.1.0.tar.gz\n",
            "Collecting lap\n",
            "\u001b[?25l  Downloading https://mirror.baidu.com/pypi/packages/bf/64/d9fb6a75b15e783952b2fec6970f033462e67db32dc43dfbb404c14e91c2/lap-0.4.0.tar.gz (1.5MB)\n",
            "\u001b[K     |████████████████████████████████| 1.5MB 2.4MB/s \n",
            "\u001b[?25hRequirement already satisfied: sklearn in /usr/local/lib/python3.7/dist-packages (from paddledet==2.1.0) (0.0)\n",
            "Collecting visualdl>=2.1.0; python_version <= \"3.7\"\n",
            "\u001b[?25l  Downloading https://mirror.baidu.com/pypi/packages/31/99/f5f50d035006b0d9304700facd9e1c843af8e02569474996d1b6a79529f6/visualdl-2.2.0-py3-none-any.whl (2.7MB)\n",
            "\u001b[K     |████████████████████████████████| 2.7MB 10.3MB/s \n",
            "\u001b[?25hRequirement already satisfied: Cython in /usr/local/lib/python3.7/dist-packages (from paddledet==2.1.0) (0.29.23)\n",
            "Requirement already satisfied: setuptools>=42.0.0 in /usr/local/lib/python3.7/dist-packages (from paddledet==2.1.0) (57.0.0)\n",
            "Requirement already satisfied: PyYAML in /usr/local/lib/python3.7/dist-packages (from paddledet==2.1.0) (3.13)\n",
            "Requirement already satisfied: opencv-python in /usr/local/lib/python3.7/dist-packages (from paddledet==2.1.0) (4.1.2.30)\n",
            "Requirement already satisfied: matplotlib>=2.1.0 in /usr/local/lib/python3.7/dist-packages (from pycocotools->paddledet==2.1.0) (3.2.2)\n",
            "Requirement already satisfied: numpy>=1.12.1 in /usr/local/lib/python3.7/dist-packages (from motmetrics->paddledet==2.1.0) (1.19.5)\n",
            "Requirement already satisfied: pandas>=0.23.1 in /usr/local/lib/python3.7/dist-packages (from motmetrics->paddledet==2.1.0) (1.1.5)\n",
            "Collecting flake8\n",
            "\u001b[?25l  Downloading https://mirror.baidu.com/pypi/packages/fc/80/35a0716e5d5101e643404dabd20f07f5528a21f3ef4032d31a49c913237b/flake8-3.9.2-py2.py3-none-any.whl (73kB)\n",
            "\u001b[K     |████████████████████████████████| 81kB 6.8MB/s \n",
            "\u001b[?25hCollecting xmltodict>=0.12.0\n",
            "  Downloading https://mirror.baidu.com/pypi/packages/28/fd/30d5c1d3ac29ce229f6bdc40bbc20b28f716e8b363140c26eff19122d8a5/xmltodict-0.12.0-py2.py3-none-any.whl\n",
            "Collecting flake8-import-order\n",
            "  Downloading https://mirror.baidu.com/pypi/packages/ab/52/cf2d6e2c505644ca06de2f6f3546f1e4f2b7be34246c9e0757c6048868f9/flake8_import_order-0.18.1-py2.py3-none-any.whl\n",
            "Requirement already satisfied: pytest in /usr/local/lib/python3.7/dist-packages (from motmetrics->paddledet==2.1.0) (3.6.4)\n",
            "Collecting pytest-benchmark\n",
            "\u001b[?25l  Downloading https://mirror.baidu.com/pypi/packages/2c/60/423a63fb190a0483d049786a121bd3dfd7d93bb5ff1bb5b5cd13e5df99a7/pytest_benchmark-3.4.1-py2.py3-none-any.whl (50kB)\n",
            "\u001b[K     |████████████████████████████████| 51kB 7.2MB/s \n",
            "\u001b[?25hRequirement already satisfied: et-xmlfile in /usr/local/lib/python3.7/dist-packages (from openpyxl->paddledet==2.1.0) (1.1.0)\n",
            "Requirement already satisfied: jdcal in /usr/local/lib/python3.7/dist-packages (from openpyxl->paddledet==2.1.0) (1.4.1)\n",
            "Requirement already satisfied: scikit-learn in /usr/local/lib/python3.7/dist-packages (from sklearn->paddledet==2.1.0) (0.22.2.post1)\n",
            "Requirement already satisfied: Pillow>=7.0.0 in /usr/local/lib/python3.7/dist-packages (from visualdl>=2.1.0; python_version <= \"3.7\"->paddledet==2.1.0) (7.1.2)\n",
            "Requirement already satisfied: protobuf>=3.11.0 in /usr/local/lib/python3.7/dist-packages (from visualdl>=2.1.0; python_version <= \"3.7\"->paddledet==2.1.0) (3.17.3)\n",
            "Collecting bce-python-sdk\n",
            "\u001b[?25l  Downloading https://mirror.baidu.com/pypi/packages/28/75/8bf48f52fd50a3b6f54c32e0c1c2791e80eb7bc54a712210a69e4236aaac/bce_python_sdk-0.8.61-py3-none-any.whl (197kB)\n",
            "\u001b[K     |████████████████████████████████| 204kB 19.6MB/s \n",
            "\u001b[?25hRequirement already satisfied: flask>=1.1.1 in /usr/local/lib/python3.7/dist-packages (from visualdl>=2.1.0; python_version <= \"3.7\"->paddledet==2.1.0) (1.1.4)\n",
            "Requirement already satisfied: six>=1.14.0 in /usr/local/lib/python3.7/dist-packages (from visualdl>=2.1.0; python_version <= \"3.7\"->paddledet==2.1.0) (1.15.0)\n",
            "Collecting pre-commit\n",
            "\u001b[?25l  Downloading https://mirror.baidu.com/pypi/packages/b2/38/3e5475cbd6921cd8208a06c113384a88bb19ce0cda1155f33d4f19183de1/pre_commit-2.13.0-py2.py3-none-any.whl (190kB)\n",
            "\u001b[K     |████████████████████████████████| 194kB 20.4MB/s \n",
            "\u001b[?25hRequirement already satisfied: requests in /usr/local/lib/python3.7/dist-packages (from visualdl>=2.1.0; python_version <= \"3.7\"->paddledet==2.1.0) (2.23.0)\n",
            "Collecting shellcheck-py\n",
            "\u001b[?25l  Downloading https://mirror.baidu.com/pypi/packages/77/c9/6f84db444de69e1bdbfd168ae6f3d5af72107c16cd9db3c0a1f8e41204d1/shellcheck_py-0.7.2.1-py2.py3-none-manylinux1_x86_64.whl (2.0MB)\n",
            "\u001b[K     |████████████████████████████████| 2.0MB 14.0MB/s \n",
            "\u001b[?25hCollecting Flask-Babel>=1.0.0\n",
            "  Downloading https://mirror.baidu.com/pypi/packages/ab/3e/02331179ffab8b79e0383606a028b6a60fb1b4419b84935edd43223406a0/Flask_Babel-2.0.0-py3-none-any.whl\n",
            "Requirement already satisfied: kiwisolver>=1.0.1 in /usr/local/lib/python3.7/dist-packages (from matplotlib>=2.1.0->pycocotools->paddledet==2.1.0) (1.3.1)\n",
            "Requirement already satisfied: python-dateutil>=2.1 in /usr/local/lib/python3.7/dist-packages (from matplotlib>=2.1.0->pycocotools->paddledet==2.1.0) (2.8.1)\n",
            "Requirement already satisfied: cycler>=0.10 in /usr/local/lib/python3.7/dist-packages (from matplotlib>=2.1.0->pycocotools->paddledet==2.1.0) (0.10.0)\n",
            "Requirement already satisfied: pyparsing!=2.0.4,!=2.1.2,!=2.1.6,>=2.0.1 in /usr/local/lib/python3.7/dist-packages (from matplotlib>=2.1.0->pycocotools->paddledet==2.1.0) (2.4.7)\n",
            "Requirement already satisfied: pytz>=2017.2 in /usr/local/lib/python3.7/dist-packages (from pandas>=0.23.1->motmetrics->paddledet==2.1.0) (2018.9)\n",
            "Collecting pycodestyle<2.8.0,>=2.7.0\n",
            "\u001b[?25l  Downloading https://mirror.baidu.com/pypi/packages/de/cc/227251b1471f129bc35e966bb0fceb005969023926d744139642d847b7ae/pycodestyle-2.7.0-py2.py3-none-any.whl (41kB)\n",
            "\u001b[K     |████████████████████████████████| 51kB 6.3MB/s \n",
            "\u001b[?25hRequirement already satisfied: importlib-metadata; python_version < \"3.8\" in /usr/local/lib/python3.7/dist-packages (from flake8->motmetrics->paddledet==2.1.0) (4.6.0)\n",
            "Collecting mccabe<0.7.0,>=0.6.0\n",
            "  Downloading https://mirror.baidu.com/pypi/packages/87/89/479dc97e18549e21354893e4ee4ef36db1d237534982482c3681ee6e7b57/mccabe-0.6.1-py2.py3-none-any.whl\n",
            "Collecting pyflakes<2.4.0,>=2.3.0\n",
            "\u001b[?25l  Downloading https://mirror.baidu.com/pypi/packages/6c/11/2a745612f1d3cbbd9c69ba14b1b43a35a2f5c3c81cd0124508c52c64307f/pyflakes-2.3.1-py2.py3-none-any.whl (68kB)\n",
            "\u001b[K     |████████████████████████████████| 71kB 7.2MB/s \n",
            "\u001b[?25hRequirement already satisfied: py>=1.5.0 in /usr/local/lib/python3.7/dist-packages (from pytest->motmetrics->paddledet==2.1.0) (1.10.0)\n",
            "Requirement already satisfied: attrs>=17.4.0 in /usr/local/lib/python3.7/dist-packages (from pytest->motmetrics->paddledet==2.1.0) (21.2.0)\n",
            "Requirement already satisfied: pluggy<0.8,>=0.5 in /usr/local/lib/python3.7/dist-packages (from pytest->motmetrics->paddledet==2.1.0) (0.7.1)\n",
            "Requirement already satisfied: atomicwrites>=1.0 in /usr/local/lib/python3.7/dist-packages (from pytest->motmetrics->paddledet==2.1.0) (1.4.0)\n",
            "Requirement already satisfied: more-itertools>=4.0.0 in /usr/local/lib/python3.7/dist-packages (from pytest->motmetrics->paddledet==2.1.0) (8.8.0)\n",
            "Collecting py-cpuinfo\n",
            "\u001b[?25l  Downloading https://mirror.baidu.com/pypi/packages/e6/ba/77120e44cbe9719152415b97d5bfb29f4053ee987d6cb63f55ce7d50fadc/py-cpuinfo-8.0.0.tar.gz (99kB)\n",
            "\u001b[K     |████████████████████████████████| 102kB 9.4MB/s \n",
            "\u001b[?25hRequirement already satisfied: joblib>=0.11 in /usr/local/lib/python3.7/dist-packages (from scikit-learn->sklearn->paddledet==2.1.0) (1.0.1)\n",
            "Requirement already satisfied: future>=0.6.0 in /usr/local/lib/python3.7/dist-packages (from bce-python-sdk->visualdl>=2.1.0; python_version <= \"3.7\"->paddledet==2.1.0) (0.16.0)\n",
            "Collecting pycryptodome>=3.8.0\n",
            "\u001b[?25l  Downloading https://mirror.baidu.com/pypi/packages/ad/16/9627ab0493894a11c68e46000dbcc82f578c8ff06bc2980dcd016aea9bd3/pycryptodome-3.10.1-cp35-abi3-manylinux2010_x86_64.whl (1.9MB)\n",
            "\u001b[K     |████████████████████████████████| 1.9MB 15.3MB/s \n",
            "\u001b[?25hRequirement already satisfied: Werkzeug<2.0,>=0.15 in /usr/local/lib/python3.7/dist-packages (from flask>=1.1.1->visualdl>=2.1.0; python_version <= \"3.7\"->paddledet==2.1.0) (1.0.1)\n",
            "Requirement already satisfied: click<8.0,>=5.1 in /usr/local/lib/python3.7/dist-packages (from flask>=1.1.1->visualdl>=2.1.0; python_version <= \"3.7\"->paddledet==2.1.0) (7.1.2)\n",
            "Requirement already satisfied: Jinja2<3.0,>=2.10.1 in /usr/local/lib/python3.7/dist-packages (from flask>=1.1.1->visualdl>=2.1.0; python_version <= \"3.7\"->paddledet==2.1.0) (2.11.3)\n",
            "Requirement already satisfied: itsdangerous<2.0,>=0.24 in /usr/local/lib/python3.7/dist-packages (from flask>=1.1.1->visualdl>=2.1.0; python_version <= \"3.7\"->paddledet==2.1.0) (1.1.0)\n",
            "Collecting nodeenv>=0.11.1\n",
            "  Downloading https://mirror.baidu.com/pypi/packages/54/73/56c89b343befb9c63e8117294d265458f0ff726fa2abcdc6bb5ec5e66a1a/nodeenv-1.6.0-py2.py3-none-any.whl\n",
            "Collecting virtualenv>=20.0.8\n",
            "\u001b[?25l  Downloading https://mirror.baidu.com/pypi/packages/76/38/6a1ed00d05ec4f6e7c587e3e5ec7de827e1164c030d9a2a891463aff95d5/virtualenv-20.5.0-py2.py3-none-any.whl (5.3MB)\n",
            "\u001b[K     |████████████████████████████████| 5.3MB 16.2MB/s \n",
            "\u001b[?25hCollecting cfgv>=2.0.0\n",
            "  Downloading https://mirror.baidu.com/pypi/packages/49/54/83bf9b6ba673bf7d5ebe3846a5f6d3a53925cfd331aa29ec6b5b9c42a850/cfgv-3.3.0-py2.py3-none-any.whl\n",
            "Collecting identify>=1.0.0\n",
            "\u001b[?25l  Downloading https://mirror.baidu.com/pypi/packages/c7/b7/0f4009c9e23f7017be400e06dc0251671d64ba4fddaab82c98210d649a15/identify-2.2.11-py2.py3-none-any.whl (98kB)\n",
            "\u001b[K     |████████████████████████████████| 102kB 9.4MB/s \n",
            "\u001b[?25hRequirement already satisfied: toml in /usr/local/lib/python3.7/dist-packages (from pre-commit->visualdl>=2.1.0; python_version <= \"3.7\"->paddledet==2.1.0) (0.10.2)\n",
            "Requirement already satisfied: certifi>=2017.4.17 in /usr/local/lib/python3.7/dist-packages (from requests->visualdl>=2.1.0; python_version <= \"3.7\"->paddledet==2.1.0) (2021.5.30)\n",
            "Requirement already satisfied: chardet<4,>=3.0.2 in /usr/local/lib/python3.7/dist-packages (from requests->visualdl>=2.1.0; python_version <= \"3.7\"->paddledet==2.1.0) (3.0.4)\n",
            "Requirement already satisfied: idna<3,>=2.5 in /usr/local/lib/python3.7/dist-packages (from requests->visualdl>=2.1.0; python_version <= \"3.7\"->paddledet==2.1.0) (2.10)\n",
            "Requirement already satisfied: urllib3!=1.25.0,!=1.25.1,<1.26,>=1.21.1 in /usr/local/lib/python3.7/dist-packages (from requests->visualdl>=2.1.0; python_version <= \"3.7\"->paddledet==2.1.0) (1.24.3)\n",
            "Requirement already satisfied: Babel>=2.3 in /usr/local/lib/python3.7/dist-packages (from Flask-Babel>=1.0.0->visualdl>=2.1.0; python_version <= \"3.7\"->paddledet==2.1.0) (2.9.1)\n",
            "Requirement already satisfied: typing-extensions>=3.6.4; python_version < \"3.8\" in /usr/local/lib/python3.7/dist-packages (from importlib-metadata; python_version < \"3.8\"->flake8->motmetrics->paddledet==2.1.0) (3.7.4.3)\n",
            "Requirement already satisfied: zipp>=0.5 in /usr/local/lib/python3.7/dist-packages (from importlib-metadata; python_version < \"3.8\"->flake8->motmetrics->paddledet==2.1.0) (3.4.1)\n",
            "Requirement already satisfied: MarkupSafe>=0.23 in /usr/local/lib/python3.7/dist-packages (from Jinja2<3.0,>=2.10.1->flask>=1.1.1->visualdl>=2.1.0; python_version <= \"3.7\"->paddledet==2.1.0) (2.0.1)\n",
            "Collecting distlib<1,>=0.3.1\n",
            "\u001b[?25l  Downloading https://mirror.baidu.com/pypi/packages/87/26/f6a23dd3e578132cf924e0dd5d4e055af0cd4ab43e2a9f10b7568bfb39d9/distlib-0.3.2-py2.py3-none-any.whl (338kB)\n",
            "\u001b[K     |████████████████████████████████| 348kB 16.3MB/s \n",
            "\u001b[?25hRequirement already satisfied: filelock<4,>=3.0.0 in /usr/local/lib/python3.7/dist-packages (from virtualenv>=20.0.8->pre-commit->visualdl>=2.1.0; python_version <= \"3.7\"->paddledet==2.1.0) (3.0.12)\n",
            "Collecting platformdirs<3,>=2\n",
            "  Downloading https://mirror.baidu.com/pypi/packages/12/57/f4e6d433fba8bde239baa65f626a31fc6d0556a2065fcc81aaa0f4f1507b/platformdirs-2.0.2-py2.py3-none-any.whl\n",
            "Collecting backports.entry-points-selectable>=1.0.4\n",
            "  Downloading https://mirror.baidu.com/pypi/packages/0c/cd/1e156227cad9f599524eb10af62a2362f872910a49402dbd2bea2dedc91c/backports.entry_points_selectable-1.1.0-py2.py3-none-any.whl\n",
            "Building wheels for collected packages: terminaltables, lap, py-cpuinfo\n",
            "  Building wheel for terminaltables (setup.py) ... \u001b[?25l\u001b[?25hdone\n",
            "  Created wheel for terminaltables: filename=terminaltables-3.1.0-cp37-none-any.whl size=15356 sha256=c7a764555080c331a9b72e22598e4105dab4bb6d09235d421f85b8cc0bd51913\n",
            "  Stored in directory: /root/.cache/pip/wheels/38/ce/e7/382f63c6888f05daac9bffbdea230dc620ceda20bedb449dce\n",
            "  Building wheel for lap (setup.py) ... \u001b[?25l\u001b[?25hdone\n",
            "  Created wheel for lap: filename=lap-0.4.0-cp37-cp37m-linux_x86_64.whl size=1590141 sha256=25f9dad2f1dc8a62f48d6c34c9a1b03b9c676043f7140ee83881de541c22902e\n",
            "  Stored in directory: /root/.cache/pip/wheels/83/50/a9/e3660736bfb1fb50598b822551bb8c7ff04f1a4ecf69c42277\n",
            "  Building wheel for py-cpuinfo (setup.py) ... \u001b[?25l\u001b[?25hdone\n",
            "  Created wheel for py-cpuinfo: filename=py_cpuinfo-8.0.0-cp37-none-any.whl size=22258 sha256=3f1adc83008d3bf44ee689f35cb7bd92b7c79628395c066c27a25c675391a2e7\n",
            "  Stored in directory: /root/.cache/pip/wheels/a5/77/fe/bd2fe25844956ae1e2353d7b2ffc9a90ab8c3c1b4b0862e1e9\n",
            "Successfully built terminaltables lap py-cpuinfo\n",
            "\u001b[31mERROR: pytest-benchmark 3.4.1 has requirement pytest>=3.8, but you'll have pytest 3.6.4 which is incompatible.\u001b[0m\n",
            "\u001b[31mERROR: pre-commit 2.13.0 has requirement pyyaml>=5.1, but you'll have pyyaml 3.13 which is incompatible.\u001b[0m\n",
            "Installing collected packages: pycodestyle, mccabe, pyflakes, flake8, xmltodict, flake8-import-order, py-cpuinfo, pytest-benchmark, motmetrics, terminaltables, lap, pycryptodome, bce-python-sdk, nodeenv, distlib, platformdirs, backports.entry-points-selectable, virtualenv, cfgv, identify, pre-commit, shellcheck-py, Flask-Babel, visualdl, paddledet\n",
            "Successfully installed Flask-Babel-2.0.0 backports.entry-points-selectable-1.1.0 bce-python-sdk-0.8.61 cfgv-3.3.0 distlib-0.3.2 flake8-3.9.2 flake8-import-order-0.18.1 identify-2.2.11 lap-0.4.0 mccabe-0.6.1 motmetrics-1.2.0 nodeenv-1.6.0 paddledet-2.1.0 platformdirs-2.0.2 pre-commit-2.13.0 py-cpuinfo-8.0.0 pycodestyle-2.7.0 pycryptodome-3.10.1 pyflakes-2.3.1 pytest-benchmark-3.4.1 shellcheck-py-0.7.2.1 terminaltables-3.1.0 virtualenv-20.5.0 visualdl-2.2.0 xmltodict-0.12.0\n"
          ],
          "name": "stdout"
        }
      ]
    },
    {
      "cell_type": "code",
      "metadata": {
        "id": "TqilncsBrF7w"
      },
      "source": [
        "#clone repo\n",
        "#!git clone https://github.com/PaddlePaddle/PaddleDetection.git"
      ],
      "execution_count": null,
      "outputs": []
    },
    {
      "cell_type": "code",
      "metadata": {
        "colab": {
          "base_uri": "https://localhost:8080/"
        },
        "id": "AsVvlZs8FhlE",
        "outputId": "346b9558-9308-4685-e3fe-9516878683bb"
      },
      "source": [
        "!gdown --id 13JI5n_qH_rTbSr0NSFrg4_C9MPGRJVte"
      ],
      "execution_count": 6,
      "outputs": [
        {
          "output_type": "stream",
          "text": [
            "Downloading...\n",
            "From: https://drive.google.com/uc?id=13JI5n_qH_rTbSr0NSFrg4_C9MPGRJVte\n",
            "To: /content/Dataset.zip\n",
            "214MB [00:05, 35.8MB/s]\n"
          ],
          "name": "stdout"
        }
      ]
    },
    {
      "cell_type": "code",
      "metadata": {
        "id": "gpahhZQsFzwi"
      },
      "source": [
        "!cp -r /content/Dataset /content/gdrive/MyDrive/PP-Yolo_custom/PaddleDetection/dataset/coco/images"
      ],
      "execution_count": 8,
      "outputs": []
    },
    {
      "cell_type": "code",
      "metadata": {
        "colab": {
          "base_uri": "https://localhost:8080/"
        },
        "id": "iGfwQ18BHnLj",
        "outputId": "2c8fbbee-f59c-4106-e21f-0f16178f6ed6"
      },
      "source": [
        "%cd /content/gdrive/MyDrive/PP-Yolo_custom/PaddleDetection"
      ],
      "execution_count": 9,
      "outputs": [
        {
          "output_type": "stream",
          "text": [
            "/content/gdrive/MyDrive/PP-Yolo_custom/PaddleDetection\n"
          ],
          "name": "stdout"
        }
      ]
    },
    {
      "cell_type": "code",
      "metadata": {
        "colab": {
          "base_uri": "https://localhost:8080/"
        },
        "id": "KAV9dgxbxBvT",
        "outputId": "6f5d99bf-ba9f-41c1-9e12-9890e2bf01b1"
      },
      "source": [
        "!pwd"
      ],
      "execution_count": 10,
      "outputs": [
        {
          "output_type": "stream",
          "text": [
            "/content/gdrive/MyDrive/PP-Yolo_custom/PaddleDetection\n"
          ],
          "name": "stdout"
        }
      ]
    },
    {
      "cell_type": "code",
      "metadata": {
        "colab": {
          "base_uri": "https://localhost:8080/"
        },
        "id": "V2_MjADXEnqF",
        "outputId": "d6972e1b-f2a9-4daf-a671-f7ab851a91f8"
      },
      "source": [
        "# training\n",
        "!export CUDA_VISIBLE_DEVICES=0\n",
        "!python tools/train.py -c configs/ppyolo/ppyolo_r50vd_dcn_1x_coco.yml # -r /content/gdrive/MyDrive/PP-Yolo_custom/PaddleDetection/output/ppyolo_r50vd_dcn_1x_coco/191"
      ],
      "execution_count": 15,
      "outputs": [
        {
          "output_type": "stream",
          "text": [
            "/usr/local/lib/python3.7/dist-packages/IPython/utils/module_paths.py:29: DeprecationWarning: the imp module is deprecated in favour of importlib; see the module's documentation for alternative uses\n",
            "  import imp\n",
            "/usr/local/lib/python3.7/dist-packages/yaml/constructor.py:126: DeprecationWarning: Using or importing the ABCs from 'collections' instead of from 'collections.abc' is deprecated since Python 3.3,and in 3.9 it will stop working\n",
            "  if not isinstance(key, collections.Hashable):\n",
            "loading annotations into memory...\n",
            "Done (t=0.10s)\n",
            "creating index...\n",
            "index created!\n",
            "[07/14 14:12:25] ppdet.data.source.coco WARNING: Illegal image file: dataset/coco/images/Dataset/000000006818.jpg, and it will be ignored\n",
            "[07/14 14:12:25] ppdet.data.source.coco WARNING: Illegal image file: dataset/coco/images/Dataset/000000016228.jpg, and it will be ignored\n",
            "[07/14 14:12:25] ppdet.data.source.coco WARNING: Illegal image file: dataset/coco/images/Dataset/000000017627.jpg, and it will be ignored\n",
            "[07/14 14:12:25] ppdet.data.source.coco WARNING: Illegal image file: dataset/coco/images/Dataset/000000023899.jpg, and it will be ignored\n",
            "[07/14 14:12:25] ppdet.data.source.coco WARNING: Illegal image file: dataset/coco/images/Dataset/000000025560.jpg, and it will be ignored\n",
            "[07/14 14:12:25] ppdet.data.source.coco WARNING: Illegal image file: dataset/coco/images/Dataset/000000033638.jpg, and it will be ignored\n",
            "[07/14 14:12:25] ppdet.data.source.coco WARNING: Illegal image file: dataset/coco/images/Dataset/000000035197.jpg, and it will be ignored\n",
            "[07/14 14:12:25] ppdet.data.source.coco WARNING: Illegal image file: dataset/coco/images/Dataset/000000058636.jpg, and it will be ignored\n",
            "[07/14 14:12:25] ppdet.data.source.coco WARNING: Illegal image file: dataset/coco/images/Dataset/000000063154.jpg, and it will be ignored\n",
            "[07/14 14:12:25] ppdet.data.source.coco WARNING: Illegal image file: dataset/coco/images/Dataset/000000066523.jpg, and it will be ignored\n",
            "[07/14 14:12:25] ppdet.data.source.coco WARNING: Illegal image file: dataset/coco/images/Dataset/000000078915.jpg, and it will be ignored\n",
            "[07/14 14:12:25] ppdet.data.source.coco WARNING: Illegal image file: dataset/coco/images/Dataset/000000080671.jpg, and it will be ignored\n",
            "[07/14 14:12:25] ppdet.data.source.coco WARNING: Illegal image file: dataset/coco/images/Dataset/000000085329.jpg, and it will be ignored\n",
            "[07/14 14:12:25] ppdet.data.source.coco WARNING: Illegal image file: dataset/coco/images/Dataset/000000087038.jpg, and it will be ignored\n",
            "[07/14 14:12:25] ppdet.data.source.coco WARNING: Illegal image file: dataset/coco/images/Dataset/000000095786.jpg, and it will be ignored\n",
            "[07/14 14:12:25] ppdet.data.source.coco WARNING: Illegal image file: dataset/coco/images/Dataset/000000096493.jpg, and it will be ignored\n",
            "[07/14 14:12:25] ppdet.data.source.coco WARNING: Illegal image file: dataset/coco/images/Dataset/000000104612.jpg, and it will be ignored\n",
            "[07/14 14:12:25] ppdet.data.source.coco WARNING: Illegal image file: dataset/coco/images/Dataset/000000109798.jpg, and it will be ignored\n",
            "[07/14 14:12:25] ppdet.data.source.coco WARNING: Illegal image file: dataset/coco/images/Dataset/000000122745.jpg, and it will be ignored\n",
            "[07/14 14:12:25] ppdet.data.source.coco WARNING: Illegal image file: dataset/coco/images/Dataset/000000125211.jpg, and it will be ignored\n",
            "[07/14 14:12:25] ppdet.data.source.coco WARNING: Illegal image file: dataset/coco/images/Dataset/000000142092.jpg, and it will be ignored\n",
            "[07/14 14:12:25] ppdet.data.source.coco WARNING: Illegal image file: dataset/coco/images/Dataset/000000143931.jpg, and it will be ignored\n",
            "[07/14 14:12:25] ppdet.data.source.coco WARNING: Illegal image file: dataset/coco/images/Dataset/000000153299.jpg, and it will be ignored\n",
            "[07/14 14:12:25] ppdet.data.source.coco WARNING: Illegal image file: dataset/coco/images/Dataset/000000153343.jpg, and it will be ignored\n",
            "[07/14 14:12:25] ppdet.data.source.coco WARNING: Illegal image file: dataset/coco/images/Dataset/000000173383.jpg, and it will be ignored\n",
            "[07/14 14:12:25] ppdet.data.source.coco WARNING: Illegal image file: dataset/coco/images/Dataset/000000180135.jpg, and it will be ignored\n",
            "[07/14 14:12:25] ppdet.data.source.coco WARNING: Illegal image file: dataset/coco/images/Dataset/000000181666.jpg, and it will be ignored\n",
            "[07/14 14:12:25] ppdet.data.source.coco WARNING: Illegal image file: dataset/coco/images/Dataset/000000184321.jpg, and it will be ignored\n",
            "[07/14 14:12:25] ppdet.data.source.coco WARNING: Illegal image file: dataset/coco/images/Dataset/000000184791.jpg, and it will be ignored\n",
            "[07/14 14:12:25] ppdet.data.source.coco WARNING: Illegal image file: dataset/coco/images/Dataset/000000185250.jpg, and it will be ignored\n",
            "[07/14 14:12:25] ppdet.data.source.coco WARNING: Illegal image file: dataset/coco/images/Dataset/000000199551.jpg, and it will be ignored\n",
            "[07/14 14:12:25] ppdet.data.source.coco WARNING: Illegal image file: dataset/coco/images/Dataset/000000219578.jpg, and it will be ignored\n",
            "[07/14 14:12:25] ppdet.data.source.coco WARNING: Illegal image file: dataset/coco/images/Dataset/000000226111.jpg, and it will be ignored\n",
            "[07/14 14:12:25] ppdet.data.source.coco WARNING: Illegal image file: dataset/coco/images/Dataset/000000231339.jpg, and it will be ignored\n",
            "[07/14 14:12:25] ppdet.data.source.coco WARNING: Illegal image file: dataset/coco/images/Dataset/000000233771.jpg, and it will be ignored\n",
            "[07/14 14:12:25] ppdet.data.source.coco WARNING: Illegal image file: dataset/coco/images/Dataset/000000236412.jpg, and it will be ignored\n",
            "[07/14 14:12:25] ppdet.data.source.coco WARNING: Illegal image file: dataset/coco/images/Dataset/000000238866.jpg, and it will be ignored\n",
            "[07/14 14:12:25] ppdet.data.source.coco WARNING: Illegal image file: dataset/coco/images/Dataset/000000239274.jpg, and it will be ignored\n",
            "[07/14 14:12:25] ppdet.data.source.coco WARNING: Illegal image file: dataset/coco/images/Dataset/000000239347.jpg, and it will be ignored\n",
            "[07/14 14:12:25] ppdet.data.source.coco WARNING: Illegal image file: dataset/coco/images/Dataset/000000252219.jpg, and it will be ignored\n",
            "[07/14 14:12:25] ppdet.data.source.coco WARNING: Illegal image file: dataset/coco/images/Dataset/000000261061.jpg, and it will be ignored\n",
            "[07/14 14:12:25] ppdet.data.source.coco WARNING: Illegal image file: dataset/coco/images/Dataset/000000266409.jpg, and it will be ignored\n",
            "[07/14 14:12:25] ppdet.data.source.coco WARNING: Illegal image file: dataset/coco/images/Dataset/000000270244.jpg, and it will be ignored\n",
            "[07/14 14:12:25] ppdet.data.source.coco WARNING: Illegal image file: dataset/coco/images/Dataset/000000286994.jpg, and it will be ignored\n",
            "[07/14 14:12:25] ppdet.data.source.coco WARNING: Illegal image file: dataset/coco/images/Dataset/000000297343.jpg, and it will be ignored\n",
            "[07/14 14:12:25] ppdet.data.source.coco WARNING: Illegal image file: dataset/coco/images/Dataset/000000301867.jpg, and it will be ignored\n",
            "[07/14 14:12:25] ppdet.data.source.coco WARNING: Illegal image file: dataset/coco/images/Dataset/000000308394.jpg, and it will be ignored\n",
            "[07/14 14:12:25] ppdet.data.source.coco WARNING: Illegal image file: dataset/coco/images/Dataset/000000312421.jpg, and it will be ignored\n",
            "[07/14 14:12:25] ppdet.data.source.coco WARNING: Illegal image file: dataset/coco/images/Dataset/000000314294.jpg, and it will be ignored\n",
            "[07/14 14:12:25] ppdet.data.source.coco WARNING: Illegal image file: dataset/coco/images/Dataset/000000321214.jpg, and it will be ignored\n",
            "[07/14 14:12:25] ppdet.data.source.coco WARNING: Illegal image file: dataset/coco/images/Dataset/000000322864.jpg, and it will be ignored\n",
            "[07/14 14:12:25] ppdet.data.source.coco WARNING: Illegal image file: dataset/coco/images/Dataset/000000329219.jpg, and it will be ignored\n",
            "[07/14 14:12:25] ppdet.data.source.coco WARNING: Illegal image file: dataset/coco/images/Dataset/000000329323.jpg, and it will be ignored\n",
            "[07/14 14:12:25] ppdet.data.source.coco WARNING: Illegal image file: dataset/coco/images/Dataset/000000331352.jpg, and it will be ignored\n",
            "[07/14 14:12:25] ppdet.data.source.coco WARNING: Illegal image file: dataset/coco/images/Dataset/000000336587.jpg, and it will be ignored\n",
            "[07/14 14:12:25] ppdet.data.source.coco WARNING: Illegal image file: dataset/coco/images/Dataset/000000342006.jpg, and it will be ignored\n",
            "[07/14 14:12:25] ppdet.data.source.coco WARNING: Illegal image file: dataset/coco/images/Dataset/000000347693.jpg, and it will be ignored\n",
            "[07/14 14:12:25] ppdet.data.source.coco WARNING: Illegal image file: dataset/coco/images/Dataset/000000348881.jpg, and it will be ignored\n",
            "[07/14 14:12:25] ppdet.data.source.coco WARNING: Illegal image file: dataset/coco/images/Dataset/000000349860.jpg, and it will be ignored\n",
            "[07/14 14:12:25] ppdet.data.source.coco WARNING: Illegal image file: dataset/coco/images/Dataset/000000356427.jpg, and it will be ignored\n",
            "[07/14 14:12:25] ppdet.data.source.coco WARNING: Illegal image file: dataset/coco/images/Dataset/000000366141.jpg, and it will be ignored\n",
            "[07/14 14:12:25] ppdet.data.source.coco WARNING: Illegal image file: dataset/coco/images/Dataset/000000368294.jpg, and it will be ignored\n",
            "[07/14 14:12:25] ppdet.data.source.coco WARNING: Illegal image file: dataset/coco/images/Dataset/000000369370.jpg, and it will be ignored\n",
            "[07/14 14:12:25] ppdet.data.source.coco WARNING: Illegal image file: dataset/coco/images/Dataset/000000370677.jpg, and it will be ignored\n",
            "[07/14 14:12:25] ppdet.data.source.coco WARNING: Illegal image file: dataset/coco/images/Dataset/000000382088.jpg, and it will be ignored\n",
            "[07/14 14:12:25] ppdet.data.source.coco WARNING: Illegal image file: dataset/coco/images/Dataset/000000383384.jpg, and it will be ignored\n",
            "[07/14 14:12:25] ppdet.data.source.coco WARNING: Illegal image file: dataset/coco/images/Dataset/000000399462.jpg, and it will be ignored\n",
            "[07/14 14:12:25] ppdet.data.source.coco WARNING: Illegal image file: dataset/coco/images/Dataset/000000400573.jpg, and it will be ignored\n",
            "[07/14 14:12:25] ppdet.data.source.coco WARNING: Illegal image file: dataset/coco/images/Dataset/000000403385.jpg, and it will be ignored\n",
            "[07/14 14:12:25] ppdet.data.source.coco WARNING: Illegal image file: dataset/coco/images/Dataset/000000403817.jpg, and it will be ignored\n",
            "[07/14 14:12:25] ppdet.data.source.coco WARNING: Illegal image file: dataset/coco/images/Dataset/000000418281.jpg, and it will be ignored\n",
            "[07/14 14:12:25] ppdet.data.source.coco WARNING: Illegal image file: dataset/coco/images/Dataset/000000430961.jpg, and it will be ignored\n",
            "[07/14 14:12:25] ppdet.data.source.coco WARNING: Illegal image file: dataset/coco/images/Dataset/000000438862.jpg, and it will be ignored\n",
            "[07/14 14:12:25] ppdet.data.source.coco WARNING: Illegal image file: dataset/coco/images/Dataset/000000448365.jpg, and it will be ignored\n",
            "[07/14 14:12:25] ppdet.data.source.coco WARNING: Illegal image file: dataset/coco/images/Dataset/000000458054.jpg, and it will be ignored\n",
            "[07/14 14:12:25] ppdet.data.source.coco WARNING: Illegal image file: dataset/coco/images/Dataset/000000460347.jpg, and it will be ignored\n",
            "[07/14 14:12:25] ppdet.data.source.coco WARNING: Illegal image file: dataset/coco/images/Dataset/000000474028.jpg, and it will be ignored\n",
            "[07/14 14:12:25] ppdet.data.source.coco WARNING: Illegal image file: dataset/coco/images/Dataset/000000475779.jpg, and it will be ignored\n",
            "[07/14 14:12:25] ppdet.data.source.coco WARNING: Illegal image file: dataset/coco/images/Dataset/000000476258.jpg, and it will be ignored\n",
            "[07/14 14:12:25] ppdet.data.source.coco WARNING: Illegal image file: dataset/coco/images/Dataset/000000480985.jpg, and it will be ignored\n",
            "[07/14 14:12:25] ppdet.data.source.coco WARNING: Illegal image file: dataset/coco/images/Dataset/000000486438.jpg, and it will be ignored\n",
            "[07/14 14:12:25] ppdet.data.source.coco WARNING: Illegal image file: dataset/coco/images/Dataset/000000491497.jpg, and it will be ignored\n",
            "[07/14 14:12:25] ppdet.data.source.coco WARNING: Illegal image file: dataset/coco/images/Dataset/000000500663.jpg, and it will be ignored\n",
            "[07/14 14:12:25] ppdet.data.source.coco WARNING: Illegal image file: dataset/coco/images/Dataset/000000502136.jpg, and it will be ignored\n",
            "[07/14 14:12:25] ppdet.data.source.coco WARNING: Illegal image file: dataset/coco/images/Dataset/000000502737.jpg, and it will be ignored\n",
            "[07/14 14:12:25] ppdet.data.source.coco WARNING: Illegal image file: dataset/coco/images/Dataset/000000511321.jpg, and it will be ignored\n",
            "[07/14 14:12:25] ppdet.data.source.coco WARNING: Illegal image file: dataset/coco/images/Dataset/000000514508.jpg, and it will be ignored\n",
            "[07/14 14:12:25] ppdet.data.source.coco WARNING: Illegal image file: dataset/coco/images/Dataset/000000515445.jpg, and it will be ignored\n",
            "[07/14 14:12:25] ppdet.data.source.coco WARNING: Illegal image file: dataset/coco/images/Dataset/000000515579.jpg, and it will be ignored\n",
            "[07/14 14:12:25] ppdet.data.source.coco WARNING: Illegal image file: dataset/coco/images/Dataset/000000522713.jpg, and it will be ignored\n",
            "[07/14 14:12:25] ppdet.data.source.coco WARNING: Illegal image file: dataset/coco/images/Dataset/000000544519.jpg, and it will be ignored\n",
            "[07/14 14:12:25] ppdet.data.source.coco WARNING: Illegal image file: dataset/coco/images/Dataset/000000550426.jpg, and it will be ignored\n",
            "[07/14 14:12:25] ppdet.data.source.coco WARNING: Illegal image file: dataset/coco/images/Dataset/000000551215.jpg, and it will be ignored\n",
            "[07/14 14:12:25] ppdet.data.source.coco WARNING: Illegal image file: dataset/coco/images/Dataset/000000555705.jpg, and it will be ignored\n",
            "[07/14 14:12:25] ppdet.data.source.coco WARNING: Illegal image file: dataset/coco/images/Dataset/000000562121.jpg, and it will be ignored\n",
            "[07/14 14:12:25] ppdet.data.source.coco WARNING: Illegal image file: dataset/coco/images/Dataset/000000577539.jpg, and it will be ignored\n",
            "[07/14 14:12:25] ppdet.data.source.coco WARNING: Illegal image file: dataset/coco/images/Dataset/000000580294.jpg, and it will be ignored\n",
            "W0714 14:12:25.445797  1768 device_context.cc:404] Please NOTE: device: 0, GPU Compute Capability: 7.5, Driver API Version: 11.2, Runtime API Version: 10.1\n",
            "W0714 14:12:25.461304  1768 device_context.cc:422] device: 0, cuDNN Version: 7.6.\n",
            "[07/14 14:12:30] ppdet.utils.checkpoint INFO: Finish loading model weights: /root/.cache/paddle/weights/ResNet50_vd_ssld_pretrained.pdparams\n",
            "[07/14 14:12:31] ppdet.engine INFO: Epoch: [0] [  0/273] learning_rate: 0.000000 loss_xy: 4.302205 loss_wh: 13.792829 loss_iou: 16.640400 loss_iou_aware: 2.706024 loss_obj: 12464.900391 loss_cls: 16.886448 loss: 12519.228516 eta: 2 days, 2:10:45 batch_cost: 0.6617 data_cost: 0.0013 ips: 6.0450 images/s\n",
            "[07/14 14:12:40] ppdet.engine INFO: Epoch: [0] [ 20/273] learning_rate: 0.000001 loss_xy: 3.661565 loss_wh: 13.530967 loss_iou: 14.078250 loss_iou_aware: 2.731179 loss_obj: 5651.688965 loss_cls: 15.644511 loss: 5705.945801 eta: 1 day, 7:53:25 batch_cost: 0.4085 data_cost: 0.0006 ips: 9.7917 images/s\n",
            "[07/14 14:12:50] ppdet.engine INFO: Epoch: [0] [ 40/273] learning_rate: 0.000002 loss_xy: 3.201068 loss_wh: 8.690654 loss_iou: 11.604031 loss_iou_aware: 2.026899 loss_obj: 360.933014 loss_cls: 11.718576 loss: 465.071686 eta: 1 day, 7:58:30 batch_cost: 0.4229 data_cost: 0.0010 ips: 9.4581 images/s\n",
            "[07/14 14:13:00] ppdet.engine INFO: Epoch: [0] [ 60/273] learning_rate: 0.000003 loss_xy: 4.482879 loss_wh: 13.576404 loss_iou: 16.823330 loss_iou_aware: 3.568409 loss_obj: 116.012474 loss_cls: 18.625992 loss: 170.473206 eta: 1 day, 8:34:36 batch_cost: 0.4460 data_cost: 0.0005 ips: 8.9685 images/s\n",
            "[07/14 14:13:09] ppdet.engine INFO: Epoch: [0] [ 80/273] learning_rate: 0.000004 loss_xy: 2.732464 loss_wh: 9.172042 loss_iou: 10.588686 loss_iou_aware: 2.146963 loss_obj: 55.474312 loss_cls: 11.172176 loss: 96.355255 eta: 1 day, 8:03:21 batch_cost: 0.4020 data_cost: 0.0014 ips: 9.9508 images/s\n",
            "[07/14 14:13:19] ppdet.engine INFO: Epoch: [0] [100/273] learning_rate: 0.000005 loss_xy: 3.036809 loss_wh: 9.191586 loss_iou: 11.978100 loss_iou_aware: 2.370849 loss_obj: 53.402588 loss_cls: 12.933021 loss: 90.960838 eta: 1 day, 8:13:30 batch_cost: 0.4343 data_cost: 0.0015 ips: 9.2108 images/s\n",
            "[07/14 14:13:29] ppdet.engine INFO: Epoch: [0] [120/273] learning_rate: 0.000006 loss_xy: 3.992722 loss_wh: 12.263660 loss_iou: 16.811777 loss_iou_aware: 3.094945 loss_obj: 47.012177 loss_cls: 16.845242 loss: 104.466797 eta: 1 day, 8:00:46 batch_cost: 0.4084 data_cost: 0.0027 ips: 9.7955 images/s\n",
            "[07/14 14:13:39] ppdet.engine INFO: Epoch: [0] [140/273] learning_rate: 0.000007 loss_xy: 4.534791 loss_wh: 14.396047 loss_iou: 19.498493 loss_iou_aware: 3.446809 loss_obj: 50.394432 loss_cls: 19.968239 loss: 110.918617 eta: 1 day, 8:19:08 batch_cost: 0.4510 data_cost: 0.0005 ips: 8.8685 images/s\n",
            "[07/14 14:13:47] ppdet.engine INFO: Epoch: [0] [160/273] learning_rate: 0.000008 loss_xy: 3.525488 loss_wh: 11.635912 loss_iou: 15.574041 loss_iou_aware: 2.862851 loss_obj: 35.859406 loss_cls: 15.526454 loss: 89.377281 eta: 1 day, 7:43:52 batch_cost: 0.3642 data_cost: 0.0013 ips: 10.9825 images/s\n",
            "[07/14 14:13:57] ppdet.engine INFO: Epoch: [0] [180/273] learning_rate: 0.000009 loss_xy: 3.022157 loss_wh: 8.760405 loss_iou: 11.586676 loss_iou_aware: 2.406950 loss_obj: 32.652283 loss_cls: 10.641396 loss: 65.710281 eta: 1 day, 7:43:11 batch_cost: 0.4176 data_cost: 0.0018 ips: 9.5788 images/s\n",
            "[07/14 14:14:08] ppdet.engine INFO: Epoch: [0] [200/273] learning_rate: 0.000010 loss_xy: 4.626816 loss_wh: 11.416005 loss_iou: 17.894253 loss_iou_aware: 2.676835 loss_obj: 44.946320 loss_cls: 16.349709 loss: 98.964577 eta: 1 day, 8:07:21 batch_cost: 0.4723 data_cost: 0.0002 ips: 8.4690 images/s\n",
            "[07/14 14:14:17] ppdet.engine INFO: Epoch: [0] [220/273] learning_rate: 0.000011 loss_xy: 2.572687 loss_wh: 7.571507 loss_iou: 9.747955 loss_iou_aware: 1.654688 loss_obj: 26.637426 loss_cls: 9.711432 loss: 60.243263 eta: 1 day, 7:52:16 batch_cost: 0.3876 data_cost: 0.0020 ips: 10.3202 images/s\n",
            "[07/14 14:14:27] ppdet.engine INFO: Epoch: [0] [240/273] learning_rate: 0.000012 loss_xy: 2.988367 loss_wh: 9.096165 loss_iou: 12.395691 loss_iou_aware: 2.189116 loss_obj: 35.814144 loss_cls: 11.704605 loss: 73.084839 eta: 1 day, 8:12:23 batch_cost: 0.4743 data_cost: 0.0015 ips: 8.4339 images/s\n",
            "[07/14 14:14:37] ppdet.engine INFO: Epoch: [0] [260/273] learning_rate: 0.000013 loss_xy: 3.585710 loss_wh: 7.878835 loss_iou: 13.121672 loss_iou_aware: 2.291801 loss_obj: 31.254074 loss_cls: 12.339540 loss: 71.978271 eta: 1 day, 8:14:50 batch_cost: 0.4325 data_cost: 0.0015 ips: 9.2482 images/s\n",
            "[07/14 14:14:45] ppdet.engine INFO: Epoch: [1] [  0/273] learning_rate: 0.000014 loss_xy: 2.882877 loss_wh: 6.673310 loss_iou: 10.408831 loss_iou_aware: 2.026231 loss_obj: 25.448706 loss_cls: 9.827579 loss: 56.767044 eta: 1 day, 8:15:43 batch_cost: 0.4298 data_cost: 0.0010 ips: 9.3059 images/s\n",
            "[07/14 14:14:55] ppdet.engine INFO: Epoch: [1] [ 20/273] learning_rate: 0.000015 loss_xy: 3.249872 loss_wh: 7.388157 loss_iou: 11.982208 loss_iou_aware: 2.241570 loss_obj: 29.271578 loss_cls: 11.718367 loss: 66.359581 eta: 1 day, 8:19:41 batch_cost: 0.4392 data_cost: 0.0018 ips: 9.1080 images/s\n",
            "[07/14 14:15:04] ppdet.engine INFO: Epoch: [1] [ 40/273] learning_rate: 0.000016 loss_xy: 3.343885 loss_wh: 9.047551 loss_iou: 12.915682 loss_iou_aware: 2.620838 loss_obj: 28.954052 loss_cls: 13.481394 loss: 70.936371 eta: 1 day, 8:13:24 batch_cost: 0.4055 data_cost: 0.0008 ips: 9.8641 images/s\n",
            "[07/14 14:15:13] ppdet.engine INFO: Epoch: [1] [ 60/273] learning_rate: 0.000017 loss_xy: 2.622943 loss_wh: 6.818128 loss_iou: 10.152033 loss_iou_aware: 1.778356 loss_obj: 25.411278 loss_cls: 9.741661 loss: 55.333176 eta: 1 day, 7:59:25 batch_cost: 0.3746 data_cost: 0.0010 ips: 10.6783 images/s\n",
            "[07/14 14:15:23] ppdet.engine INFO: Epoch: [1] [ 80/273] learning_rate: 0.000018 loss_xy: 3.658973 loss_wh: 9.352175 loss_iou: 14.801401 loss_iou_aware: 2.374857 loss_obj: 31.983393 loss_cls: 13.493363 loss: 77.185486 eta: 1 day, 7:58:32 batch_cost: 0.4195 data_cost: 0.0014 ips: 9.5362 images/s\n",
            "[07/14 14:15:32] ppdet.engine INFO: Epoch: [1] [100/273] learning_rate: 0.000019 loss_xy: 3.207588 loss_wh: 8.171181 loss_iou: 11.851999 loss_iou_aware: 1.974080 loss_obj: 25.185244 loss_cls: 10.272542 loss: 63.517914 eta: 1 day, 7:48:53 batch_cost: 0.3831 data_cost: 0.0016 ips: 10.4420 images/s\n",
            "[07/14 14:15:42] ppdet.engine INFO: Epoch: [1] [120/273] learning_rate: 0.000020 loss_xy: 2.636388 loss_wh: 6.443071 loss_iou: 10.691637 loss_iou_aware: 1.872555 loss_obj: 24.931900 loss_cls: 10.081678 loss: 57.151871 eta: 1 day, 7:54:31 batch_cost: 0.4451 data_cost: 0.0017 ips: 8.9858 images/s\n",
            "[07/14 14:15:51] ppdet.engine INFO: Epoch: [1] [140/273] learning_rate: 0.000021 loss_xy: 2.945553 loss_wh: 6.839391 loss_iou: 10.790900 loss_iou_aware: 1.869699 loss_obj: 24.369339 loss_cls: 10.834551 loss: 54.959370 eta: 1 day, 7:47:35 batch_cost: 0.3904 data_cost: 0.0018 ips: 10.2452 images/s\n",
            "[07/14 14:16:01] ppdet.engine INFO: Epoch: [1] [160/273] learning_rate: 0.000022 loss_xy: 3.395666 loss_wh: 9.712132 loss_iou: 14.805001 loss_iou_aware: 2.173937 loss_obj: 29.641174 loss_cls: 12.025887 loss: 72.126358 eta: 1 day, 7:48:14 batch_cost: 0.4237 data_cost: 0.0027 ips: 9.4411 images/s\n",
            "[07/14 14:16:10] ppdet.engine INFO: Epoch: [1] [180/273] learning_rate: 0.000023 loss_xy: 3.074009 loss_wh: 7.431504 loss_iou: 12.264264 loss_iou_aware: 2.233676 loss_obj: 27.083900 loss_cls: 12.018467 loss: 65.142456 eta: 1 day, 7:42:50 batch_cost: 0.3938 data_cost: 0.0008 ips: 10.1587 images/s\n",
            "[07/14 14:16:20] ppdet.engine INFO: Epoch: [1] [200/273] learning_rate: 0.000024 loss_xy: 3.150751 loss_wh: 6.892893 loss_iou: 11.736975 loss_iou_aware: 2.161728 loss_obj: 27.062149 loss_cls: 10.364430 loss: 60.482979 eta: 1 day, 7:46:33 batch_cost: 0.4390 data_cost: 0.0020 ips: 9.1112 images/s\n",
            "[07/14 14:16:31] ppdet.engine INFO: Epoch: [1] [220/273] learning_rate: 0.000025 loss_xy: 2.874469 loss_wh: 6.971681 loss_iou: 11.558501 loss_iou_aware: 2.057266 loss_obj: 27.001938 loss_cls: 9.754702 loss: 58.800098 eta: 1 day, 7:57:02 batch_cost: 0.4775 data_cost: 0.0005 ips: 8.3768 images/s\n",
            "[07/14 14:16:41] ppdet.engine INFO: Epoch: [1] [240/273] learning_rate: 0.000026 loss_xy: 3.208533 loss_wh: 8.789848 loss_iou: 12.447388 loss_iou_aware: 1.882380 loss_obj: 24.800308 loss_cls: 10.184428 loss: 61.035217 eta: 1 day, 7:55:11 batch_cost: 0.4124 data_cost: 0.0021 ips: 9.6991 images/s\n",
            "[07/14 14:16:51] ppdet.engine INFO: Epoch: [1] [260/273] learning_rate: 0.000027 loss_xy: 3.308088 loss_wh: 7.871517 loss_iou: 13.083890 loss_iou_aware: 2.272071 loss_obj: 27.814503 loss_cls: 11.074856 loss: 65.758377 eta: 1 day, 8:05:46 batch_cost: 0.4847 data_cost: 0.0002 ips: 8.2519 images/s\n",
            "[07/14 14:16:58] ppdet.engine INFO: Epoch: [2] [  0/273] learning_rate: 0.000027 loss_xy: 3.281737 loss_wh: 7.098301 loss_iou: 11.903208 loss_iou_aware: 1.807589 loss_obj: 23.893778 loss_cls: 10.190502 loss: 57.641991 eta: 1 day, 8:00:21 batch_cost: 0.4139 data_cost: 0.0037 ips: 9.6651 images/s\n",
            "[07/14 14:17:08] ppdet.engine INFO: Epoch: [2] [ 20/273] learning_rate: 0.000028 loss_xy: 3.522372 loss_wh: 7.626282 loss_iou: 13.669672 loss_iou_aware: 2.241241 loss_obj: 29.319065 loss_cls: 11.647255 loss: 68.497269 eta: 1 day, 7:59:31 batch_cost: 0.4185 data_cost: 0.0011 ips: 9.5570 images/s\n",
            "[07/14 14:17:17] ppdet.engine INFO: Epoch: [2] [ 40/273] learning_rate: 0.000029 loss_xy: 3.563469 loss_wh: 8.145239 loss_iou: 14.473003 loss_iou_aware: 2.166809 loss_obj: 27.586048 loss_cls: 10.928803 loss: 66.445389 eta: 1 day, 7:58:10 batch_cost: 0.4150 data_cost: 0.0014 ips: 9.6397 images/s\n",
            "[07/14 14:17:28] ppdet.engine INFO: Epoch: [2] [ 60/273] learning_rate: 0.000030 loss_xy: 3.876950 loss_wh: 8.663686 loss_iou: 14.424527 loss_iou_aware: 2.588307 loss_obj: 32.909882 loss_cls: 11.346769 loss: 73.814270 eta: 1 day, 8:01:59 batch_cost: 0.4489 data_cost: 0.0013 ips: 8.9105 images/s\n",
            "[07/14 14:17:38] ppdet.engine INFO: Epoch: [2] [ 80/273] learning_rate: 0.000031 loss_xy: 4.020916 loss_wh: 8.211071 loss_iou: 14.722424 loss_iou_aware: 2.630354 loss_obj: 30.121548 loss_cls: 12.986833 loss: 70.380836 eta: 1 day, 8:04:14 batch_cost: 0.4399 data_cost: 0.0019 ips: 9.0932 images/s\n",
            "[07/14 14:17:47] ppdet.engine INFO: Epoch: [2] [100/273] learning_rate: 0.000032 loss_xy: 4.360688 loss_wh: 8.543867 loss_iou: 16.207018 loss_iou_aware: 2.499752 loss_obj: 33.189163 loss_cls: 12.769030 loss: 78.182938 eta: 1 day, 8:03:46 batch_cost: 0.4215 data_cost: 0.0019 ips: 9.4902 images/s\n",
            "[07/14 14:17:56] ppdet.engine INFO: Epoch: [2] [120/273] learning_rate: 0.000033 loss_xy: 2.343570 loss_wh: 5.394753 loss_iou: 9.773436 loss_iou_aware: 1.759320 loss_obj: 22.194489 loss_cls: 7.878060 loss: 49.058475 eta: 1 day, 7:58:19 batch_cost: 0.3849 data_cost: 0.0012 ips: 10.3933 images/s\n",
            "[07/14 14:18:06] ppdet.engine INFO: Epoch: [2] [140/273] learning_rate: 0.000034 loss_xy: 3.107905 loss_wh: 6.689231 loss_iou: 12.613345 loss_iou_aware: 2.025814 loss_obj: 24.935415 loss_cls: 9.505243 loss: 58.145195 eta: 1 day, 7:57:56 batch_cost: 0.4208 data_cost: 0.0014 ips: 9.5059 images/s\n",
            "[07/14 14:18:17] ppdet.engine INFO: Epoch: [2] [160/273] learning_rate: 0.000035 loss_xy: 2.446398 loss_wh: 5.245452 loss_iou: 9.764460 loss_iou_aware: 1.618309 loss_obj: 21.110046 loss_cls: 6.742533 loss: 48.550903 eta: 1 day, 8:03:08 batch_cost: 0.4642 data_cost: 0.0008 ips: 8.6172 images/s\n",
            "[07/14 14:18:26] ppdet.engine INFO: Epoch: [2] [180/273] learning_rate: 0.000036 loss_xy: 2.512991 loss_wh: 4.712542 loss_iou: 9.339634 loss_iou_aware: 1.577802 loss_obj: 22.184149 loss_cls: 7.214200 loss: 45.527061 eta: 1 day, 8:03:08 batch_cost: 0.4248 data_cost: 0.0018 ips: 9.4151 images/s\n",
            "[07/14 14:18:37] ppdet.engine INFO: Epoch: [2] [200/273] learning_rate: 0.000037 loss_xy: 3.892185 loss_wh: 7.006655 loss_iou: 14.460199 loss_iou_aware: 2.295214 loss_obj: 29.192739 loss_cls: 10.312807 loss: 68.329552 eta: 1 day, 8:08:35 batch_cost: 0.4699 data_cost: 0.0013 ips: 8.5129 images/s\n",
            "[07/14 14:18:48] ppdet.engine INFO: Epoch: [2] [220/273] learning_rate: 0.000038 loss_xy: 2.614772 loss_wh: 5.644870 loss_iou: 9.938206 loss_iou_aware: 1.658530 loss_obj: 23.653107 loss_cls: 7.023698 loss: 51.025803 eta: 1 day, 8:15:07 batch_cost: 0.4815 data_cost: 0.0018 ips: 8.3081 images/s\n",
            "[07/14 14:18:58] ppdet.engine INFO: Epoch: [2] [240/273] learning_rate: 0.000039 loss_xy: 3.095158 loss_wh: 6.706154 loss_iou: 11.823130 loss_iou_aware: 1.881148 loss_obj: 26.244331 loss_cls: 8.537857 loss: 55.740990 eta: 1 day, 8:17:00 batch_cost: 0.4441 data_cost: 0.0017 ips: 9.0077 images/s\n",
            "[07/14 14:19:08] ppdet.engine INFO: Epoch: [2] [260/273] learning_rate: 0.000040 loss_xy: 2.603998 loss_wh: 5.715265 loss_iou: 10.753919 loss_iou_aware: 1.812728 loss_obj: 23.640327 loss_cls: 8.047769 loss: 52.675407 eta: 1 day, 8:15:42 batch_cost: 0.4167 data_cost: 0.0014 ips: 9.6001 images/s\n",
            "[07/14 14:19:15] ppdet.engine INFO: Epoch: [3] [  0/273] learning_rate: 0.000041 loss_xy: 3.563724 loss_wh: 7.700528 loss_iou: 14.184093 loss_iou_aware: 2.277248 loss_obj: 28.673717 loss_cls: 10.406230 loss: 68.942093 eta: 1 day, 8:15:43 batch_cost: 0.4187 data_cost: 0.0065 ips: 9.5544 images/s\n",
            "[07/14 14:19:25] ppdet.engine INFO: Epoch: [3] [ 20/273] learning_rate: 0.000042 loss_xy: 3.340217 loss_wh: 7.072150 loss_iou: 13.818909 loss_iou_aware: 1.966134 loss_obj: 24.748180 loss_cls: 9.162958 loss: 58.536804 eta: 1 day, 8:16:20 batch_cost: 0.4337 data_cost: 0.0016 ips: 9.2233 images/s\n",
            "[07/14 14:19:35] ppdet.engine INFO: Epoch: [3] [ 40/273] learning_rate: 0.000043 loss_xy: 2.850998 loss_wh: 7.236721 loss_iou: 11.607348 loss_iou_aware: 2.054866 loss_obj: 23.814838 loss_cls: 8.661963 loss: 58.787109 eta: 1 day, 8:16:56 batch_cost: 0.4339 data_cost: 0.0012 ips: 9.2192 images/s\n",
            "[07/14 14:19:46] ppdet.engine INFO: Epoch: [3] [ 60/273] learning_rate: 0.000044 loss_xy: 3.153167 loss_wh: 6.735888 loss_iou: 11.092897 loss_iou_aware: 1.903409 loss_obj: 24.721916 loss_cls: 8.188404 loss: 54.798645 eta: 1 day, 8:21:42 batch_cost: 0.4747 data_cost: 0.0005 ips: 8.4255 images/s\n",
            "[07/14 14:19:56] ppdet.engine INFO: Epoch: [3] [ 80/273] learning_rate: 0.000045 loss_xy: 4.275001 loss_wh: 7.510620 loss_iou: 15.343197 loss_iou_aware: 2.271131 loss_obj: 31.097054 loss_cls: 10.369704 loss: 68.721825 eta: 1 day, 8:21:37 batch_cost: 0.4287 data_cost: 0.0003 ips: 9.3304 images/s\n",
            "[07/14 14:20:05] ppdet.engine INFO: Epoch: [3] [100/273] learning_rate: 0.000046 loss_xy: 2.772838 loss_wh: 5.231280 loss_iou: 11.444341 loss_iou_aware: 1.777928 loss_obj: 23.372189 loss_cls: 7.836609 loss: 53.842445 eta: 1 day, 8:20:12 batch_cost: 0.4153 data_cost: 0.0020 ips: 9.6316 images/s\n",
            "[07/14 14:20:16] ppdet.engine INFO: Epoch: [3] [120/273] learning_rate: 0.000047 loss_xy: 3.090330 loss_wh: 6.375035 loss_iou: 11.453083 loss_iou_aware: 1.805521 loss_obj: 23.695263 loss_cls: 7.627134 loss: 52.481071 eta: 1 day, 8:23:54 batch_cost: 0.4675 data_cost: 0.0009 ips: 8.5554 images/s\n",
            "[07/14 14:20:26] ppdet.engine INFO: Epoch: [3] [140/273] learning_rate: 0.000048 loss_xy: 3.847341 loss_wh: 7.436486 loss_iou: 15.614929 loss_iou_aware: 2.222739 loss_obj: 30.300484 loss_cls: 10.903429 loss: 73.409607 eta: 1 day, 8:26:16 batch_cost: 0.4553 data_cost: 0.0017 ips: 8.7848 images/s\n",
            "[07/14 14:20:36] ppdet.engine INFO: Epoch: [3] [160/273] learning_rate: 0.000049 loss_xy: 2.965054 loss_wh: 5.140687 loss_iou: 10.904266 loss_iou_aware: 1.993532 loss_obj: 24.492338 loss_cls: 8.506288 loss: 53.801285 eta: 1 day, 8:23:37 batch_cost: 0.4022 data_cost: 0.0017 ips: 9.9446 images/s\n",
            "[07/14 14:20:46] ppdet.engine INFO: Epoch: [3] [180/273] learning_rate: 0.000050 loss_xy: 2.306209 loss_wh: 4.601584 loss_iou: 9.231062 loss_iou_aware: 1.625020 loss_obj: 21.480862 loss_cls: 6.759009 loss: 47.849655 eta: 1 day, 8:24:01 batch_cost: 0.4346 data_cost: 0.0006 ips: 9.2043 images/s\n",
            "[07/14 14:20:55] ppdet.engine INFO: Epoch: [3] [200/273] learning_rate: 0.000051 loss_xy: 2.557033 loss_wh: 4.686399 loss_iou: 9.451808 loss_iou_aware: 1.531542 loss_obj: 20.400291 loss_cls: 6.302894 loss: 45.134979 eta: 1 day, 8:21:59 batch_cost: 0.4077 data_cost: 0.0013 ips: 9.8113 images/s\n",
            "[07/14 14:21:05] ppdet.engine INFO: Epoch: [3] [220/273] learning_rate: 0.000052 loss_xy: 3.035619 loss_wh: 5.577259 loss_iou: 11.652430 loss_iou_aware: 1.834489 loss_obj: 25.913757 loss_cls: 8.997223 loss: 58.003616 eta: 1 day, 8:22:40 batch_cost: 0.4379 data_cost: 0.0008 ips: 9.1355 images/s\n",
            "[07/14 14:21:14] ppdet.engine INFO: Epoch: [3] [240/273] learning_rate: 0.000053 loss_xy: 2.457604 loss_wh: 3.804098 loss_iou: 9.123168 loss_iou_aware: 1.674959 loss_obj: 17.799683 loss_cls: 6.223003 loss: 41.016754 eta: 1 day, 8:20:41 batch_cost: 0.4070 data_cost: 0.0009 ips: 9.8285 images/s\n",
            "[07/14 14:21:24] ppdet.engine INFO: Epoch: [3] [260/273] learning_rate: 0.000054 loss_xy: 2.994925 loss_wh: 4.285975 loss_iou: 10.290291 loss_iou_aware: 1.775256 loss_obj: 21.553871 loss_cls: 7.640734 loss: 50.591995 eta: 1 day, 8:20:09 batch_cost: 0.4236 data_cost: 0.0012 ips: 9.4421 images/s\n",
            "[07/14 14:21:31] ppdet.engine INFO: Epoch: [4] [  0/273] learning_rate: 0.000055 loss_xy: 2.809864 loss_wh: 4.784836 loss_iou: 9.817096 loss_iou_aware: 1.797480 loss_obj: 21.772888 loss_cls: 6.934690 loss: 49.837074 eta: 1 day, 8:18:24 batch_cost: 0.4056 data_cost: 0.0013 ips: 9.8628 images/s\n",
            "[07/14 14:21:42] ppdet.engine INFO: Epoch: [4] [ 20/273] learning_rate: 0.000056 loss_xy: 3.522499 loss_wh: 6.218439 loss_iou: 13.931040 loss_iou_aware: 2.412130 loss_obj: 28.104332 loss_cls: 9.673700 loss: 63.400467 eta: 1 day, 8:20:08 batch_cost: 0.4507 data_cost: 0.0008 ips: 8.8750 images/s\n",
            "[07/14 14:21:52] ppdet.engine INFO: Epoch: [4] [ 40/273] learning_rate: 0.000057 loss_xy: 3.462392 loss_wh: 6.465662 loss_iou: 13.258986 loss_iou_aware: 1.909099 loss_obj: 26.413193 loss_cls: 8.260963 loss: 58.453857 eta: 1 day, 8:19:47 batch_cost: 0.4256 data_cost: 0.0014 ips: 9.3974 images/s\n",
            "[07/14 14:22:02] ppdet.engine INFO: Epoch: [4] [ 60/273] learning_rate: 0.000058 loss_xy: 2.893839 loss_wh: 5.080408 loss_iou: 11.757927 loss_iou_aware: 1.832857 loss_obj: 23.848734 loss_cls: 7.488686 loss: 55.526993 eta: 1 day, 8:21:02 batch_cost: 0.4458 data_cost: 0.0014 ips: 8.9730 images/s\n",
            "[07/14 14:22:11] ppdet.engine INFO: Epoch: [4] [ 80/273] learning_rate: 0.000059 loss_xy: 3.701269 loss_wh: 6.223344 loss_iou: 13.546240 loss_iou_aware: 2.233510 loss_obj: 25.570189 loss_cls: 9.698065 loss: 61.349213 eta: 1 day, 8:19:03 batch_cost: 0.4046 data_cost: 0.0015 ips: 9.8855 images/s\n",
            "[07/14 14:22:21] ppdet.engine INFO: Epoch: [4] [100/273] learning_rate: 0.000060 loss_xy: 2.808809 loss_wh: 5.734268 loss_iou: 11.163752 loss_iou_aware: 1.981903 loss_obj: 23.929207 loss_cls: 7.551083 loss: 53.002953 eta: 1 day, 8:19:04 batch_cost: 0.4299 data_cost: 0.0008 ips: 9.3046 images/s\n",
            "[07/14 14:22:31] ppdet.engine INFO: Epoch: [4] [120/273] learning_rate: 0.000061 loss_xy: 2.193930 loss_wh: 3.701971 loss_iou: 8.435100 loss_iou_aware: 1.534244 loss_obj: 19.228291 loss_cls: 5.795477 loss: 40.925079 eta: 1 day, 8:20:47 batch_cost: 0.4530 data_cost: 0.0018 ips: 8.8297 images/s\n",
            "[07/14 14:22:41] ppdet.engine INFO: Epoch: [4] [140/273] learning_rate: 0.000062 loss_xy: 2.324908 loss_wh: 4.538762 loss_iou: 9.355881 loss_iou_aware: 1.610785 loss_obj: 19.849792 loss_cls: 6.431617 loss: 43.217190 eta: 1 day, 8:19:55 batch_cost: 0.4186 data_cost: 0.0016 ips: 9.5566 images/s\n",
            "[07/14 14:22:51] ppdet.engine INFO: Epoch: [4] [160/273] learning_rate: 0.000063 loss_xy: 2.471867 loss_wh: 5.345031 loss_iou: 9.808344 loss_iou_aware: 1.715585 loss_obj: 21.185661 loss_cls: 7.232997 loss: 46.727776 eta: 1 day, 8:22:14 batch_cost: 0.4624 data_cost: 0.0017 ips: 8.6506 images/s\n",
            "[07/14 14:23:01] ppdet.engine INFO: Epoch: [4] [180/273] learning_rate: 0.000064 loss_xy: 3.389523 loss_wh: 5.352684 loss_iou: 12.131596 loss_iou_aware: 2.337608 loss_obj: 27.929951 loss_cls: 8.784010 loss: 60.895149 eta: 1 day, 8:20:14 batch_cost: 0.4027 data_cost: 0.0009 ips: 9.9331 images/s\n",
            "[07/14 14:23:11] ppdet.engine INFO: Epoch: [4] [200/273] learning_rate: 0.000065 loss_xy: 3.240099 loss_wh: 7.085113 loss_iou: 12.178188 loss_iou_aware: 1.944828 loss_obj: 25.970028 loss_cls: 7.500772 loss: 57.315659 eta: 1 day, 8:19:56 batch_cost: 0.4261 data_cost: 0.0007 ips: 9.3874 images/s\n",
            "[07/14 14:23:20] ppdet.engine INFO: Epoch: [4] [220/273] learning_rate: 0.000066 loss_xy: 2.273935 loss_wh: 3.745969 loss_iou: 9.128970 loss_iou_aware: 1.602346 loss_obj: 21.491556 loss_cls: 6.003637 loss: 44.250412 eta: 1 day, 8:16:40 batch_cost: 0.3833 data_cost: 0.0004 ips: 10.4365 images/s\n",
            "[07/14 14:23:29] ppdet.engine INFO: Epoch: [4] [240/273] learning_rate: 0.000067 loss_xy: 2.891412 loss_wh: 5.726142 loss_iou: 12.126039 loss_iou_aware: 2.110074 loss_obj: 24.966574 loss_cls: 8.383254 loss: 54.190193 eta: 1 day, 8:14:21 batch_cost: 0.3956 data_cost: 0.0015 ips: 10.1106 images/s\n",
            "[07/14 14:23:40] ppdet.engine INFO: Epoch: [4] [260/273] learning_rate: 0.000068 loss_xy: 3.631431 loss_wh: 4.760146 loss_iou: 12.676266 loss_iou_aware: 2.255218 loss_obj: 27.017363 loss_cls: 8.421492 loss: 57.905846 eta: 1 day, 8:17:05 batch_cost: 0.4703 data_cost: 0.0002 ips: 8.5055 images/s\n",
            "[07/14 14:23:47] ppdet.engine INFO: Epoch: [5] [  0/273] learning_rate: 0.000068 loss_xy: 2.518084 loss_wh: 4.128667 loss_iou: 9.270765 loss_iou_aware: 1.773560 loss_obj: 21.714626 loss_cls: 6.844570 loss: 47.459202 eta: 1 day, 8:16:41 batch_cost: 0.4023 data_cost: 0.0009 ips: 9.9437 images/s\n",
            "[07/14 14:23:57] ppdet.engine INFO: Epoch: [5] [ 20/273] learning_rate: 0.000069 loss_xy: 2.502544 loss_wh: 3.981704 loss_iou: 9.376153 loss_iou_aware: 1.572003 loss_obj: 19.860353 loss_cls: 6.337605 loss: 43.595688 eta: 1 day, 8:16:26 batch_cost: 0.4261 data_cost: 0.0026 ips: 9.3870 images/s\n",
            "[07/14 14:24:06] ppdet.engine INFO: Epoch: [5] [ 40/273] learning_rate: 0.000070 loss_xy: 2.823327 loss_wh: 3.651689 loss_iou: 9.008970 loss_iou_aware: 1.772344 loss_obj: 21.332962 loss_cls: 6.909130 loss: 45.533821 eta: 1 day, 8:13:40 batch_cost: 0.3871 data_cost: 0.0012 ips: 10.3320 images/s\n",
            "[07/14 14:24:15] ppdet.engine INFO: Epoch: [5] [ 60/273] learning_rate: 0.000071 loss_xy: 2.416599 loss_wh: 4.344002 loss_iou: 10.003708 loss_iou_aware: 1.557859 loss_obj: 18.904879 loss_cls: 7.144956 loss: 45.881584 eta: 1 day, 8:12:42 batch_cost: 0.4140 data_cost: 0.0021 ips: 9.6609 images/s\n",
            "[07/14 14:24:25] ppdet.engine INFO: Epoch: [5] [ 80/273] learning_rate: 0.000072 loss_xy: 3.657088 loss_wh: 6.872617 loss_iou: 14.198021 loss_iou_aware: 2.735070 loss_obj: 32.341751 loss_cls: 10.510074 loss: 71.093781 eta: 1 day, 8:13:12 batch_cost: 0.4373 data_cost: 0.0019 ips: 9.1462 images/s\n",
            "[07/14 14:24:35] ppdet.engine INFO: Epoch: [5] [100/273] learning_rate: 0.000073 loss_xy: 2.785709 loss_wh: 4.711483 loss_iou: 10.824140 loss_iou_aware: 1.801979 loss_obj: 22.184706 loss_cls: 7.178988 loss: 47.740005 eta: 1 day, 8:13:37 batch_cost: 0.4363 data_cost: 0.0013 ips: 9.1686 images/s\n",
            "[07/14 14:24:45] ppdet.engine INFO: Epoch: [5] [120/273] learning_rate: 0.000074 loss_xy: 2.870219 loss_wh: 5.680596 loss_iou: 11.678269 loss_iou_aware: 1.802882 loss_obj: 22.835375 loss_cls: 7.873567 loss: 50.115204 eta: 1 day, 8:12:06 batch_cost: 0.4047 data_cost: 0.0018 ips: 9.8850 images/s\n",
            "[07/14 14:24:55] ppdet.engine INFO: Epoch: [5] [140/273] learning_rate: 0.000075 loss_xy: 3.265883 loss_wh: 6.675263 loss_iou: 13.368637 loss_iou_aware: 2.338620 loss_obj: 27.783621 loss_cls: 9.487372 loss: 63.715164 eta: 1 day, 8:12:50 batch_cost: 0.4415 data_cost: 0.0021 ips: 9.0591 images/s\n",
            "[07/14 14:25:05] ppdet.engine INFO: Epoch: [5] [160/273] learning_rate: 0.000076 loss_xy: 2.314011 loss_wh: 3.903972 loss_iou: 9.361059 loss_iou_aware: 1.602061 loss_obj: 19.952499 loss_cls: 5.745305 loss: 43.013954 eta: 1 day, 8:11:40 batch_cost: 0.4099 data_cost: 0.0012 ips: 9.7583 images/s\n",
            "[07/14 14:25:15] ppdet.engine INFO: Epoch: [5] [180/273] learning_rate: 0.000077 loss_xy: 3.186002 loss_wh: 5.829249 loss_iou: 12.945022 loss_iou_aware: 2.148305 loss_obj: 27.073591 loss_cls: 8.008546 loss: 58.293785 eta: 1 day, 8:12:50 batch_cost: 0.4494 data_cost: 0.0005 ips: 8.9008 images/s\n",
            "[07/14 14:25:25] ppdet.engine INFO: Epoch: [5] [200/273] learning_rate: 0.000078 loss_xy: 3.695434 loss_wh: 5.757659 loss_iou: 13.682550 loss_iou_aware: 2.242286 loss_obj: 28.679729 loss_cls: 8.889095 loss: 61.728447 eta: 1 day, 8:13:14 batch_cost: 0.4365 data_cost: 0.0011 ips: 9.1645 images/s\n",
            "[07/14 14:25:35] ppdet.engine INFO: Epoch: [5] [220/273] learning_rate: 0.000079 loss_xy: 2.794114 loss_wh: 4.664852 loss_iou: 10.998205 loss_iou_aware: 1.800135 loss_obj: 22.167566 loss_cls: 7.199764 loss: 50.925797 eta: 1 day, 8:14:00 batch_cost: 0.4432 data_cost: 0.0010 ips: 9.0260 images/s\n",
            "[07/14 14:25:46] ppdet.engine INFO: Epoch: [5] [240/273] learning_rate: 0.000080 loss_xy: 2.823902 loss_wh: 5.932465 loss_iou: 11.174720 loss_iou_aware: 1.841522 loss_obj: 24.780874 loss_cls: 8.174507 loss: 54.108963 eta: 1 day, 8:16:11 batch_cost: 0.4689 data_cost: 0.0032 ips: 8.5304 images/s\n",
            "[07/14 14:25:55] ppdet.engine INFO: Epoch: [5] [260/273] learning_rate: 0.000081 loss_xy: 2.885968 loss_wh: 4.637841 loss_iou: 10.942955 loss_iou_aware: 1.940867 loss_obj: 22.368126 loss_cls: 7.137660 loss: 50.171722 eta: 1 day, 8:14:01 batch_cost: 0.3916 data_cost: 0.0017 ips: 10.2138 images/s\n",
            "[07/14 14:26:02] ppdet.engine INFO: Epoch: [6] [  0/273] learning_rate: 0.000082 loss_xy: 2.030992 loss_wh: 3.664374 loss_iou: 8.286867 loss_iou_aware: 1.365098 loss_obj: 16.439034 loss_cls: 5.803837 loss: 37.207077 eta: 1 day, 8:13:16 batch_cost: 0.3956 data_cost: 0.0075 ips: 10.1109 images/s\n",
            "[07/14 14:26:12] ppdet.engine INFO: Epoch: [6] [ 20/273] learning_rate: 0.000083 loss_xy: 4.012856 loss_wh: 6.049829 loss_iou: 15.174279 loss_iou_aware: 2.626346 loss_obj: 31.428249 loss_cls: 10.903066 loss: 72.395401 eta: 1 day, 8:14:31 batch_cost: 0.4527 data_cost: 0.0015 ips: 8.8351 images/s\n",
            "[07/14 14:26:22] ppdet.engine INFO: Epoch: [6] [ 40/273] learning_rate: 0.000084 loss_xy: 2.071265 loss_wh: 3.186245 loss_iou: 7.700021 loss_iou_aware: 1.573552 loss_obj: 19.699020 loss_cls: 6.168847 loss: 40.867828 eta: 1 day, 8:13:52 batch_cost: 0.4186 data_cost: 0.0010 ips: 9.5551 images/s\n",
            "[07/14 14:26:33] ppdet.engine INFO: Epoch: [6] [ 60/273] learning_rate: 0.000085 loss_xy: 3.904200 loss_wh: 5.720487 loss_iou: 14.419378 loss_iou_aware: 2.472325 loss_obj: 30.142145 loss_cls: 9.488157 loss: 67.303574 eta: 1 day, 8:16:03 batch_cost: 0.4711 data_cost: 0.0004 ips: 8.4913 images/s\n",
            "[07/14 14:26:42] ppdet.engine INFO: Epoch: [6] [ 80/273] learning_rate: 0.000086 loss_xy: 2.394298 loss_wh: 4.568676 loss_iou: 9.250395 loss_iou_aware: 1.503941 loss_obj: 21.014732 loss_cls: 6.321460 loss: 45.459866 eta: 1 day, 8:16:23 batch_cost: 0.4373 data_cost: 0.0014 ips: 9.1475 images/s\n",
            "[07/14 14:26:53] ppdet.engine INFO: Epoch: [6] [100/273] learning_rate: 0.000087 loss_xy: 2.902240 loss_wh: 4.859802 loss_iou: 10.461435 loss_iou_aware: 1.975971 loss_obj: 25.548443 loss_cls: 7.254471 loss: 53.553352 eta: 1 day, 8:16:54 batch_cost: 0.4410 data_cost: 0.0019 ips: 9.0703 images/s\n",
            "[07/14 14:27:02] ppdet.engine INFO: Epoch: [6] [120/273] learning_rate: 0.000088 loss_xy: 2.801253 loss_wh: 5.521220 loss_iou: 10.580912 loss_iou_aware: 1.752400 loss_obj: 23.642874 loss_cls: 6.439320 loss: 49.116997 eta: 1 day, 8:16:30 batch_cost: 0.4236 data_cost: 0.0011 ips: 9.4431 images/s\n",
            "[07/14 14:27:13] ppdet.engine INFO: Epoch: [6] [140/273] learning_rate: 0.000089 loss_xy: 3.065268 loss_wh: 5.867735 loss_iou: 11.984330 loss_iou_aware: 2.008878 loss_obj: 24.909279 loss_cls: 8.320214 loss: 55.588303 eta: 1 day, 8:17:09 batch_cost: 0.4437 data_cost: 0.0022 ips: 9.0156 images/s\n",
            "[07/14 14:27:23] ppdet.engine INFO: Epoch: [6] [160/273] learning_rate: 0.000090 loss_xy: 3.060520 loss_wh: 4.945871 loss_iou: 11.271403 loss_iou_aware: 1.829367 loss_obj: 23.426476 loss_cls: 7.337436 loss: 53.635181 eta: 1 day, 8:18:47 batch_cost: 0.4640 data_cost: 0.0002 ips: 8.6205 images/s\n",
            "[07/14 14:27:33] ppdet.engine INFO: Epoch: [6] [180/273] learning_rate: 0.000091 loss_xy: 2.428862 loss_wh: 4.252423 loss_iou: 10.043382 loss_iou_aware: 1.586877 loss_obj: 19.298990 loss_cls: 5.811716 loss: 42.987099 eta: 1 day, 8:17:44 batch_cost: 0.4108 data_cost: 0.0017 ips: 9.7363 images/s\n",
            "[07/14 14:27:42] ppdet.engine INFO: Epoch: [6] [200/273] learning_rate: 0.000092 loss_xy: 2.652056 loss_wh: 4.172954 loss_iou: 10.156611 loss_iou_aware: 1.693193 loss_obj: 22.785332 loss_cls: 6.677899 loss: 48.697205 eta: 1 day, 8:17:45 batch_cost: 0.4319 data_cost: 0.0013 ips: 9.2605 images/s\n",
            "[07/14 14:27:54] ppdet.engine INFO: Epoch: [6] [220/273] learning_rate: 0.000093 loss_xy: 3.144568 loss_wh: 5.786729 loss_iou: 12.472301 loss_iou_aware: 2.104369 loss_obj: 26.235176 loss_cls: 8.107357 loss: 56.535820 eta: 1 day, 8:21:04 batch_cost: 0.4997 data_cost: 0.0016 ips: 8.0044 images/s\n",
            "[07/14 14:28:04] ppdet.engine INFO: Epoch: [6] [240/273] learning_rate: 0.000094 loss_xy: 3.015654 loss_wh: 4.754696 loss_iou: 11.047984 loss_iou_aware: 2.030069 loss_obj: 24.570709 loss_cls: 7.116788 loss: 52.409256 eta: 1 day, 8:22:39 batch_cost: 0.4654 data_cost: 0.0019 ips: 8.5942 images/s\n",
            "[07/14 14:28:14] ppdet.engine INFO: Epoch: [6] [260/273] learning_rate: 0.000095 loss_xy: 2.529735 loss_wh: 4.189819 loss_iou: 9.065178 loss_iou_aware: 1.749581 loss_obj: 19.795567 loss_cls: 6.655291 loss: 44.750420 eta: 1 day, 8:22:22 batch_cost: 0.4272 data_cost: 0.0022 ips: 9.3631 images/s\n",
            "[07/14 14:28:22] ppdet.engine INFO: Epoch: [7] [  0/273] learning_rate: 0.000096 loss_xy: 2.116347 loss_wh: 4.022858 loss_iou: 8.130573 loss_iou_aware: 1.406912 loss_obj: 18.236378 loss_cls: 5.438366 loss: 38.340218 eta: 1 day, 8:23:13 batch_cost: 0.4532 data_cost: 0.0025 ips: 8.8256 images/s\n",
            "[07/14 14:28:32] ppdet.engine INFO: Epoch: [7] [ 20/273] learning_rate: 0.000097 loss_xy: 3.429461 loss_wh: 5.151579 loss_iou: 12.889416 loss_iou_aware: 2.219360 loss_obj: 25.495146 loss_cls: 8.420155 loss: 58.106796 eta: 1 day, 8:22:30 batch_cost: 0.4180 data_cost: 0.0022 ips: 9.5693 images/s\n",
            "[07/14 14:28:41] ppdet.engine INFO: Epoch: [7] [ 40/273] learning_rate: 0.000098 loss_xy: 2.767225 loss_wh: 5.336307 loss_iou: 11.170401 loss_iou_aware: 1.773661 loss_obj: 23.046564 loss_cls: 7.175251 loss: 52.392612 eta: 1 day, 8:21:35 batch_cost: 0.4131 data_cost: 0.0007 ips: 9.6828 images/s\n",
            "[07/14 14:28:51] ppdet.engine INFO: Epoch: [7] [ 60/273] learning_rate: 0.000099 loss_xy: 3.357362 loss_wh: 5.504625 loss_iou: 12.400550 loss_iou_aware: 2.367534 loss_obj: 27.649204 loss_cls: 8.797626 loss: 59.416107 eta: 1 day, 8:20:57 batch_cost: 0.4192 data_cost: 0.0022 ips: 9.5429 images/s\n",
            "[07/14 14:29:01] ppdet.engine INFO: Epoch: [7] [ 80/273] learning_rate: 0.000100 loss_xy: 2.938097 loss_wh: 4.584287 loss_iou: 11.397207 loss_iou_aware: 1.947084 loss_obj: 21.896893 loss_cls: 7.327522 loss: 50.550438 eta: 1 day, 8:21:26 batch_cost: 0.4436 data_cost: 0.0017 ips: 9.0170 images/s\n",
            "[07/14 14:29:11] ppdet.engine INFO: Epoch: [7] [100/273] learning_rate: 0.000101 loss_xy: 2.644214 loss_wh: 4.158719 loss_iou: 10.507118 loss_iou_aware: 1.765724 loss_obj: 22.803385 loss_cls: 6.796780 loss: 49.863472 eta: 1 day, 8:20:21 batch_cost: 0.4089 data_cost: 0.0003 ips: 9.7826 images/s\n",
            "[07/14 14:29:20] ppdet.engine INFO: Epoch: [7] [120/273] learning_rate: 0.000102 loss_xy: 2.658809 loss_wh: 4.612266 loss_iou: 10.524172 loss_iou_aware: 1.442742 loss_obj: 19.953854 loss_cls: 6.330719 loss: 48.798988 eta: 1 day, 8:19:34 batch_cost: 0.4151 data_cost: 0.0012 ips: 9.6355 images/s\n",
            "[07/14 14:29:31] ppdet.engine INFO: Epoch: [7] [140/273] learning_rate: 0.000103 loss_xy: 3.071663 loss_wh: 4.971914 loss_iou: 11.864172 loss_iou_aware: 1.904577 loss_obj: 23.191460 loss_cls: 8.365612 loss: 55.576633 eta: 1 day, 8:20:41 batch_cost: 0.4580 data_cost: 0.0009 ips: 8.7335 images/s\n",
            "[07/14 14:29:41] ppdet.engine INFO: Epoch: [7] [160/273] learning_rate: 0.000104 loss_xy: 2.873003 loss_wh: 5.289010 loss_iou: 11.572693 loss_iou_aware: 1.827961 loss_obj: 21.783548 loss_cls: 6.968092 loss: 49.693420 eta: 1 day, 8:21:37 batch_cost: 0.4544 data_cost: 0.0015 ips: 8.8020 images/s\n",
            "[07/14 14:29:51] ppdet.engine INFO: Epoch: [7] [180/273] learning_rate: 0.000105 loss_xy: 3.330655 loss_wh: 4.687487 loss_iou: 12.054773 loss_iou_aware: 1.919855 loss_obj: 22.773561 loss_cls: 7.382048 loss: 52.801926 eta: 1 day, 8:21:03 batch_cost: 0.4203 data_cost: 0.0008 ips: 9.5181 images/s\n",
            "[07/14 14:30:00] ppdet.engine INFO: Epoch: [7] [200/273] learning_rate: 0.000106 loss_xy: 2.564956 loss_wh: 3.790547 loss_iou: 9.199078 loss_iou_aware: 1.681752 loss_obj: 20.779196 loss_cls: 5.830441 loss: 44.116409 eta: 1 day, 8:19:54 batch_cost: 0.4064 data_cost: 0.0013 ips: 9.8429 images/s\n",
            "[07/14 14:30:10] ppdet.engine INFO: Epoch: [7] [220/273] learning_rate: 0.000107 loss_xy: 3.422697 loss_wh: 5.618625 loss_iou: 12.384510 loss_iou_aware: 2.050880 loss_obj: 26.550259 loss_cls: 7.593923 loss: 57.895798 eta: 1 day, 8:20:09 batch_cost: 0.4389 data_cost: 0.0015 ips: 9.1128 images/s\n",
            "[07/14 14:30:19] ppdet.engine INFO: Epoch: [7] [240/273] learning_rate: 0.000108 loss_xy: 2.503877 loss_wh: 3.919357 loss_iou: 9.541995 loss_iou_aware: 1.407070 loss_obj: 17.850533 loss_cls: 5.695523 loss: 43.180309 eta: 1 day, 8:18:10 batch_cost: 0.3860 data_cost: 0.0010 ips: 10.3619 images/s\n",
            "[07/14 14:30:29] ppdet.engine INFO: Epoch: [7] [260/273] learning_rate: 0.000109 loss_xy: 2.207989 loss_wh: 3.791067 loss_iou: 8.308584 loss_iou_aware: 1.560881 loss_obj: 18.075554 loss_cls: 5.665144 loss: 41.414162 eta: 1 day, 8:18:32 batch_cost: 0.4414 data_cost: 0.0016 ips: 9.0627 images/s\n",
            "[07/14 14:30:37] ppdet.engine INFO: Epoch: [8] [  0/273] learning_rate: 0.000109 loss_xy: 2.521966 loss_wh: 4.388447 loss_iou: 11.202801 loss_iou_aware: 1.790551 loss_obj: 21.702868 loss_cls: 6.272919 loss: 48.447136 eta: 1 day, 8:18:16 batch_cost: 0.4468 data_cost: 0.0002 ips: 8.9516 images/s\n",
            "[07/14 14:30:47] ppdet.engine INFO: Epoch: [8] [ 20/273] learning_rate: 0.000110 loss_xy: 2.701787 loss_wh: 4.640495 loss_iou: 10.439910 loss_iou_aware: 1.652151 loss_obj: 21.446981 loss_cls: 6.647132 loss: 48.893242 eta: 1 day, 8:17:56 batch_cost: 0.4248 data_cost: 0.0017 ips: 9.4166 images/s\n",
            "[07/14 14:30:56] ppdet.engine INFO: Epoch: [8] [ 40/273] learning_rate: 0.000111 loss_xy: 3.130408 loss_wh: 4.898600 loss_iou: 11.858940 loss_iou_aware: 2.041015 loss_obj: 22.856131 loss_cls: 7.789857 loss: 52.708729 eta: 1 day, 8:17:14 batch_cost: 0.4160 data_cost: 0.0022 ips: 9.6156 images/s\n",
            "[07/14 14:31:06] ppdet.engine INFO: Epoch: [8] [ 60/273] learning_rate: 0.000112 loss_xy: 3.150111 loss_wh: 5.455960 loss_iou: 13.288000 loss_iou_aware: 2.188331 loss_obj: 25.362099 loss_cls: 8.430537 loss: 59.458660 eta: 1 day, 8:16:49 batch_cost: 0.4223 data_cost: 0.0009 ips: 9.4727 images/s\n",
            "[07/14 14:31:17] ppdet.engine INFO: Epoch: [8] [ 80/273] learning_rate: 0.000113 loss_xy: 3.158267 loss_wh: 7.118950 loss_iou: 13.531239 loss_iou_aware: 2.225034 loss_obj: 28.194513 loss_cls: 8.593689 loss: 61.545063 eta: 1 day, 8:18:46 batch_cost: 0.4816 data_cost: 0.0005 ips: 8.3049 images/s\n",
            "[07/14 14:31:27] ppdet.engine INFO: Epoch: [8] [100/273] learning_rate: 0.000114 loss_xy: 2.541911 loss_wh: 4.046348 loss_iou: 9.445156 loss_iou_aware: 1.584632 loss_obj: 20.561163 loss_cls: 6.189004 loss: 43.988281 eta: 1 day, 8:18:51 batch_cost: 0.4356 data_cost: 0.0016 ips: 9.1836 images/s\n",
            "[07/14 14:31:37] ppdet.engine INFO: Epoch: [8] [120/273] learning_rate: 0.000115 loss_xy: 2.514467 loss_wh: 4.670818 loss_iou: 9.259861 loss_iou_aware: 1.670249 loss_obj: 20.300081 loss_cls: 6.290106 loss: 43.777664 eta: 1 day, 8:18:34 batch_cost: 0.4261 data_cost: 0.0019 ips: 9.3872 images/s\n",
            "[07/14 14:31:46] ppdet.engine INFO: Epoch: [8] [140/273] learning_rate: 0.000116 loss_xy: 3.468085 loss_wh: 6.427576 loss_iou: 13.231778 loss_iou_aware: 2.329577 loss_obj: 24.911510 loss_cls: 8.293256 loss: 61.529263 eta: 1 day, 8:17:16 batch_cost: 0.3998 data_cost: 0.0015 ips: 10.0039 images/s\n",
            "[07/14 14:31:55] ppdet.engine INFO: Epoch: [8] [160/273] learning_rate: 0.000117 loss_xy: 2.564493 loss_wh: 4.241001 loss_iou: 10.540192 loss_iou_aware: 1.750385 loss_obj: 20.060736 loss_cls: 6.565855 loss: 45.424622 eta: 1 day, 8:15:28 batch_cost: 0.3865 data_cost: 0.0007 ips: 10.3498 images/s\n",
            "[07/14 14:32:05] ppdet.engine INFO: Epoch: [8] [180/273] learning_rate: 0.000118 loss_xy: 2.208016 loss_wh: 3.827118 loss_iou: 8.628584 loss_iou_aware: 1.689586 loss_obj: 21.381407 loss_cls: 6.339512 loss: 43.579041 eta: 1 day, 8:16:20 batch_cost: 0.4553 data_cost: 0.0015 ips: 8.7849 images/s\n",
            "[07/14 14:32:15] ppdet.engine INFO: Epoch: [8] [200/273] learning_rate: 0.000119 loss_xy: 3.034511 loss_wh: 5.478171 loss_iou: 12.973585 loss_iou_aware: 2.026330 loss_obj: 24.461193 loss_cls: 8.324463 loss: 59.312393 eta: 1 day, 8:15:34 batch_cost: 0.4131 data_cost: 0.0014 ips: 9.6837 images/s\n",
            "[07/14 14:32:24] ppdet.engine INFO: Epoch: [8] [220/273] learning_rate: 0.000120 loss_xy: 2.799630 loss_wh: 3.973318 loss_iou: 9.759870 loss_iou_aware: 1.860914 loss_obj: 19.752609 loss_cls: 6.449214 loss: 44.803413 eta: 1 day, 8:13:28 batch_cost: 0.3768 data_cost: 0.0010 ips: 10.6160 images/s\n",
            "[07/14 14:32:34] ppdet.engine INFO: Epoch: [8] [240/273] learning_rate: 0.000121 loss_xy: 2.401006 loss_wh: 3.819217 loss_iou: 9.365650 loss_iou_aware: 1.516253 loss_obj: 18.961155 loss_cls: 6.494130 loss: 41.988159 eta: 1 day, 8:13:49 batch_cost: 0.4420 data_cost: 0.0012 ips: 9.0498 images/s\n",
            "[07/14 14:32:44] ppdet.engine INFO: Epoch: [8] [260/273] learning_rate: 0.000122 loss_xy: 2.808353 loss_wh: 5.208584 loss_iou: 11.712971 loss_iou_aware: 2.068563 loss_obj: 25.069462 loss_cls: 8.172825 loss: 56.186043 eta: 1 day, 8:14:12 batch_cost: 0.4432 data_cost: 0.0015 ips: 9.0246 images/s\n",
            "[07/14 14:32:52] ppdet.engine INFO: Epoch: [9] [  0/273] learning_rate: 0.000123 loss_xy: 3.308160 loss_wh: 5.432341 loss_iou: 13.377789 loss_iou_aware: 2.236989 loss_obj: 26.790461 loss_cls: 8.106944 loss: 58.422081 eta: 1 day, 8:15:08 batch_cost: 0.4588 data_cost: 0.0039 ips: 8.7184 images/s\n",
            "[07/14 14:33:02] ppdet.engine INFO: Epoch: [9] [ 20/273] learning_rate: 0.000124 loss_xy: 2.763766 loss_wh: 4.660960 loss_iou: 10.404799 loss_iou_aware: 2.102304 loss_obj: 22.272680 loss_cls: 7.446702 loss: 50.794598 eta: 1 day, 8:14:26 batch_cost: 0.4137 data_cost: 0.0021 ips: 9.6685 images/s\n",
            "[07/14 14:33:12] ppdet.engine INFO: Epoch: [9] [ 40/273] learning_rate: 0.000125 loss_xy: 3.126554 loss_wh: 4.660937 loss_iou: 11.908581 loss_iou_aware: 2.063500 loss_obj: 24.987385 loss_cls: 7.278264 loss: 53.865799 eta: 1 day, 8:14:16 batch_cost: 0.4282 data_cost: 0.0021 ips: 9.3407 images/s\n",
            "[07/14 14:33:22] ppdet.engine INFO: Epoch: [9] [ 60/273] learning_rate: 0.000126 loss_xy: 3.225735 loss_wh: 4.154975 loss_iou: 10.993881 loss_iou_aware: 2.045544 loss_obj: 25.810261 loss_cls: 7.275777 loss: 52.838894 eta: 1 day, 8:14:29 batch_cost: 0.4395 data_cost: 0.0017 ips: 9.1014 images/s\n",
            "[07/14 14:33:32] ppdet.engine INFO: Epoch: [9] [ 80/273] learning_rate: 0.000127 loss_xy: 2.832156 loss_wh: 4.500734 loss_iou: 10.195473 loss_iou_aware: 1.989494 loss_obj: 24.683090 loss_cls: 8.790113 loss: 54.193497 eta: 1 day, 8:13:47 batch_cost: 0.4131 data_cost: 0.0012 ips: 9.6837 images/s\n",
            "[07/14 14:33:41] ppdet.engine INFO: Epoch: [9] [100/273] learning_rate: 0.000128 loss_xy: 2.377310 loss_wh: 3.759881 loss_iou: 9.587753 loss_iou_aware: 1.649434 loss_obj: 20.897499 loss_cls: 6.517591 loss: 44.455509 eta: 1 day, 8:12:26 batch_cost: 0.3950 data_cost: 0.0009 ips: 10.1263 images/s\n",
            "[07/14 14:33:51] ppdet.engine INFO: Epoch: [9] [120/273] learning_rate: 0.000129 loss_xy: 2.031374 loss_wh: 3.730654 loss_iou: 8.183617 loss_iou_aware: 1.469119 loss_obj: 17.520893 loss_cls: 5.690906 loss: 38.552410 eta: 1 day, 8:12:13 batch_cost: 0.4266 data_cost: 0.0020 ips: 9.3770 images/s\n",
            "[07/14 14:34:00] ppdet.engine INFO: Epoch: [9] [140/273] learning_rate: 0.000130 loss_xy: 2.948262 loss_wh: 4.875158 loss_iou: 11.505884 loss_iou_aware: 2.105688 loss_obj: 23.375582 loss_cls: 6.982768 loss: 52.866997 eta: 1 day, 8:11:53 batch_cost: 0.4230 data_cost: 0.0017 ips: 9.4564 images/s\n",
            "[07/14 14:34:10] ppdet.engine INFO: Epoch: [9] [160/273] learning_rate: 0.000131 loss_xy: 3.248738 loss_wh: 5.696315 loss_iou: 13.599857 loss_iou_aware: 2.334260 loss_obj: 27.753880 loss_cls: 9.452547 loss: 63.779064 eta: 1 day, 8:12:02 batch_cost: 0.4374 data_cost: 0.0015 ips: 9.1444 images/s\n",
            "[07/14 14:34:21] ppdet.engine INFO: Epoch: [9] [180/273] learning_rate: 0.000132 loss_xy: 3.671778 loss_wh: 5.497585 loss_iou: 13.945782 loss_iou_aware: 2.176517 loss_obj: 28.884892 loss_cls: 8.946800 loss: 59.858772 eta: 1 day, 8:13:15 batch_cost: 0.4685 data_cost: 0.0024 ips: 8.5386 images/s\n",
            "[07/14 14:34:31] ppdet.engine INFO: Epoch: [9] [200/273] learning_rate: 0.000133 loss_xy: 2.233976 loss_wh: 3.632444 loss_iou: 7.409305 loss_iou_aware: 1.291543 loss_obj: 16.308704 loss_cls: 4.782053 loss: 35.532745 eta: 1 day, 8:12:54 batch_cost: 0.4231 data_cost: 0.0006 ips: 9.4534 images/s\n",
            "[07/14 14:34:41] ppdet.engine INFO: Epoch: [9] [220/273] learning_rate: 0.000134 loss_xy: 3.279606 loss_wh: 5.384528 loss_iou: 11.740255 loss_iou_aware: 2.300316 loss_obj: 26.497128 loss_cls: 8.805046 loss: 58.215302 eta: 1 day, 8:13:09 batch_cost: 0.4406 data_cost: 0.0008 ips: 9.0793 images/s\n",
            "[07/14 14:34:51] ppdet.engine INFO: Epoch: [9] [240/273] learning_rate: 0.000135 loss_xy: 2.733698 loss_wh: 3.852785 loss_iou: 10.531656 loss_iou_aware: 1.846690 loss_obj: 21.971729 loss_cls: 7.196015 loss: 48.694508 eta: 1 day, 8:13:24 batch_cost: 0.4407 data_cost: 0.0016 ips: 9.0759 images/s\n",
            "[07/14 14:35:02] ppdet.engine INFO: Epoch: [9] [260/273] learning_rate: 0.000136 loss_xy: 2.727933 loss_wh: 4.651986 loss_iou: 11.101404 loss_iou_aware: 1.813235 loss_obj: 21.719753 loss_cls: 7.293706 loss: 51.706387 eta: 1 day, 8:14:47 batch_cost: 0.4751 data_cost: 0.0018 ips: 8.4187 images/s\n",
            "[07/14 14:35:09] ppdet.engine INFO: Epoch: [10] [  0/273] learning_rate: 0.000137 loss_xy: 3.236620 loss_wh: 5.151500 loss_iou: 11.807783 loss_iou_aware: 2.329281 loss_obj: 24.694195 loss_cls: 7.435158 loss: 55.120441 eta: 1 day, 8:15:12 batch_cost: 0.4677 data_cost: 0.0020 ips: 8.5532 images/s\n",
            "[07/14 14:35:20] ppdet.engine INFO: Epoch: [10] [ 20/273] learning_rate: 0.000138 loss_xy: 3.818307 loss_wh: 4.734505 loss_iou: 12.316727 loss_iou_aware: 2.380605 loss_obj: 29.440792 loss_cls: 8.366944 loss: 61.962158 eta: 1 day, 8:16:34 batch_cost: 0.4758 data_cost: 0.0014 ips: 8.4074 images/s\n",
            "[07/14 14:35:30] ppdet.engine INFO: Epoch: [10] [ 40/273] learning_rate: 0.000139 loss_xy: 3.459629 loss_wh: 5.467402 loss_iou: 12.820760 loss_iou_aware: 2.277042 loss_obj: 27.385303 loss_cls: 8.627962 loss: 60.333378 eta: 1 day, 8:16:01 batch_cost: 0.4177 data_cost: 0.0022 ips: 9.5765 images/s\n",
            "[07/14 14:35:40] ppdet.engine INFO: Epoch: [10] [ 60/273] learning_rate: 0.000140 loss_xy: 3.288384 loss_wh: 3.996883 loss_iou: 11.416166 loss_iou_aware: 2.004408 loss_obj: 23.562613 loss_cls: 7.585296 loss: 53.023102 eta: 1 day, 8:15:43 batch_cost: 0.4252 data_cost: 0.0007 ips: 9.4083 images/s\n",
            "[07/14 14:35:49] ppdet.engine INFO: Epoch: [10] [ 80/273] learning_rate: 0.000140 loss_xy: 3.356986 loss_wh: 4.648961 loss_iou: 12.009121 loss_iou_aware: 2.062208 loss_obj: 21.734394 loss_cls: 7.988650 loss: 51.839130 eta: 1 day, 8:15:26 batch_cost: 0.4254 data_cost: 0.0005 ips: 9.4029 images/s\n",
            "[07/14 14:35:59] ppdet.engine INFO: Epoch: [10] [100/273] learning_rate: 0.000141 loss_xy: 2.961792 loss_wh: 4.756511 loss_iou: 11.455964 loss_iou_aware: 1.962599 loss_obj: 21.789989 loss_cls: 7.189117 loss: 50.682354 eta: 1 day, 8:15:06 batch_cost: 0.4235 data_cost: 0.0010 ips: 9.4443 images/s\n",
            "[07/14 14:36:09] ppdet.engine INFO: Epoch: [10] [120/273] learning_rate: 0.000143 loss_xy: 3.115006 loss_wh: 6.276754 loss_iou: 13.657820 loss_iou_aware: 2.020914 loss_obj: 23.122009 loss_cls: 8.381516 loss: 58.346798 eta: 1 day, 8:15:19 batch_cost: 0.4411 data_cost: 0.0006 ips: 9.0688 images/s\n",
            "[07/14 14:36:19] ppdet.engine INFO: Epoch: [10] [140/273] learning_rate: 0.000144 loss_xy: 2.813508 loss_wh: 3.996629 loss_iou: 10.648531 loss_iou_aware: 1.927527 loss_obj: 23.948456 loss_cls: 7.549652 loss: 54.102036 eta: 1 day, 8:14:28 batch_cost: 0.4073 data_cost: 0.0011 ips: 9.8207 images/s\n",
            "[07/14 14:36:28] ppdet.engine INFO: Epoch: [10] [160/273] learning_rate: 0.000145 loss_xy: 2.225858 loss_wh: 3.806084 loss_iou: 9.218287 loss_iou_aware: 1.548863 loss_obj: 18.884619 loss_cls: 5.763658 loss: 41.609318 eta: 1 day, 8:13:28 batch_cost: 0.4024 data_cost: 0.0011 ips: 9.9397 images/s\n",
            "[07/14 14:36:38] ppdet.engine INFO: Epoch: [10] [180/273] learning_rate: 0.000146 loss_xy: 2.709990 loss_wh: 4.023972 loss_iou: 10.101846 loss_iou_aware: 1.768511 loss_obj: 21.404812 loss_cls: 6.455046 loss: 44.870537 eta: 1 day, 8:13:02 batch_cost: 0.4201 data_cost: 0.0013 ips: 9.5223 images/s\n",
            "[07/14 14:36:48] ppdet.engine INFO: Epoch: [10] [200/273] learning_rate: 0.000147 loss_xy: 3.075387 loss_wh: 4.596257 loss_iou: 10.918915 loss_iou_aware: 1.912798 loss_obj: 23.130140 loss_cls: 7.962124 loss: 51.291588 eta: 1 day, 8:12:55 batch_cost: 0.4305 data_cost: 0.0016 ips: 9.2922 images/s\n",
            "[07/14 14:36:58] ppdet.engine INFO: Epoch: [10] [220/273] learning_rate: 0.000148 loss_xy: 2.533209 loss_wh: 4.497207 loss_iou: 9.738667 loss_iou_aware: 1.743075 loss_obj: 21.025841 loss_cls: 6.776695 loss: 46.103348 eta: 1 day, 8:13:41 batch_cost: 0.4592 data_cost: 0.0014 ips: 8.7115 images/s\n",
            "[07/14 14:37:08] ppdet.engine INFO: Epoch: [10] [240/273] learning_rate: 0.000149 loss_xy: 3.166275 loss_wh: 5.256780 loss_iou: 13.102959 loss_iou_aware: 2.468998 loss_obj: 28.717352 loss_cls: 9.670561 loss: 63.262196 eta: 1 day, 8:13:36 batch_cost: 0.4312 data_cost: 0.0015 ips: 9.2764 images/s\n",
            "[07/14 14:37:18] ppdet.engine INFO: Epoch: [10] [260/273] learning_rate: 0.000150 loss_xy: 2.958185 loss_wh: 4.832116 loss_iou: 11.515122 loss_iou_aware: 1.895478 loss_obj: 21.004047 loss_cls: 7.656432 loss: 51.240326 eta: 1 day, 8:13:21 batch_cost: 0.4262 data_cost: 0.0016 ips: 9.3863 images/s\n",
            "[07/14 14:37:26] ppdet.engine INFO: Epoch: [11] [  0/273] learning_rate: 0.000150 loss_xy: 3.267688 loss_wh: 4.673022 loss_iou: 12.707031 loss_iou_aware: 2.075302 loss_obj: 22.661175 loss_cls: 7.882143 loss: 55.572746 eta: 1 day, 8:14:08 batch_cost: 0.4574 data_cost: 0.0083 ips: 8.7442 images/s\n",
            "[07/14 14:37:36] ppdet.engine INFO: Epoch: [11] [ 20/273] learning_rate: 0.000151 loss_xy: 3.643730 loss_wh: 6.259153 loss_iou: 13.700014 loss_iou_aware: 2.323929 loss_obj: 27.562731 loss_cls: 8.365588 loss: 63.415867 eta: 1 day, 8:13:55 batch_cost: 0.4273 data_cost: 0.0017 ips: 9.3616 images/s\n",
            "[07/14 14:37:45] ppdet.engine INFO: Epoch: [11] [ 40/273] learning_rate: 0.000152 loss_xy: 3.085550 loss_wh: 4.764855 loss_iou: 10.794598 loss_iou_aware: 1.880459 loss_obj: 23.516827 loss_cls: 7.349114 loss: 50.248253 eta: 1 day, 8:12:12 batch_cost: 0.3768 data_cost: 0.0016 ips: 10.6169 images/s\n",
            "[07/14 14:37:54] ppdet.engine INFO: Epoch: [11] [ 60/273] learning_rate: 0.000153 loss_xy: 3.256213 loss_wh: 5.340429 loss_iou: 12.165834 loss_iou_aware: 2.033521 loss_obj: 24.806313 loss_cls: 8.139204 loss: 57.617996 eta: 1 day, 8:11:41 batch_cost: 0.4165 data_cost: 0.0003 ips: 9.6044 images/s\n",
            "[07/14 14:38:05] ppdet.engine INFO: Epoch: [11] [ 80/273] learning_rate: 0.000154 loss_xy: 3.707052 loss_wh: 5.114789 loss_iou: 13.659387 loss_iou_aware: 2.370730 loss_obj: 26.317947 loss_cls: 8.097427 loss: 61.724884 eta: 1 day, 8:12:26 batch_cost: 0.4600 data_cost: 0.0030 ips: 8.6957 images/s\n",
            "[07/14 14:38:15] ppdet.engine INFO: Epoch: [11] [100/273] learning_rate: 0.000155 loss_xy: 3.027390 loss_wh: 6.255177 loss_iou: 13.164348 loss_iou_aware: 2.094335 loss_obj: 24.059345 loss_cls: 8.610980 loss: 57.007690 eta: 1 day, 8:11:34 batch_cost: 0.4046 data_cost: 0.0009 ips: 9.8871 images/s\n",
            "[07/14 14:38:25] ppdet.engine INFO: Epoch: [11] [120/273] learning_rate: 0.000156 loss_xy: 2.791742 loss_wh: 4.536141 loss_iou: 10.827754 loss_iou_aware: 1.707678 loss_obj: 20.612518 loss_cls: 6.491954 loss: 48.603516 eta: 1 day, 8:12:14 batch_cost: 0.4576 data_cost: 0.0010 ips: 8.7417 images/s\n",
            "[07/14 14:38:35] ppdet.engine INFO: Epoch: [11] [140/273] learning_rate: 0.000157 loss_xy: 3.255352 loss_wh: 6.179398 loss_iou: 13.617847 loss_iou_aware: 2.193886 loss_obj: 25.082970 loss_cls: 8.464568 loss: 59.766083 eta: 1 day, 8:11:41 batch_cost: 0.4157 data_cost: 0.0015 ips: 9.6232 images/s\n",
            "[07/14 14:38:45] ppdet.engine INFO: Epoch: [11] [160/273] learning_rate: 0.000158 loss_xy: 2.664632 loss_wh: 4.473586 loss_iou: 10.882498 loss_iou_aware: 1.908064 loss_obj: 23.298166 loss_cls: 6.890781 loss: 49.277611 eta: 1 day, 8:11:32 batch_cost: 0.4291 data_cost: 0.0021 ips: 9.3221 images/s\n",
            "[07/14 14:38:55] ppdet.engine INFO: Epoch: [11] [180/273] learning_rate: 0.000159 loss_xy: 2.461393 loss_wh: 4.602696 loss_iou: 9.441399 loss_iou_aware: 1.624447 loss_obj: 19.138153 loss_cls: 6.051482 loss: 41.233749 eta: 1 day, 8:11:35 batch_cost: 0.4363 data_cost: 0.0020 ips: 9.1686 images/s\n",
            "[07/14 14:39:04] ppdet.engine INFO: Epoch: [11] [200/273] learning_rate: 0.000160 loss_xy: 3.036912 loss_wh: 5.253632 loss_iou: 12.452360 loss_iou_aware: 2.336702 loss_obj: 26.021126 loss_cls: 8.251004 loss: 59.186562 eta: 1 day, 8:10:51 batch_cost: 0.4085 data_cost: 0.0012 ips: 9.7916 images/s\n",
            "[07/14 14:39:14] ppdet.engine INFO: Epoch: [11] [220/273] learning_rate: 0.000161 loss_xy: 2.567900 loss_wh: 4.495283 loss_iou: 9.363516 loss_iou_aware: 1.611968 loss_obj: 18.324974 loss_cls: 6.171981 loss: 43.478760 eta: 1 day, 8:10:26 batch_cost: 0.4194 data_cost: 0.0002 ips: 9.5365 images/s\n",
            "[07/14 14:39:24] ppdet.engine INFO: Epoch: [11] [240/273] learning_rate: 0.000162 loss_xy: 3.001951 loss_wh: 4.686152 loss_iou: 10.708076 loss_iou_aware: 2.039951 loss_obj: 20.312393 loss_cls: 7.443228 loss: 51.175892 eta: 1 day, 8:10:09 batch_cost: 0.4247 data_cost: 0.0023 ips: 9.4182 images/s\n",
            "[07/14 14:39:34] ppdet.engine INFO: Epoch: [11] [260/273] learning_rate: 0.000163 loss_xy: 4.200715 loss_wh: 5.234998 loss_iou: 14.479393 loss_iou_aware: 2.831675 loss_obj: 31.989695 loss_cls: 10.237864 loss: 69.829201 eta: 1 day, 8:10:16 batch_cost: 0.4387 data_cost: 0.0008 ips: 9.1185 images/s\n",
            "[07/14 14:39:41] ppdet.engine INFO: Epoch: [12] [  0/273] learning_rate: 0.000164 loss_xy: 3.641497 loss_wh: 5.016393 loss_iou: 13.472098 loss_iou_aware: 2.497692 loss_obj: 29.299086 loss_cls: 9.267632 loss: 66.268379 eta: 1 day, 8:10:20 batch_cost: 0.4101 data_cost: 0.0014 ips: 9.7534 images/s\n",
            "[07/14 14:39:51] ppdet.engine INFO: Epoch: [12] [ 20/273] learning_rate: 0.000165 loss_xy: 2.603193 loss_wh: 4.917442 loss_iou: 10.814386 loss_iou_aware: 2.026697 loss_obj: 22.453106 loss_cls: 7.084966 loss: 49.052078 eta: 1 day, 8:09:47 batch_cost: 0.4149 data_cost: 0.0017 ips: 9.6414 images/s\n",
            "[07/14 14:40:01] ppdet.engine INFO: Epoch: [12] [ 40/273] learning_rate: 0.000166 loss_xy: 2.510787 loss_wh: 3.745235 loss_iou: 9.967196 loss_iou_aware: 1.842828 loss_obj: 21.307665 loss_cls: 6.297499 loss: 48.560570 eta: 1 day, 8:09:46 batch_cost: 0.4339 data_cost: 0.0010 ips: 9.2180 images/s\n",
            "[07/14 14:40:10] ppdet.engine INFO: Epoch: [12] [ 60/273] learning_rate: 0.000167 loss_xy: 2.476633 loss_wh: 3.966000 loss_iou: 9.457268 loss_iou_aware: 1.622832 loss_obj: 22.200247 loss_cls: 7.511491 loss: 46.642784 eta: 1 day, 8:08:45 batch_cost: 0.3971 data_cost: 0.0011 ips: 10.0732 images/s\n",
            "[07/14 14:40:20] ppdet.engine INFO: Epoch: [12] [ 80/273] learning_rate: 0.000168 loss_xy: 2.968870 loss_wh: 4.811943 loss_iou: 11.832264 loss_iou_aware: 1.991341 loss_obj: 23.408308 loss_cls: 7.712289 loss: 52.355072 eta: 1 day, 8:09:16 batch_cost: 0.4535 data_cost: 0.0013 ips: 8.8206 images/s\n",
            "[07/14 14:40:31] ppdet.engine INFO: Epoch: [12] [100/273] learning_rate: 0.000169 loss_xy: 3.024010 loss_wh: 3.262753 loss_iou: 9.856665 loss_iou_aware: 2.016491 loss_obj: 20.366245 loss_cls: 7.450782 loss: 45.756798 eta: 1 day, 8:09:40 batch_cost: 0.4496 data_cost: 0.0017 ips: 8.8961 images/s\n",
            "[07/14 14:40:40] ppdet.engine INFO: Epoch: [12] [120/273] learning_rate: 0.000170 loss_xy: 2.225551 loss_wh: 3.492326 loss_iou: 9.389776 loss_iou_aware: 1.688316 loss_obj: 20.053215 loss_cls: 6.695832 loss: 43.213791 eta: 1 day, 8:09:05 batch_cost: 0.4128 data_cost: 0.0017 ips: 9.6892 images/s\n",
            "[07/14 14:40:49] ppdet.engine INFO: Epoch: [12] [140/273] learning_rate: 0.000171 loss_xy: 3.001858 loss_wh: 5.137652 loss_iou: 12.766218 loss_iou_aware: 2.084486 loss_obj: 23.857122 loss_cls: 8.233377 loss: 53.304871 eta: 1 day, 8:08:15 batch_cost: 0.4029 data_cost: 0.0008 ips: 9.9291 images/s\n",
            "[07/14 14:40:59] ppdet.engine INFO: Epoch: [12] [160/273] learning_rate: 0.000172 loss_xy: 3.257490 loss_wh: 6.809949 loss_iou: 14.391995 loss_iou_aware: 1.980927 loss_obj: 22.483715 loss_cls: 8.772736 loss: 60.614738 eta: 1 day, 8:07:25 batch_cost: 0.4030 data_cost: 0.0014 ips: 9.9251 images/s\n",
            "[07/14 14:41:08] ppdet.engine INFO: Epoch: [12] [180/273] learning_rate: 0.000173 loss_xy: 2.627046 loss_wh: 4.523753 loss_iou: 11.182559 loss_iou_aware: 1.846417 loss_obj: 21.923561 loss_cls: 7.674704 loss: 51.975243 eta: 1 day, 8:06:54 batch_cost: 0.4149 data_cost: 0.0011 ips: 9.6403 images/s\n",
            "[07/14 14:41:18] ppdet.engine INFO: Epoch: [12] [200/273] learning_rate: 0.000174 loss_xy: 2.962878 loss_wh: 4.389599 loss_iou: 11.076881 loss_iou_aware: 1.921907 loss_obj: 21.310169 loss_cls: 6.779379 loss: 46.708931 eta: 1 day, 8:06:47 batch_cost: 0.4294 data_cost: 0.0033 ips: 9.3156 images/s\n",
            "[07/14 14:41:28] ppdet.engine INFO: Epoch: [12] [220/273] learning_rate: 0.000175 loss_xy: 2.961718 loss_wh: 5.530697 loss_iou: 12.394226 loss_iou_aware: 2.128540 loss_obj: 26.389992 loss_cls: 8.549930 loss: 56.359940 eta: 1 day, 8:06:17 batch_cost: 0.4155 data_cost: 0.0024 ips: 9.6274 images/s\n",
            "[07/14 14:41:37] ppdet.engine INFO: Epoch: [12] [240/273] learning_rate: 0.000176 loss_xy: 3.316455 loss_wh: 5.134706 loss_iou: 13.330544 loss_iou_aware: 2.421766 loss_obj: 25.268322 loss_cls: 8.912952 loss: 60.180752 eta: 1 day, 8:05:27 batch_cost: 0.4018 data_cost: 0.0013 ips: 9.9552 images/s\n",
            "[07/14 14:41:48] ppdet.engine INFO: Epoch: [12] [260/273] learning_rate: 0.000177 loss_xy: 2.995204 loss_wh: 4.302986 loss_iou: 11.004320 loss_iou_aware: 2.038877 loss_obj: 24.909378 loss_cls: 7.295133 loss: 53.398445 eta: 1 day, 8:06:42 batch_cost: 0.4834 data_cost: 0.0024 ips: 8.2746 images/s\n",
            "[07/14 14:41:56] ppdet.engine INFO: Epoch: [13] [  0/273] learning_rate: 0.000177 loss_xy: 2.594623 loss_wh: 4.145417 loss_iou: 10.043134 loss_iou_aware: 1.775828 loss_obj: 21.157051 loss_cls: 6.451594 loss: 45.778931 eta: 1 day, 8:07:23 batch_cost: 0.5015 data_cost: 0.0034 ips: 7.9754 images/s\n",
            "[07/14 14:42:07] ppdet.engine INFO: Epoch: [13] [ 20/273] learning_rate: 0.000178 loss_xy: 2.448341 loss_wh: 4.262607 loss_iou: 9.168724 loss_iou_aware: 1.599593 loss_obj: 17.737482 loss_cls: 6.183418 loss: 41.837807 eta: 1 day, 8:07:42 batch_cost: 0.4473 data_cost: 0.0024 ips: 8.9423 images/s\n",
            "[07/14 14:42:17] ppdet.engine INFO: Epoch: [13] [ 40/273] learning_rate: 0.000179 loss_xy: 2.645050 loss_wh: 4.097862 loss_iou: 8.856309 loss_iou_aware: 1.652402 loss_obj: 19.725330 loss_cls: 5.484751 loss: 43.326973 eta: 1 day, 8:07:57 batch_cost: 0.4454 data_cost: 0.0006 ips: 8.9812 images/s\n",
            "[07/14 14:42:27] ppdet.engine INFO: Epoch: [13] [ 60/273] learning_rate: 0.000180 loss_xy: 2.725961 loss_wh: 4.059283 loss_iou: 10.541966 loss_iou_aware: 1.851620 loss_obj: 20.358200 loss_cls: 6.556714 loss: 47.024864 eta: 1 day, 8:08:28 batch_cost: 0.4557 data_cost: 0.0013 ips: 8.7779 images/s\n",
            "[07/14 14:42:36] ppdet.engine INFO: Epoch: [13] [ 80/273] learning_rate: 0.000181 loss_xy: 2.462974 loss_wh: 3.366819 loss_iou: 8.750631 loss_iou_aware: 1.710743 loss_obj: 19.194691 loss_cls: 6.073101 loss: 42.510670 eta: 1 day, 8:07:11 batch_cost: 0.3834 data_cost: 0.0005 ips: 10.4320 images/s\n",
            "[07/14 14:42:45] ppdet.engine INFO: Epoch: [13] [100/273] learning_rate: 0.000182 loss_xy: 2.955880 loss_wh: 4.814585 loss_iou: 11.107365 loss_iou_aware: 1.920726 loss_obj: 22.993469 loss_cls: 7.900375 loss: 51.411564 eta: 1 day, 8:06:10 batch_cost: 0.3939 data_cost: 0.0014 ips: 10.1539 images/s\n",
            "[07/14 14:42:56] ppdet.engine INFO: Epoch: [13] [120/273] learning_rate: 0.000183 loss_xy: 1.952500 loss_wh: 2.897486 loss_iou: 6.810010 loss_iou_aware: 1.396414 loss_obj: 16.224873 loss_cls: 4.944822 loss: 33.384735 eta: 1 day, 8:06:40 batch_cost: 0.4551 data_cost: 0.0012 ips: 8.7899 images/s\n",
            "[07/14 14:43:06] ppdet.engine INFO: Epoch: [13] [140/273] learning_rate: 0.000184 loss_xy: 2.438243 loss_wh: 4.087130 loss_iou: 9.305183 loss_iou_aware: 1.726008 loss_obj: 20.898460 loss_cls: 6.076489 loss: 45.646008 eta: 1 day, 8:06:29 batch_cost: 0.4279 data_cost: 0.0014 ips: 9.3471 images/s\n",
            "[07/14 14:43:15] ppdet.engine INFO: Epoch: [13] [160/273] learning_rate: 0.000185 loss_xy: 2.698849 loss_wh: 4.170514 loss_iou: 10.138285 loss_iou_aware: 1.626228 loss_obj: 18.960161 loss_cls: 6.445807 loss: 47.178288 eta: 1 day, 8:05:40 batch_cost: 0.4011 data_cost: 0.0016 ips: 9.9728 images/s\n",
            "[07/14 14:43:24] ppdet.engine INFO: Epoch: [13] [180/273] learning_rate: 0.000186 loss_xy: 2.755795 loss_wh: 5.517251 loss_iou: 12.124279 loss_iou_aware: 2.135974 loss_obj: 23.981213 loss_cls: 7.559206 loss: 54.057892 eta: 1 day, 8:04:49 batch_cost: 0.3999 data_cost: 0.0011 ips: 10.0024 images/s\n",
            "[07/14 14:43:35] ppdet.engine INFO: Epoch: [13] [200/273] learning_rate: 0.000187 loss_xy: 2.581489 loss_wh: 4.241261 loss_iou: 9.527713 loss_iou_aware: 1.686998 loss_obj: 20.156069 loss_cls: 6.474772 loss: 45.482353 eta: 1 day, 8:05:41 batch_cost: 0.4710 data_cost: 0.0006 ips: 8.4932 images/s\n",
            "[07/14 14:43:45] ppdet.engine INFO: Epoch: [13] [220/273] learning_rate: 0.000188 loss_xy: 2.692442 loss_wh: 4.022389 loss_iou: 9.799665 loss_iou_aware: 1.836581 loss_obj: 23.648249 loss_cls: 6.054728 loss: 49.099007 eta: 1 day, 8:05:20 batch_cost: 0.4203 data_cost: 0.0003 ips: 9.5159 images/s\n",
            "[07/14 14:43:54] ppdet.engine INFO: Epoch: [13] [240/273] learning_rate: 0.000189 loss_xy: 2.256745 loss_wh: 3.487505 loss_iou: 8.850016 loss_iou_aware: 1.610168 loss_obj: 19.147329 loss_cls: 6.064114 loss: 42.287819 eta: 1 day, 8:04:38 batch_cost: 0.4060 data_cost: 0.0016 ips: 9.8530 images/s\n",
            "[07/14 14:44:04] ppdet.engine INFO: Epoch: [13] [260/273] learning_rate: 0.000190 loss_xy: 2.942141 loss_wh: 5.886554 loss_iou: 12.736393 loss_iou_aware: 2.060452 loss_obj: 23.069365 loss_cls: 7.331312 loss: 59.105381 eta: 1 day, 8:05:04 batch_cost: 0.4532 data_cost: 0.0007 ips: 8.8266 images/s\n",
            "[07/14 14:44:12] ppdet.engine INFO: Epoch: [14] [  0/273] learning_rate: 0.000191 loss_xy: 2.997410 loss_wh: 5.219818 loss_iou: 11.967279 loss_iou_aware: 2.003301 loss_obj: 22.592880 loss_cls: 7.271874 loss: 54.135948 eta: 1 day, 8:04:53 batch_cost: 0.4381 data_cost: 0.0011 ips: 9.1296 images/s\n",
            "[07/14 14:44:21] ppdet.engine INFO: Epoch: [14] [ 20/273] learning_rate: 0.000192 loss_xy: 2.255508 loss_wh: 3.618444 loss_iou: 8.416312 loss_iou_aware: 1.561984 loss_obj: 17.981255 loss_cls: 5.913836 loss: 38.024693 eta: 1 day, 8:04:37 batch_cost: 0.4238 data_cost: 0.0012 ips: 9.4377 images/s\n",
            "[07/14 14:44:32] ppdet.engine INFO: Epoch: [14] [ 40/273] learning_rate: 0.000193 loss_xy: 3.039550 loss_wh: 4.352157 loss_iou: 11.774782 loss_iou_aware: 2.165198 loss_obj: 24.179039 loss_cls: 7.141903 loss: 54.270332 eta: 1 day, 8:05:43 batch_cost: 0.4826 data_cost: 0.0009 ips: 8.2877 images/s\n",
            "[07/14 14:44:42] ppdet.engine INFO: Epoch: [14] [ 60/273] learning_rate: 0.000194 loss_xy: 2.623898 loss_wh: 4.172137 loss_iou: 9.989583 loss_iou_aware: 1.800837 loss_obj: 20.496567 loss_cls: 6.960083 loss: 46.582474 eta: 1 day, 8:05:17 batch_cost: 0.4170 data_cost: 0.0019 ips: 9.5916 images/s\n",
            "[07/14 14:44:52] ppdet.engine INFO: Epoch: [14] [ 80/273] learning_rate: 0.000195 loss_xy: 3.062562 loss_wh: 4.542195 loss_iou: 10.666712 loss_iou_aware: 1.862388 loss_obj: 21.044859 loss_cls: 6.915566 loss: 46.179527 eta: 1 day, 8:05:06 batch_cost: 0.4275 data_cost: 0.0021 ips: 9.3567 images/s\n",
            "[07/14 14:45:01] ppdet.engine INFO: Epoch: [14] [100/273] learning_rate: 0.000196 loss_xy: 2.787057 loss_wh: 3.408642 loss_iou: 10.072704 loss_iou_aware: 1.705561 loss_obj: 20.591610 loss_cls: 6.680193 loss: 47.098339 eta: 1 day, 8:04:27 batch_cost: 0.4066 data_cost: 0.0015 ips: 9.8379 images/s\n",
            "[07/14 14:45:12] ppdet.engine INFO: Epoch: [14] [120/273] learning_rate: 0.000197 loss_xy: 2.874621 loss_wh: 4.474066 loss_iou: 10.983082 loss_iou_aware: 1.792769 loss_obj: 19.621689 loss_cls: 6.526296 loss: 46.169529 eta: 1 day, 8:04:48 batch_cost: 0.4506 data_cost: 0.0010 ips: 8.8773 images/s\n",
            "[07/14 14:45:22] ppdet.engine INFO: Epoch: [14] [140/273] learning_rate: 0.000198 loss_xy: 2.899421 loss_wh: 4.044442 loss_iou: 10.301816 loss_iou_aware: 1.797608 loss_obj: 19.937689 loss_cls: 6.759556 loss: 45.303104 eta: 1 day, 8:04:47 batch_cost: 0.4354 data_cost: 0.0019 ips: 9.1862 images/s\n",
            "[07/14 14:45:32] ppdet.engine INFO: Epoch: [14] [160/273] learning_rate: 0.000199 loss_xy: 2.997725 loss_wh: 4.601960 loss_iou: 11.368234 loss_iou_aware: 1.974571 loss_obj: 22.943962 loss_cls: 7.980364 loss: 50.267555 eta: 1 day, 8:04:41 batch_cost: 0.4308 data_cost: 0.0011 ips: 9.2861 images/s\n",
            "[07/14 14:45:42] ppdet.engine INFO: Epoch: [14] [180/273] learning_rate: 0.000200 loss_xy: 2.671166 loss_wh: 4.119654 loss_iou: 10.065881 loss_iou_aware: 1.859385 loss_obj: 20.678326 loss_cls: 6.559729 loss: 45.796394 eta: 1 day, 8:04:24 batch_cost: 0.4230 data_cost: 0.0016 ips: 9.4555 images/s\n",
            "[07/14 14:45:52] ppdet.engine INFO: Epoch: [14] [200/273] learning_rate: 0.000200 loss_xy: 3.136918 loss_wh: 4.862194 loss_iou: 12.008970 loss_iou_aware: 1.899845 loss_obj: 20.696606 loss_cls: 7.517061 loss: 49.644722 eta: 1 day, 8:04:28 batch_cost: 0.4391 data_cost: 0.0002 ips: 9.1102 images/s\n",
            "[07/14 14:46:02] ppdet.engine INFO: Epoch: [14] [220/273] learning_rate: 0.000200 loss_xy: 2.482907 loss_wh: 3.640637 loss_iou: 9.523453 loss_iou_aware: 1.660242 loss_obj: 18.302898 loss_cls: 6.069940 loss: 42.534657 eta: 1 day, 8:04:54 batch_cost: 0.4552 data_cost: 0.0005 ips: 8.7869 images/s\n",
            "[07/14 14:46:12] ppdet.engine INFO: Epoch: [14] [240/273] learning_rate: 0.000200 loss_xy: 2.657319 loss_wh: 3.745242 loss_iou: 9.633778 loss_iou_aware: 1.681425 loss_obj: 21.119205 loss_cls: 6.571586 loss: 45.548256 eta: 1 day, 8:04:37 batch_cost: 0.4226 data_cost: 0.0008 ips: 9.4656 images/s\n",
            "[07/14 14:46:22] ppdet.engine INFO: Epoch: [14] [260/273] learning_rate: 0.000200 loss_xy: 2.905011 loss_wh: 4.898943 loss_iou: 11.478935 loss_iou_aware: 1.993045 loss_obj: 22.472828 loss_cls: 7.246818 loss: 52.293625 eta: 1 day, 8:04:58 batch_cost: 0.4518 data_cost: 0.0020 ips: 8.8534 images/s\n",
            "[07/14 14:46:29] ppdet.engine INFO: Epoch: [15] [  0/273] learning_rate: 0.000200 loss_xy: 3.395108 loss_wh: 5.644771 loss_iou: 13.803607 loss_iou_aware: 2.366142 loss_obj: 25.441605 loss_cls: 9.129442 loss: 60.448147 eta: 1 day, 8:04:29 batch_cost: 0.4353 data_cost: 0.0009 ips: 9.1885 images/s\n",
            "[07/14 14:46:39] ppdet.engine INFO: Epoch: [15] [ 20/273] learning_rate: 0.000200 loss_xy: 2.544373 loss_wh: 4.248314 loss_iou: 8.881094 loss_iou_aware: 1.641799 loss_obj: 17.558025 loss_cls: 6.409585 loss: 42.511982 eta: 1 day, 8:03:59 batch_cost: 0.4126 data_cost: 0.0019 ips: 9.6946 images/s\n",
            "[07/14 14:46:48] ppdet.engine INFO: Epoch: [15] [ 40/273] learning_rate: 0.000200 loss_xy: 2.951304 loss_wh: 4.047644 loss_iou: 10.872631 loss_iou_aware: 2.132042 loss_obj: 24.031563 loss_cls: 8.066772 loss: 51.057076 eta: 1 day, 8:02:53 batch_cost: 0.3857 data_cost: 0.0010 ips: 10.3711 images/s\n",
            "[07/14 14:46:58] ppdet.engine INFO: Epoch: [15] [ 60/273] learning_rate: 0.000200 loss_xy: 2.876076 loss_wh: 3.992545 loss_iou: 10.250780 loss_iou_aware: 1.935165 loss_obj: 23.410748 loss_cls: 7.591413 loss: 52.449051 eta: 1 day, 8:03:02 batch_cost: 0.4428 data_cost: 0.0009 ips: 9.0338 images/s\n",
            "[07/14 14:47:07] ppdet.engine INFO: Epoch: [15] [ 80/273] learning_rate: 0.000200 loss_xy: 2.417376 loss_wh: 3.633106 loss_iou: 9.719193 loss_iou_aware: 1.700583 loss_obj: 19.427717 loss_cls: 6.445097 loss: 43.337349 eta: 1 day, 8:02:23 batch_cost: 0.4053 data_cost: 0.0018 ips: 9.8687 images/s\n",
            "[07/14 14:47:18] ppdet.engine INFO: Epoch: [15] [100/273] learning_rate: 0.000200 loss_xy: 2.704296 loss_wh: 4.887627 loss_iou: 12.303293 loss_iou_aware: 2.001812 loss_obj: 23.310122 loss_cls: 7.864008 loss: 54.094612 eta: 1 day, 8:02:51 batch_cost: 0.4577 data_cost: 0.0013 ips: 8.7397 images/s\n",
            "[07/14 14:47:28] ppdet.engine INFO: Epoch: [15] [120/273] learning_rate: 0.000200 loss_xy: 2.953423 loss_wh: 5.568606 loss_iou: 11.641241 loss_iou_aware: 1.841440 loss_obj: 21.439278 loss_cls: 7.467833 loss: 48.409996 eta: 1 day, 8:03:37 batch_cost: 0.4717 data_cost: 0.0009 ips: 8.4806 images/s\n",
            "[07/14 14:47:39] ppdet.engine INFO: Epoch: [15] [140/273] learning_rate: 0.000200 loss_xy: 2.387330 loss_wh: 3.665323 loss_iou: 8.768594 loss_iou_aware: 1.720968 loss_obj: 19.572784 loss_cls: 5.855282 loss: 43.582512 eta: 1 day, 8:04:05 batch_cost: 0.4582 data_cost: 0.0010 ips: 8.7307 images/s\n",
            "[07/14 14:47:48] ppdet.engine INFO: Epoch: [15] [160/273] learning_rate: 0.000200 loss_xy: 2.787599 loss_wh: 5.103413 loss_iou: 10.664133 loss_iou_aware: 1.790844 loss_obj: 20.688679 loss_cls: 7.196516 loss: 49.263390 eta: 1 day, 8:03:41 batch_cost: 0.4180 data_cost: 0.0011 ips: 9.5690 images/s\n",
            "[07/14 14:47:58] ppdet.engine INFO: Epoch: [15] [180/273] learning_rate: 0.000200 loss_xy: 3.190947 loss_wh: 5.001041 loss_iou: 11.824682 loss_iou_aware: 2.050169 loss_obj: 23.789841 loss_cls: 8.173735 loss: 55.537308 eta: 1 day, 8:03:07 batch_cost: 0.4090 data_cost: 0.0010 ips: 9.7807 images/s\n",
            "[07/14 14:48:09] ppdet.engine INFO: Epoch: [15] [200/273] learning_rate: 0.000200 loss_xy: 2.670774 loss_wh: 4.409692 loss_iou: 10.734987 loss_iou_aware: 1.774737 loss_obj: 19.673479 loss_cls: 7.532238 loss: 47.432991 eta: 1 day, 8:04:32 batch_cost: 0.5038 data_cost: 0.0002 ips: 7.9397 images/s\n",
            "[07/14 14:48:20] ppdet.engine INFO: Epoch: [15] [220/273] learning_rate: 0.000200 loss_xy: 3.112569 loss_wh: 4.876488 loss_iou: 12.147809 loss_iou_aware: 1.992365 loss_obj: 21.941713 loss_cls: 7.269962 loss: 53.259003 eta: 1 day, 8:05:02 batch_cost: 0.4614 data_cost: 0.0014 ips: 8.6695 images/s\n",
            "[07/14 14:48:29] ppdet.engine INFO: Epoch: [15] [240/273] learning_rate: 0.000200 loss_xy: 2.935771 loss_wh: 4.459189 loss_iou: 11.075030 loss_iou_aware: 2.103875 loss_obj: 24.607483 loss_cls: 7.617810 loss: 52.924389 eta: 1 day, 8:04:41 batch_cost: 0.4197 data_cost: 0.0007 ips: 9.5315 images/s\n",
            "[07/14 14:48:40] ppdet.engine INFO: Epoch: [15] [260/273] learning_rate: 0.000200 loss_xy: 2.789292 loss_wh: 3.987554 loss_iou: 9.946918 loss_iou_aware: 1.898709 loss_obj: 22.261082 loss_cls: 6.512731 loss: 46.672401 eta: 1 day, 8:05:56 batch_cost: 0.4973 data_cost: 0.0013 ips: 8.0436 images/s\n",
            "[07/14 14:48:52] ppdet.utils.checkpoint INFO: Save checkpoint: output/ppyolo_r50vd_dcn_1x_coco\n",
            "[07/14 14:48:53] ppdet.engine INFO: Epoch: [16] [  0/273] learning_rate: 0.000200 loss_xy: 2.192523 loss_wh: 3.886626 loss_iou: 9.075418 loss_iou_aware: 1.666619 loss_obj: 20.235649 loss_cls: 5.846521 loss: 43.146976 eta: 1 day, 8:05:57 batch_cost: 0.4590 data_cost: 0.0007 ips: 8.7139 images/s\n",
            "[07/14 14:49:04] ppdet.engine INFO: Epoch: [16] [ 20/273] learning_rate: 0.000200 loss_xy: 2.684134 loss_wh: 4.196971 loss_iou: 10.687670 loss_iou_aware: 1.940752 loss_obj: 22.175777 loss_cls: 6.983993 loss: 48.467995 eta: 1 day, 8:05:57 batch_cost: 0.4372 data_cost: 0.0022 ips: 9.1494 images/s\n",
            "[07/14 14:49:13] ppdet.engine INFO: Epoch: [16] [ 40/273] learning_rate: 0.000200 loss_xy: 2.481374 loss_wh: 3.636934 loss_iou: 8.460510 loss_iou_aware: 1.654327 loss_obj: 20.097721 loss_cls: 6.478600 loss: 43.000198 eta: 1 day, 8:05:38 batch_cost: 0.4211 data_cost: 0.0004 ips: 9.4990 images/s\n",
            "Traceback (most recent call last):\n",
            "  File \"tools/train.py\", line 140, in <module>\n",
            "    main()\n",
            "  File \"tools/train.py\", line 136, in main\n",
            "    run(FLAGS, cfg)\n",
            "  File \"tools/train.py\", line 111, in run\n",
            "    trainer.train(FLAGS.eval)\n",
            "  File \"/usr/local/lib/python3.7/dist-packages/ppdet/engine/trainer.py\", line 307, in train\n",
            "    outputs = model(data)\n",
            "  File \"/usr/local/lib/python3.7/dist-packages/paddle/fluid/dygraph/layers.py\", line 898, in __call__\n",
            "    outputs = self.forward(*inputs, **kwargs)\n",
            "  File \"/usr/local/lib/python3.7/dist-packages/ppdet/modeling/architectures/meta_arch.py\", line 27, in forward\n",
            "    out = self.get_loss()\n",
            "  File \"/usr/local/lib/python3.7/dist-packages/ppdet/modeling/architectures/yolo.py\", line 101, in get_loss\n",
            "    return self._forward()\n",
            "  File \"/usr/local/lib/python3.7/dist-packages/ppdet/modeling/architectures/yolo.py\", line 64, in _forward\n",
            "    neck_feats = self.neck(body_feats, self.for_mot)\n",
            "  File \"/usr/local/lib/python3.7/dist-packages/paddle/fluid/dygraph/layers.py\", line 898, in __call__\n",
            "    outputs = self.forward(*inputs, **kwargs)\n",
            "  File \"/usr/local/lib/python3.7/dist-packages/ppdet/modeling/necks/yolo_fpn.py\", line 683, in forward\n",
            "    route, tip = self.yolo_blocks[i](block)\n",
            "  File \"/usr/local/lib/python3.7/dist-packages/paddle/fluid/dygraph/layers.py\", line 898, in __call__\n",
            "    outputs = self.forward(*inputs, **kwargs)\n",
            "  File \"/usr/local/lib/python3.7/dist-packages/ppdet/modeling/necks/yolo_fpn.py\", line 285, in forward\n",
            "    route = self.conv_module(inputs)\n",
            "  File \"/usr/local/lib/python3.7/dist-packages/paddle/fluid/dygraph/layers.py\", line 898, in __call__\n",
            "    outputs = self.forward(*inputs, **kwargs)\n",
            "  File \"/usr/local/lib/python3.7/dist-packages/paddle/fluid/dygraph/container.py\", line 97, in forward\n",
            "    input = layer(input)\n",
            "  File \"/usr/local/lib/python3.7/dist-packages/paddle/fluid/dygraph/layers.py\", line 898, in __call__\n",
            "    outputs = self.forward(*inputs, **kwargs)\n",
            "  File \"/usr/local/lib/python3.7/dist-packages/ppdet/modeling/necks/yolo_fpn.py\", line 205, in forward\n",
            "    matrix = paddle.cast(paddle.rand(x.shape, x.dtype) < gamma, x.dtype)\n",
            "  File \"/usr/local/lib/python3.7/dist-packages/paddle/tensor/random.py\", line 722, in rand\n",
            "    return uniform(shape, dtype, min=0.0, max=1.0, name=name)\n",
            "  File \"/usr/local/lib/python3.7/dist-packages/paddle/tensor/random.py\", line 502, in uniform\n",
            "    float(max), 'seed', seed, 'dtype', dtype)\n",
            "KeyboardInterrupt\n"
          ],
          "name": "stdout"
        }
      ]
    },
    {
      "cell_type": "code",
      "metadata": {
        "colab": {
          "base_uri": "https://localhost:8080/"
        },
        "id": "IZ-uH5-yHY7g",
        "outputId": "d413f67c-5b9d-44cd-aa3c-0cfeab09ce3c"
      },
      "source": [
        "# Prediction\n",
        "!python tools/infer.py -c configs/ppyolo/ppyolo_r50vd_dcn_1x_coco.yml --infer_img=/content/gdrive/MyDrive/PP-Yolo_custom/PaddleDetection/dataset/coco/images_2/train_images/COCO_train2014_000000377432.jpg -o weights=output/ppyolo_r50vd_dcn_1x_coco/527.pdparams --draw_threshold=0.1\n"
      ],
      "execution_count": null,
      "outputs": [
        {
          "output_type": "stream",
          "text": [
            "/usr/local/lib/python3.7/dist-packages/IPython/utils/module_paths.py:29: DeprecationWarning: the imp module is deprecated in favour of importlib; see the module's documentation for alternative uses\n",
            "  import imp\n",
            "/usr/local/lib/python3.7/dist-packages/yaml/constructor.py:126: DeprecationWarning: Using or importing the ABCs from 'collections' instead of from 'collections.abc' is deprecated since Python 3.3,and in 3.9 it will stop working\n",
            "  if not isinstance(key, collections.Hashable):\n",
            "W0712 07:51:12.553920  1015 device_context.cc:404] Please NOTE: device: 0, GPU Compute Capability: 7.5, Driver API Version: 11.2, Runtime API Version: 10.1\n",
            "W0712 07:51:12.557762  1015 device_context.cc:422] device: 0, cuDNN Version: 7.6.\n",
            "[07/12 07:51:16] ppdet.utils.checkpoint INFO: Finish loading model weights: output/ppyolo_r50vd_dcn_1x_coco/527.pdparams\n",
            "loading annotations into memory...\n",
            "Done (t=0.02s)\n",
            "creating index...\n",
            "index created!\n",
            "[07/12 07:51:16] ppdet.engine INFO: Detection bbox results save in output/COCO_train2014_000000377432.jpg\n"
          ],
          "name": "stdout"
        }
      ]
    },
    {
      "cell_type": "code",
      "metadata": {
        "colab": {
          "base_uri": "https://localhost:8080/"
        },
        "id": "MnZ8GCpJHgxM",
        "outputId": "91b86160-477a-46d2-c95c-024b4427f007"
      },
      "source": [
        "!nvidia-smi"
      ],
      "execution_count": 1,
      "outputs": [
        {
          "output_type": "stream",
          "text": [
            "Wed Jul 14 12:46:50 2021       \n",
            "+-----------------------------------------------------------------------------+\n",
            "| NVIDIA-SMI 470.42.01    Driver Version: 460.32.03    CUDA Version: 11.2     |\n",
            "|-------------------------------+----------------------+----------------------+\n",
            "| GPU  Name        Persistence-M| Bus-Id        Disp.A | Volatile Uncorr. ECC |\n",
            "| Fan  Temp  Perf  Pwr:Usage/Cap|         Memory-Usage | GPU-Util  Compute M. |\n",
            "|                               |                      |               MIG M. |\n",
            "|===============================+======================+======================|\n",
            "|   0  Tesla T4            Off  | 00000000:00:04.0 Off |                    0 |\n",
            "| N/A   38C    P8     9W /  70W |      0MiB / 15109MiB |      0%      Default |\n",
            "|                               |                      |                  N/A |\n",
            "+-------------------------------+----------------------+----------------------+\n",
            "                                                                               \n",
            "+-----------------------------------------------------------------------------+\n",
            "| Processes:                                                                  |\n",
            "|  GPU   GI   CI        PID   Type   Process name                  GPU Memory |\n",
            "|        ID   ID                                                   Usage      |\n",
            "|=============================================================================|\n",
            "|  No running processes found                                                 |\n",
            "+-----------------------------------------------------------------------------+\n"
          ],
          "name": "stdout"
        }
      ]
    },
    {
      "cell_type": "code",
      "metadata": {
        "id": "RSussvW_QhPp",
        "colab": {
          "base_uri": "https://localhost:8080/"
        },
        "outputId": "1805fa62-026d-467b-e141-27a7f6750c3d"
      },
      "source": [
        "%cd /content"
      ],
      "execution_count": null,
      "outputs": [
        {
          "output_type": "stream",
          "text": [
            "/content\n"
          ],
          "name": "stdout"
        }
      ]
    }
  ]
}